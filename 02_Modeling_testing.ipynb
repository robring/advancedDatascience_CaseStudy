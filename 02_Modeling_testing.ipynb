{
 "cells": [
  {
   "cell_type": "markdown",
   "metadata": {},
   "source": [
    "## Setup"
   ]
  },
  {
   "cell_type": "code",
   "execution_count": 25,
   "metadata": {},
   "outputs": [],
   "source": [
    "from functions import Model, get99, splitData, dropMissingValues, z_score, outliers_knn, outliers_dbscan, getNoise, getRelFeatures, drop_features, getCombinations, get_unique_list, bold, blue, red, green, getBestModel, np_to_df, df_to_np, drop99_all, z_score_individual, train_test_to_df, loadModel\n",
    "import pandas as pd\n",
    "import warnings\n",
    "import matplotlib.pyplot as plt\n",
    "from sklearn.preprocessing import StandardScaler\n",
    "from sklearn.linear_model import Lasso\n",
    "\n",
    "warnings.filterwarnings('ignore')\n"
   ]
  },
  {
   "cell_type": "markdown",
   "metadata": {},
   "source": [
    "## Testdata"
   ]
  },
  {
   "cell_type": "markdown",
   "metadata": {},
   "source": [
    "Get Test Data from CSV"
   ]
  },
  {
   "cell_type": "code",
   "execution_count": 26,
   "metadata": {},
   "outputs": [],
   "source": [
    "#Get test Data\n",
    "NAME_TEST_FILE = \"house_data_testing\"\n",
    "df_test_data = pd.read_csv(\"data/csv/\"+NAME_TEST_FILE+\".csv\", sep=';') \n",
    "\n",
    "# remove unnamed column\n",
    "df_test_data = df_test_data.iloc[:, 1:]\n",
    "\n",
    "#Transform string to datetime\n",
    "# try: \n",
    "#     df_test_data[\"date\"] = pd.to_datetime(df_test_data[\"date\"])\n",
    "# except Exception as e:\n",
    "#     print(\"Error: Trying to convert to date\")"
   ]
  },
  {
   "cell_type": "markdown",
   "metadata": {},
   "source": [
    "Drop Missing Values"
   ]
  },
  {
   "cell_type": "code",
   "execution_count": 27,
   "metadata": {},
   "outputs": [
    {
     "name": "stdout",
     "output_type": "stream",
     "text": [
      "There are \u001b[36m8\u001b[0m Missing Values\n"
     ]
    }
   ],
   "source": [
    "print(f'There are {blue(df_test_data.isnull().sum().sum())} Missing Values')\n",
    "df_test_data = dropMissingValues(df_test_data) "
   ]
  },
  {
   "cell_type": "markdown",
   "metadata": {},
   "source": [
    "Drop Values with 999..99 "
   ]
  },
  {
   "cell_type": "code",
   "execution_count": 28,
   "metadata": {},
   "outputs": [
    {
     "name": "stdout",
     "output_type": "stream",
     "text": [
      "\u001b[32m99s dropped\u001b[0m \n",
      "\n"
     ]
    }
   ],
   "source": [
    "try:\n",
    "    outlier_list_99 = get99(df_test_data) \n",
    "    df_test_data = drop99_all(df_test_data, outlier_list_99)\n",
    "    print(green('99s dropped'), \"\\n\")\n",
    "except Exception as e:\n",
    "    pass"
   ]
  },
  {
   "cell_type": "code",
   "execution_count": 29,
   "metadata": {},
   "outputs": [
    {
     "name": "stdout",
     "output_type": "stream",
     "text": [
      "<class 'pandas.core.frame.DataFrame'>\n",
      "Int64Index: 597 entries, 0 to 613\n",
      "Data columns (total 25 columns):\n",
      " #   Column         Non-Null Count  Dtype  \n",
      "---  ------         --------------  -----  \n",
      " 0   id             597 non-null    int64  \n",
      " 1   date           597 non-null    object \n",
      " 2   price          597 non-null    float64\n",
      " 3   bedrooms       597 non-null    int64  \n",
      " 4   bathrooms      597 non-null    float64\n",
      " 5   sqft_living    597 non-null    int64  \n",
      " 6   sqft_lot       597 non-null    int64  \n",
      " 7   floors         597 non-null    float64\n",
      " 8   waterfront     597 non-null    float64\n",
      " 9   dis_super      597 non-null    float64\n",
      " 10  view           597 non-null    float64\n",
      " 11  condition      597 non-null    float64\n",
      " 12  grade          597 non-null    float64\n",
      " 13  sqft_above     597 non-null    float64\n",
      " 14  sqft_basement  597 non-null    float64\n",
      " 15  yr_built       597 non-null    float64\n",
      " 16  yr_renovated   597 non-null    int64  \n",
      " 17  zipcode        597 non-null    int64  \n",
      " 18  lat            597 non-null    float64\n",
      " 19  long           597 non-null    float64\n",
      " 20  sqft_living15  597 non-null    int64  \n",
      " 21  sqft_lot15     597 non-null    int64  \n",
      " 22  ahf1           597 non-null    float64\n",
      " 23  ahf2           597 non-null    float64\n",
      " 24  ahf3           597 non-null    float64\n",
      "dtypes: float64(16), int64(8), object(1)\n",
      "memory usage: 121.3+ KB\n"
     ]
    }
   ],
   "source": [
    "df_test_data.info()"
   ]
  },
  {
   "cell_type": "markdown",
   "metadata": {},
   "source": [
    "##"
   ]
  },
  {
   "cell_type": "markdown",
   "metadata": {},
   "source": [
    "## Model"
   ]
  },
  {
   "cell_type": "markdown",
   "metadata": {},
   "source": [
    "Get saved Model from Grid-Search"
   ]
  },
  {
   "cell_type": "code",
   "execution_count": 30,
   "metadata": {},
   "outputs": [
    {
     "name": "stdout",
     "output_type": "stream",
     "text": [
      "\u001b[1mModel:\u001b[0m \u001b[36mGradientBoostingRegressor(random_state=1)\u001b[0m \u001b[1mCombination:\u001b[0m \u001b[36m('z_score_10.1', 'noise_5_5_10')\u001b[0m \u001b[1mFeatures:\u001b[0m \u001b[36m23\u001b[0m\n"
     ]
    }
   ],
   "source": [
    "model_obj = loadModel()"
   ]
  },
  {
   "cell_type": "markdown",
   "metadata": {},
   "source": [
    "Making sure Shapes are similar"
   ]
  },
  {
   "cell_type": "code",
   "execution_count": 31,
   "metadata": {},
   "outputs": [
    {
     "name": "stdout",
     "output_type": "stream",
     "text": [
      "Training Data Features: \u001b[36m23\u001b[0m\n",
      "Testing Data Features: \u001b[36m25\u001b[0m\n",
      "Features to drop from Testdata: \u001b[31m['price', 'date']\u001b[0m\n"
     ]
    }
   ],
   "source": [
    "print(f'Training Data Features: {blue(len(model_obj.get_features()))}')\n",
    "print(f'Testing Data Features: {blue(len(df_test_data.columns.to_list()))}')\n",
    "\n",
    "features_to_drop = list(set(df_test_data.columns.to_list()) - set(model_obj.get_features()))\n",
    "print(f'Features to drop from Testdata: {red(features_to_drop)}')"
   ]
  },
  {
   "cell_type": "markdown",
   "metadata": {},
   "source": [
    "Integrate test Data into Model"
   ]
  },
  {
   "cell_type": "code",
   "execution_count": 32,
   "metadata": {},
   "outputs": [
    {
     "name": "stdout",
     "output_type": "stream",
     "text": [
      "\u001b[1mMAE: \u001b[0m \u001b[36m72151.81\u001b[0m\n"
     ]
    }
   ],
   "source": [
    "X_train, X_test, y_train, y_test = model_obj.get_data()\n",
    "\n",
    "#Drop Features\n",
    "X_test, y_test = df_test_data.drop(columns=features_to_drop), df_test_data[\"price\"]\n",
    "\n",
    "#Tranform Test-Data\n",
    "if isinstance(model_obj.get_model(), Lasso) == True:\n",
    "    scaler = StandardScaler().fit(X_test)\n",
    "    X_test = scaler.transform(X_test)\n",
    "\n",
    "model_obj.set_data(X_train, X_test, y_train, y_test)\n",
    "\n",
    "#Train Model\n",
    "model_obj.train()\n",
    "\n",
    "#Predict\n",
    "mae, score = model_obj.summary()\n",
    "predictions = model_obj.pred()\n",
    "print(bold(\"MAE: \"), blue(mae))"
   ]
  },
  {
   "cell_type": "code",
   "execution_count": 33,
   "metadata": {},
   "outputs": [
    {
     "data": {
      "text/html": [
       "<div>\n",
       "<style scoped>\n",
       "    .dataframe tbody tr th:only-of-type {\n",
       "        vertical-align: middle;\n",
       "    }\n",
       "\n",
       "    .dataframe tbody tr th {\n",
       "        vertical-align: top;\n",
       "    }\n",
       "\n",
       "    .dataframe thead th {\n",
       "        text-align: right;\n",
       "    }\n",
       "</style>\n",
       "<table border=\"1\" class=\"dataframe\">\n",
       "  <thead>\n",
       "    <tr style=\"text-align: right;\">\n",
       "      <th></th>\n",
       "      <th>0</th>\n",
       "      <th>1</th>\n",
       "      <th>2</th>\n",
       "      <th>3</th>\n",
       "      <th>4</th>\n",
       "      <th>5</th>\n",
       "      <th>6</th>\n",
       "      <th>7</th>\n",
       "      <th>8</th>\n",
       "      <th>9</th>\n",
       "      <th>...</th>\n",
       "      <th>604</th>\n",
       "      <th>605</th>\n",
       "      <th>606</th>\n",
       "      <th>607</th>\n",
       "      <th>608</th>\n",
       "      <th>609</th>\n",
       "      <th>610</th>\n",
       "      <th>611</th>\n",
       "      <th>612</th>\n",
       "      <th>613</th>\n",
       "    </tr>\n",
       "  </thead>\n",
       "  <tbody>\n",
       "    <tr>\n",
       "      <th>price</th>\n",
       "      <td>336000.000000</td>\n",
       "      <td>1.600000e+06</td>\n",
       "      <td>460000.000000</td>\n",
       "      <td>998500.000000</td>\n",
       "      <td>745000.000000</td>\n",
       "      <td>325000.000000</td>\n",
       "      <td>810000.000000</td>\n",
       "      <td>677000.000000</td>\n",
       "      <td>600000.000000</td>\n",
       "      <td>412450.000000</td>\n",
       "      <td>...</td>\n",
       "      <td>473000.000000</td>\n",
       "      <td>343566.000000</td>\n",
       "      <td>550000.000000</td>\n",
       "      <td>387500.000000</td>\n",
       "      <td>500000.000000</td>\n",
       "      <td>739000.00000</td>\n",
       "      <td>710000.000000</td>\n",
       "      <td>475000.000000</td>\n",
       "      <td>340000.000000</td>\n",
       "      <td>475000.000000</td>\n",
       "    </tr>\n",
       "    <tr>\n",
       "      <th>price_pred</th>\n",
       "      <td>315324.875295</td>\n",
       "      <td>1.295648e+06</td>\n",
       "      <td>460749.622676</td>\n",
       "      <td>732822.749028</td>\n",
       "      <td>711554.174867</td>\n",
       "      <td>289639.558829</td>\n",
       "      <td>749123.525508</td>\n",
       "      <td>611437.518327</td>\n",
       "      <td>607773.528837</td>\n",
       "      <td>545745.344155</td>\n",
       "      <td>...</td>\n",
       "      <td>558119.697857</td>\n",
       "      <td>288119.248524</td>\n",
       "      <td>542953.680056</td>\n",
       "      <td>442539.549915</td>\n",
       "      <td>665955.291225</td>\n",
       "      <td>701865.22759</td>\n",
       "      <td>596984.356764</td>\n",
       "      <td>474855.451188</td>\n",
       "      <td>392743.644155</td>\n",
       "      <td>454203.146228</td>\n",
       "    </tr>\n",
       "    <tr>\n",
       "      <th>diff</th>\n",
       "      <td>20675.124705</td>\n",
       "      <td>3.043519e+05</td>\n",
       "      <td>-749.622676</td>\n",
       "      <td>265677.250972</td>\n",
       "      <td>33445.825133</td>\n",
       "      <td>35360.441171</td>\n",
       "      <td>60876.474492</td>\n",
       "      <td>65562.481673</td>\n",
       "      <td>-7773.528837</td>\n",
       "      <td>-133295.344155</td>\n",
       "      <td>...</td>\n",
       "      <td>-85119.697857</td>\n",
       "      <td>55446.751476</td>\n",
       "      <td>7046.319944</td>\n",
       "      <td>-55039.549915</td>\n",
       "      <td>-165955.291225</td>\n",
       "      <td>37134.77241</td>\n",
       "      <td>113015.643236</td>\n",
       "      <td>144.548812</td>\n",
       "      <td>-52743.644155</td>\n",
       "      <td>20796.853772</td>\n",
       "    </tr>\n",
       "  </tbody>\n",
       "</table>\n",
       "<p>3 rows × 597 columns</p>\n",
       "</div>"
      ],
      "text/plain": [
       "                      0             1              2              3    \\\n",
       "price       336000.000000  1.600000e+06  460000.000000  998500.000000   \n",
       "price_pred  315324.875295  1.295648e+06  460749.622676  732822.749028   \n",
       "diff         20675.124705  3.043519e+05    -749.622676  265677.250972   \n",
       "\n",
       "                      4              5              6              7    \\\n",
       "price       745000.000000  325000.000000  810000.000000  677000.000000   \n",
       "price_pred  711554.174867  289639.558829  749123.525508  611437.518327   \n",
       "diff         33445.825133   35360.441171   60876.474492   65562.481673   \n",
       "\n",
       "                      8              9    ...            604            605  \\\n",
       "price       600000.000000  412450.000000  ...  473000.000000  343566.000000   \n",
       "price_pred  607773.528837  545745.344155  ...  558119.697857  288119.248524   \n",
       "diff         -7773.528837 -133295.344155  ...  -85119.697857   55446.751476   \n",
       "\n",
       "                      606            607            608           609  \\\n",
       "price       550000.000000  387500.000000  500000.000000  739000.00000   \n",
       "price_pred  542953.680056  442539.549915  665955.291225  701865.22759   \n",
       "diff          7046.319944  -55039.549915 -165955.291225   37134.77241   \n",
       "\n",
       "                      610            611            612            613  \n",
       "price       710000.000000  475000.000000  340000.000000  475000.000000  \n",
       "price_pred  596984.356764  474855.451188  392743.644155  454203.146228  \n",
       "diff        113015.643236     144.548812  -52743.644155   20796.853772  \n",
       "\n",
       "[3 rows x 597 columns]"
      ]
     },
     "execution_count": 33,
     "metadata": {},
     "output_type": "execute_result"
    }
   ],
   "source": [
    "#Evaluate\n",
    "df_test_data[\"price_pred\"]  = predictions\n",
    "df_test_data[\"diff\"] = df_test_data[\"price\"]  - df_test_data[\"price_pred\"]  \n",
    "df_test_data.loc[:, [\"price\", \"price_pred\", \"diff\"]].T"
   ]
  },
  {
   "cell_type": "code",
   "execution_count": 34,
   "metadata": {},
   "outputs": [
    {
     "data": {
      "text/html": [
       "<div>\n",
       "<style scoped>\n",
       "    .dataframe tbody tr th:only-of-type {\n",
       "        vertical-align: middle;\n",
       "    }\n",
       "\n",
       "    .dataframe tbody tr th {\n",
       "        vertical-align: top;\n",
       "    }\n",
       "\n",
       "    .dataframe thead th {\n",
       "        text-align: right;\n",
       "    }\n",
       "</style>\n",
       "<table border=\"1\" class=\"dataframe\">\n",
       "  <thead>\n",
       "    <tr style=\"text-align: right;\">\n",
       "      <th></th>\n",
       "      <th>count</th>\n",
       "      <th>mean</th>\n",
       "      <th>std</th>\n",
       "      <th>min</th>\n",
       "      <th>25%</th>\n",
       "      <th>50%</th>\n",
       "      <th>75%</th>\n",
       "      <th>max</th>\n",
       "    </tr>\n",
       "  </thead>\n",
       "  <tbody>\n",
       "    <tr>\n",
       "      <th>price</th>\n",
       "      <td>597.0</td>\n",
       "      <td>524302.234506</td>\n",
       "      <td>320020.109169</td>\n",
       "      <td>17500.000000</td>\n",
       "      <td>332100.000000</td>\n",
       "      <td>465425.000000</td>\n",
       "      <td>625000.000000</td>\n",
       "      <td>2.950000e+06</td>\n",
       "    </tr>\n",
       "    <tr>\n",
       "      <th>price_pred</th>\n",
       "      <td>597.0</td>\n",
       "      <td>527039.768239</td>\n",
       "      <td>284494.794357</td>\n",
       "      <td>121478.956334</td>\n",
       "      <td>327764.839617</td>\n",
       "      <td>479994.104830</td>\n",
       "      <td>645638.532193</td>\n",
       "      <td>2.265743e+06</td>\n",
       "    </tr>\n",
       "    <tr>\n",
       "      <th>diff</th>\n",
       "      <td>597.0</td>\n",
       "      <td>-2737.533733</td>\n",
       "      <td>120916.447086</td>\n",
       "      <td>-556588.361121</td>\n",
       "      <td>-51117.074175</td>\n",
       "      <td>-6597.564171</td>\n",
       "      <td>39272.785235</td>\n",
       "      <td>1.072134e+06</td>\n",
       "    </tr>\n",
       "  </tbody>\n",
       "</table>\n",
       "</div>"
      ],
      "text/plain": [
       "            count           mean            std            min            25%  \\\n",
       "price       597.0  524302.234506  320020.109169   17500.000000  332100.000000   \n",
       "price_pred  597.0  527039.768239  284494.794357  121478.956334  327764.839617   \n",
       "diff        597.0   -2737.533733  120916.447086 -556588.361121  -51117.074175   \n",
       "\n",
       "                      50%            75%           max  \n",
       "price       465425.000000  625000.000000  2.950000e+06  \n",
       "price_pred  479994.104830  645638.532193  2.265743e+06  \n",
       "diff         -6597.564171   39272.785235  1.072134e+06  "
      ]
     },
     "execution_count": 34,
     "metadata": {},
     "output_type": "execute_result"
    }
   ],
   "source": [
    "df_test_data.loc[:, [\"price\", \"price_pred\", \"diff\"]].describe().T"
   ]
  },
  {
   "cell_type": "markdown",
   "metadata": {},
   "source": [
    "Visulize Predictions"
   ]
  },
  {
   "cell_type": "code",
   "execution_count": 35,
   "metadata": {},
   "outputs": [
    {
     "data": {
      "image/png": "[encoded data removed]",
      "text/plain": [
       "<Figure size 1440x504 with 1 Axes>"
      ]
     },
     "metadata": {
      "needs_background": "light"
     },
     "output_type": "display_data"
    }
   ],
   "source": [
    "plt.figure(figsize=(20,7))\n",
    "#Prediction der Modelle für die ersten 20 Zeilen\n",
    "x = 30\n",
    "real = df_test_data.loc[:x, \"price\"]\n",
    "pred = df_test_data.loc[:x,\"price_pred\"]\n",
    "diff = df_test_data.loc[:x,\"diff\"]\n",
    "\n",
    "plt.plot(real, label=\"Price\")\n",
    "plt.plot(pred, label=\"price_pred\")\n",
    "plt.plot(diff, \"gs\", ms=5, label=\"diff\")\n",
    "\n",
    "plt.tick_params(axis=\"x\", which=\"both\", bottom=False, top=False, labelbottom=False)\n",
    "plt.ylabel(\"Prediction in Millionen\")\n",
    "plt.xlabel(\"Label 1-20\")\n",
    "plt.legend(loc=\"best\")\n",
    "\n",
    "plt.show()"
   ]
  }
 ],
 "metadata": {
  "kernelspec": {
   "display_name": "Python 3.9.7 ('base')",
   "language": "python",
   "name": "python3"
  },
  "language_info": {
   "codemirror_mode": {
    "name": "ipython",
    "version": 3
   },
   "file_extension": ".py",
   "mimetype": "text/x-python",
   "name": "python",
   "nbconvert_exporter": "python",
   "pygments_lexer": "ipython3",
   "version": "3.9.7"
  },
  "orig_nbformat": 4,
  "vscode": {
   "interpreter": {
    "hash": "49d1cf207c92197553c1326cc52484d1ee2809997f5109c15474876a3e083b6e"
   }
  }
 },
 "nbformat": 4,
 "nbformat_minor": 2
}
