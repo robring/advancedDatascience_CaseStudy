{
 "cells": [
  {
   "cell_type": "markdown",
   "metadata": {},
   "source": [
    "## Setup"
   ]
  },
  {
   "cell_type": "code",
   "execution_count": 51,
   "metadata": {},
   "outputs": [],
   "source": [
    "from functions import Model, get99, splitData, dropMissingValues, z_score, outliers_knn, outliers_dbscan, getNoise, getRelFeatures, drop_features, getCombinations, get_unique_list, bold, blue, red, green, getBestModel, np_to_df, df_to_np, drop99_all, z_score_individual, train_test_to_df, loadModel\n",
    "import pandas as pd\n",
    "import warnings\n",
    "import matplotlib.pyplot as plt\n",
    "from sklearn.preprocessing import StandardScaler\n",
    "from sklearn.linear_model import Lasso\n",
    "\n",
    "warnings.filterwarnings('ignore')"
   ]
  },
  {
   "cell_type": "markdown",
   "metadata": {},
   "source": [
    "## Testdata"
   ]
  },
  {
   "cell_type": "markdown",
   "metadata": {},
   "source": [
    "Get Test Data from CSV"
   ]
  },
  {
   "cell_type": "code",
   "execution_count": 52,
   "metadata": {},
   "outputs": [],
   "source": [
    "#Get test Data\n",
    "NAME_TEST_FILE = \"house_data_test\"\n",
    "df_test_data = pd.read_csv(\"data/csv/\"+NAME_TEST_FILE+\".csv\", sep=';') \n",
    "\n",
    "# remove unnamed column\n",
    "df_test_data = df_test_data.iloc[:, 1:]\n",
    "\n",
    "#Transform string to datetime\n",
    "try: \n",
    "    df_test_data[\"date\"] = pd.to_datetime(df_test_data[\"date\"])\n",
    "except Exception as e:\n",
    "    print(\"Error: Trying to convert to date\")"
   ]
  },
  {
   "cell_type": "markdown",
   "metadata": {},
   "source": [
    "Drop Missing Values"
   ]
  },
  {
   "cell_type": "code",
   "execution_count": 53,
   "metadata": {},
   "outputs": [
    {
     "name": "stdout",
     "output_type": "stream",
     "text": [
      "There are \u001b[36m8\u001b[0m Missing Values\n"
     ]
    }
   ],
   "source": [
    "print(f'There are {blue(df_test_data.isnull().sum().sum())} Missing Values')\n",
    "df_test_data = dropMissingValues(df_test_data) "
   ]
  },
  {
   "cell_type": "markdown",
   "metadata": {},
   "source": [
    "Drop Values with 999..99 "
   ]
  },
  {
   "cell_type": "code",
   "execution_count": 54,
   "metadata": {},
   "outputs": [
    {
     "name": "stdout",
     "output_type": "stream",
     "text": [
      "\u001b[32m99s dropped\u001b[0m \n",
      "\n"
     ]
    }
   ],
   "source": [
    "try:\n",
    "    outlier_list_99 = get99(df_test_data) \n",
    "    df_test_data = drop99_all(df_test_data, outlier_list_99)\n",
    "    print(green('99s dropped'), \"\\n\")\n",
    "except Exception as e:\n",
    "    pass"
   ]
  },
  {
   "cell_type": "code",
   "execution_count": 55,
   "metadata": {},
   "outputs": [
    {
     "name": "stdout",
     "output_type": "stream",
     "text": [
      "<class 'pandas.core.frame.DataFrame'>\n",
      "Int64Index: 4877 entries, 0 to 4998\n",
      "Data columns (total 25 columns):\n",
      " #   Column         Non-Null Count  Dtype         \n",
      "---  ------         --------------  -----         \n",
      " 0   id             4877 non-null   int64         \n",
      " 1   date           4877 non-null   datetime64[ns]\n",
      " 2   price          4877 non-null   float64       \n",
      " 3   bedrooms       4877 non-null   int64         \n",
      " 4   bathrooms      4877 non-null   float64       \n",
      " 5   sqft_living    4877 non-null   int64         \n",
      " 6   sqft_lot       4877 non-null   int64         \n",
      " 7   floors         4877 non-null   float64       \n",
      " 8   waterfront     4877 non-null   float64       \n",
      " 9   dis_super      4877 non-null   float64       \n",
      " 10  view           4877 non-null   float64       \n",
      " 11  condition      4877 non-null   float64       \n",
      " 12  grade          4877 non-null   float64       \n",
      " 13  sqft_above     4877 non-null   float64       \n",
      " 14  sqft_basement  4877 non-null   float64       \n",
      " 15  yr_built       4877 non-null   float64       \n",
      " 16  yr_renovated   4877 non-null   int64         \n",
      " 17  zipcode        4877 non-null   int64         \n",
      " 18  lat            4877 non-null   float64       \n",
      " 19  long           4877 non-null   float64       \n",
      " 20  sqft_living15  4877 non-null   int64         \n",
      " 21  sqft_lot15     4877 non-null   int64         \n",
      " 22  ahf1           4877 non-null   float64       \n",
      " 23  ahf2           4877 non-null   float64       \n",
      " 24  ahf3           4877 non-null   float64       \n",
      "dtypes: datetime64[ns](1), float64(16), int64(8)\n",
      "memory usage: 990.6 KB\n"
     ]
    }
   ],
   "source": [
    "df_test_data.info()"
   ]
  },
  {
   "cell_type": "markdown",
   "metadata": {},
   "source": [
    "##"
   ]
  },
  {
   "cell_type": "markdown",
   "metadata": {},
   "source": [
    "## Model"
   ]
  },
  {
   "cell_type": "markdown",
   "metadata": {},
   "source": [
    "Get saved Model from Grid-Search"
   ]
  },
  {
   "cell_type": "code",
   "execution_count": 56,
   "metadata": {},
   "outputs": [
    {
     "name": "stdout",
     "output_type": "stream",
     "text": [
      "\u001b[1mModel:\u001b[0m \u001b[36mGradientBoostingRegressor(random_state=1)\u001b[0m \u001b[1mCombination:\u001b[0m \u001b[36m('outlier_list_z_score_ind_',)\u001b[0m \u001b[1mFeatures:\u001b[0m \u001b[36m23\u001b[0m\n"
     ]
    }
   ],
   "source": [
    "model_obj = loadModel()"
   ]
  },
  {
   "cell_type": "markdown",
   "metadata": {},
   "source": [
    "Making sure Shapes are similar"
   ]
  },
  {
   "cell_type": "code",
   "execution_count": 57,
   "metadata": {},
   "outputs": [
    {
     "name": "stdout",
     "output_type": "stream",
     "text": [
      "Training Data Features: \u001b[36m23\u001b[0m\n",
      "Testing Data Features: \u001b[36m25\u001b[0m\n",
      "Features to drop from Testdata: \u001b[31m['date', 'price']\u001b[0m\n"
     ]
    }
   ],
   "source": [
    "print(f'Training Data Features: {blue(len(model_obj.get_features()))}')\n",
    "print(f'Testing Data Features: {blue(len(df_test_data.columns.to_list()))}')\n",
    "\n",
    "features_to_drop = list(set(df_test_data.columns.to_list()) - set(model_obj.get_features()))\n",
    "print(f'Features to drop from Testdata: {red(features_to_drop)}')"
   ]
  },
  {
   "cell_type": "markdown",
   "metadata": {},
   "source": [
    "Integrate test Data into Model"
   ]
  },
  {
   "cell_type": "code",
   "execution_count": 58,
   "metadata": {},
   "outputs": [],
   "source": [
    "X_train, X_test, y_train, y_test = model_obj.get_data()\n",
    "\n",
    "#Drop Features\n",
    "X_test, y_test = df_test_data.drop(columns=features_to_drop), df_test_data[\"price\"]\n",
    "\n",
    "#Tranform Test-Data\n",
    "if isinstance(model_obj.get_model(), Lasso) == True:\n",
    "    scaler = StandardScaler().fit(X_test)\n",
    "    X_test = scaler.transform(X_test)\n",
    "\n",
    "model_obj.set_data(X_train, X_test, y_train, y_test)\n",
    "\n",
    "#Train Model\n",
    "model_obj.train()\n",
    "\n",
    "#Predict\n",
    "mae, score = model_obj.summary()\n",
    "predictions = model_obj.pred()"
   ]
  },
  {
   "cell_type": "code",
   "execution_count": 59,
   "metadata": {},
   "outputs": [
    {
     "data": {
      "text/html": [
       "<div>\n",
       "<style scoped>\n",
       "    .dataframe tbody tr th:only-of-type {\n",
       "        vertical-align: middle;\n",
       "    }\n",
       "\n",
       "    .dataframe tbody tr th {\n",
       "        vertical-align: top;\n",
       "    }\n",
       "\n",
       "    .dataframe thead th {\n",
       "        text-align: right;\n",
       "    }\n",
       "</style>\n",
       "<table border=\"1\" class=\"dataframe\">\n",
       "  <thead>\n",
       "    <tr style=\"text-align: right;\">\n",
       "      <th></th>\n",
       "      <th>0</th>\n",
       "      <th>1</th>\n",
       "      <th>2</th>\n",
       "      <th>3</th>\n",
       "      <th>4</th>\n",
       "      <th>5</th>\n",
       "      <th>6</th>\n",
       "      <th>7</th>\n",
       "      <th>8</th>\n",
       "      <th>9</th>\n",
       "      <th>...</th>\n",
       "      <th>4988</th>\n",
       "      <th>4989</th>\n",
       "      <th>4990</th>\n",
       "      <th>4991</th>\n",
       "      <th>4992</th>\n",
       "      <th>4993</th>\n",
       "      <th>4995</th>\n",
       "      <th>4996</th>\n",
       "      <th>4997</th>\n",
       "      <th>4998</th>\n",
       "    </tr>\n",
       "  </thead>\n",
       "  <tbody>\n",
       "    <tr>\n",
       "      <th>price</th>\n",
       "      <td>725,000.00</td>\n",
       "      <td>495,000.00</td>\n",
       "      <td>565,000.00</td>\n",
       "      <td>535,000.00</td>\n",
       "      <td>571,000.00</td>\n",
       "      <td>387,500.00</td>\n",
       "      <td>512,000.00</td>\n",
       "      <td>765,000.00</td>\n",
       "      <td>240,000.00</td>\n",
       "      <td>887,000.00</td>\n",
       "      <td>...</td>\n",
       "      <td>454,000.00</td>\n",
       "      <td>279,000.00</td>\n",
       "      <td>750,000.00</td>\n",
       "      <td>820,000.00</td>\n",
       "      <td>249,950.00</td>\n",
       "      <td>1,500,000.00</td>\n",
       "      <td>2,125,000.00</td>\n",
       "      <td>554,000.00</td>\n",
       "      <td>450,000.00</td>\n",
       "      <td>278,000.00</td>\n",
       "    </tr>\n",
       "    <tr>\n",
       "      <th>price_pred</th>\n",
       "      <td>649,600.74</td>\n",
       "      <td>502,520.89</td>\n",
       "      <td>590,182.17</td>\n",
       "      <td>512,192.45</td>\n",
       "      <td>467,518.24</td>\n",
       "      <td>413,188.48</td>\n",
       "      <td>502,075.25</td>\n",
       "      <td>798,443.09</td>\n",
       "      <td>288,572.40</td>\n",
       "      <td>725,491.80</td>\n",
       "      <td>...</td>\n",
       "      <td>384,787.41</td>\n",
       "      <td>270,073.47</td>\n",
       "      <td>494,101.22</td>\n",
       "      <td>1,173,730.02</td>\n",
       "      <td>257,401.66</td>\n",
       "      <td>1,227,827.40</td>\n",
       "      <td>1,303,690.91</td>\n",
       "      <td>384,795.50</td>\n",
       "      <td>412,640.33</td>\n",
       "      <td>250,467.95</td>\n",
       "    </tr>\n",
       "    <tr>\n",
       "      <th>diff</th>\n",
       "      <td>75,399.26</td>\n",
       "      <td>-7,520.89</td>\n",
       "      <td>-25,182.17</td>\n",
       "      <td>22,807.55</td>\n",
       "      <td>103,481.76</td>\n",
       "      <td>-25,688.48</td>\n",
       "      <td>9,924.75</td>\n",
       "      <td>-33,443.09</td>\n",
       "      <td>-48,572.40</td>\n",
       "      <td>161,508.20</td>\n",
       "      <td>...</td>\n",
       "      <td>69,212.59</td>\n",
       "      <td>8,926.53</td>\n",
       "      <td>255,898.78</td>\n",
       "      <td>-353,730.02</td>\n",
       "      <td>-7,451.66</td>\n",
       "      <td>272,172.60</td>\n",
       "      <td>821,309.09</td>\n",
       "      <td>169,204.50</td>\n",
       "      <td>37,359.67</td>\n",
       "      <td>27,532.05</td>\n",
       "    </tr>\n",
       "  </tbody>\n",
       "</table>\n",
       "<p>3 rows × 4877 columns</p>\n",
       "</div>"
      ],
      "text/plain": [
       "                  0           1           2           3           4     \\\n",
       "price       725,000.00  495,000.00  565,000.00  535,000.00  571,000.00   \n",
       "price_pred  649,600.74  502,520.89  590,182.17  512,192.45  467,518.24   \n",
       "diff         75,399.26   -7,520.89  -25,182.17   22,807.55  103,481.76   \n",
       "\n",
       "                  5           6           7           8           9     ...  \\\n",
       "price       387,500.00  512,000.00  765,000.00  240,000.00  887,000.00  ...   \n",
       "price_pred  413,188.48  502,075.25  798,443.09  288,572.40  725,491.80  ...   \n",
       "diff        -25,688.48    9,924.75  -33,443.09  -48,572.40  161,508.20  ...   \n",
       "\n",
       "                  4988        4989        4990          4991        4992  \\\n",
       "price       454,000.00  279,000.00  750,000.00    820,000.00  249,950.00   \n",
       "price_pred  384,787.41  270,073.47  494,101.22  1,173,730.02  257,401.66   \n",
       "diff         69,212.59    8,926.53  255,898.78   -353,730.02   -7,451.66   \n",
       "\n",
       "                    4993          4995        4996        4997        4998  \n",
       "price       1,500,000.00  2,125,000.00  554,000.00  450,000.00  278,000.00  \n",
       "price_pred  1,227,827.40  1,303,690.91  384,795.50  412,640.33  250,467.95  \n",
       "diff          272,172.60    821,309.09  169,204.50   37,359.67   27,532.05  \n",
       "\n",
       "[3 rows x 4877 columns]"
      ]
     },
     "execution_count": 59,
     "metadata": {},
     "output_type": "execute_result"
    }
   ],
   "source": [
    "#Evaluate\n",
    "df_test_data[\"price_pred\"]  = predictions\n",
    "df_test_data[\"diff\"] = df_test_data[\"price\"]  - df_test_data[\"price_pred\"]  \n",
    "df_test_data.loc[:, [\"price\", \"price_pred\", \"diff\"]].T.applymap('{:,.2f}'.format)"
   ]
  },
  {
   "cell_type": "code",
   "execution_count": 60,
   "metadata": {},
   "outputs": [],
   "source": [
    "#df_test_data.loc[:, [\"price\", \"price_pred\", \"diff\"]].describe().T.applymap('{:,.2f}'.format)"
   ]
  },
  {
   "cell_type": "markdown",
   "metadata": {},
   "source": [
    "## Visulize Predictions"
   ]
  },
  {
   "cell_type": "code",
   "execution_count": 61,
   "metadata": {},
   "outputs": [
    {
     "data": {
      "image/png": "[encoded data removed]",
      "text/plain": [
       "<Figure size 1440x504 with 1 Axes>"
      ]
     },
     "metadata": {
      "needs_background": "light"
     },
     "output_type": "display_data"
    }
   ],
   "source": [
    "plt.figure(figsize=(20,7))\n",
    "#Prediction der Modelle für die ersten 20 Zeilen\n",
    "x = 30\n",
    "real = df_test_data.loc[:x, \"price\"]\n",
    "pred = df_test_data.loc[:x,\"price_pred\"]\n",
    "diff = df_test_data.loc[:x,\"diff\"]\n",
    "\n",
    "plt.plot(real, label=\"Price\")\n",
    "plt.plot(pred, label=\"price_pred\")\n",
    "plt.plot(diff, \"gs\", ms=5, label=\"diff\")\n",
    "plt.axhline(y=0, color='black', linestyle='-')\n",
    "\n",
    "plt.tick_params(axis=\"x\", which=\"both\", bottom=False, top=False, labelbottom=False)\n",
    "plt.ylabel(\"Prediction in Millionen\")\n",
    "plt.xlabel(\"Label 1-20\")\n",
    "plt.legend(loc=\"best\")\n",
    "\n",
    "plt.show()"
   ]
  },
  {
   "cell_type": "code",
   "execution_count": 62,
   "metadata": {},
   "outputs": [
    {
     "name": "stdout",
     "output_type": "stream",
     "text": [
      "\u001b[1mMAE: \u001b[0m \u001b[36m80667.31\u001b[0m\n"
     ]
    }
   ],
   "source": [
    "print(bold(\"MAE: \"), blue(mae))"
   ]
  }
 ],
 "metadata": {
  "kernelspec": {
   "display_name": "Python 3.9.7 ('base')",
   "language": "python",
   "name": "python3"
  },
  "language_info": {
   "codemirror_mode": {
    "name": "ipython",
    "version": 3
   },
   "file_extension": ".py",
   "mimetype": "text/x-python",
   "name": "python",
   "nbconvert_exporter": "python",
   "pygments_lexer": "ipython3",
   "version": "3.9.7"
  },
  "orig_nbformat": 4,
  "vscode": {
   "interpreter": {
    "hash": "49d1cf207c92197553c1326cc52484d1ee2809997f5109c15474876a3e083b6e"
   }
  }
 },
 "nbformat": 4,
 "nbformat_minor": 2
}
