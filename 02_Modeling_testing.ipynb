{
 "cells": [
  {
   "cell_type": "markdown",
   "metadata": {},
   "source": [
    "## Setup"
   ]
  },
  {
   "cell_type": "code",
   "execution_count": 24,
   "metadata": {},
   "outputs": [],
   "source": [
    "from functions import Model, get99, splitData, dropMissingValues, z_score, outliers_knn, outliers_dbscan, getNoise, getRelFeatures, drop_features, getCombinations, get_unique_list, bold, blue, red, green, getBestModel, np_to_df, df_to_np, drop99_all, z_score_individual, train_test_to_df, loadModel\n",
    "import pandas as pd\n",
    "from sklearn.linear_model import LinearRegression\n",
    "import warnings\n",
    "import json\n",
    "import numpy as np\n",
    "warnings.filterwarnings('ignore')\n",
    "\n",
    "import matplotlib.pyplot as plt\n",
    "from functions import train_test_split\n",
    "from sklearn.preprocessing import StandardScaler\n",
    "from sklearn.linear_model import Lasso\n",
    "from sklearn.metrics import mean_absolute_error"
   ]
  },
  {
   "cell_type": "markdown",
   "metadata": {},
   "source": [
    "Json Hyper Parameters"
   ]
  },
  {
   "cell_type": "code",
   "execution_count": 25,
   "metadata": {},
   "outputs": [],
   "source": [
    "# JSON file\n",
    "f = open ('data/json/input.json', \"r\")\n",
    "  # Reading from file\n",
    "PARAMETERS_ALL = json.loads(f.read())\n",
    "PARAMETERS = PARAMETERS_ALL[\"TESTING\"]\n",
    "SPLIT_SIZE = PARAMETERS[\"SPLIT_SIZE\"]\n",
    "\n",
    "OUTLIER99 = PARAMETERS[\"OUTLIER99\"] \n",
    "OUTLIER_ZSCORE = {\"STD\" : PARAMETERS[\"OUTLIER_ZSCORE\"][\"STD\"]}\n",
    "OUTLIER_ZSCORE_IND = PARAMETERS[\"OUTLIER_ZSCORE_IND\"]\n",
    "OUTLIER_KNN = {\"K\": PARAMETERS[\"OUTLIER_KNN\"][\"K\"], \"X\": PARAMETERS[\"OUTLIER_KNN\"][\"X\"]}\n",
    "OUTLIER_DBSCAN = {\"K\": PARAMETERS[\"OUTLIER_DBSCAN\"][\"K\"], \"X\": PARAMETERS[\"OUTLIER_DBSCAN\"][\"X\"], \"EPS\": PARAMETERS[\"OUTLIER_DBSCAN\"][\"EPS\"], \"MIN_SAMPLES\":  PARAMETERS[\"OUTLIER_DBSCAN\"][\"MIN_SAMPLES\"]}\n",
    "OUTLIER_NOISE = {\"CV\": PARAMETERS[\"OUTLIER_NOISE\"][\"CV\"], \"DEPTH\": PARAMETERS[\"OUTLIER_NOISE\"][\"DEPTH\"], \"MULTI\": PARAMETERS[\"OUTLIER_NOISE\"][\"MULTI\"] }\n",
    "\n",
    "FEATURE_SEL_CORR = {\"THRESHOLD_CORR\": PARAMETERS[\"FEATURE_SEL_CORR\"][\"THRESHOLD\"]}\n",
    "\n",
    "f.close()"
   ]
  },
  {
   "cell_type": "markdown",
   "metadata": {},
   "source": [
    "Get Data from CSV"
   ]
  },
  {
   "cell_type": "code",
   "execution_count": 26,
   "metadata": {},
   "outputs": [],
   "source": [
    "#Get test Data\n",
    "NAME_TEST_FILE = \"house_data_testing\"\n",
    "df_test_data = pd.read_csv(\"data/csv/\"+NAME_TEST_FILE+\".csv\", sep=';') \n",
    "# remove unnamed column\n",
    "df_test_data = df_test_data.iloc[:, 1:]\n",
    "#Transform string to datetime\n",
    "df_test_data[\"date\"] = pd.to_datetime(df_test_data[\"date\"])"
   ]
  },
  {
   "cell_type": "markdown",
   "metadata": {},
   "source": [
    "Missing Values"
   ]
  },
  {
   "cell_type": "code",
   "execution_count": 27,
   "metadata": {},
   "outputs": [
    {
     "name": "stdout",
     "output_type": "stream",
     "text": [
      "outlier_99\n",
      "\u001b[32mdone\u001b[0m \n",
      "\n"
     ]
    }
   ],
   "source": [
    "df_test_data = dropMissingValues(df_test_data) \n",
    "print(\"outlier_99\")\n",
    "outlier_list_99 = get99(df_test_data) #TODO Mean for price for trainingsdata\n",
    "df_test_data = drop99_all(df_test_data, outlier_list_99)\n",
    "print(green('done'), \"\\n\")"
   ]
  },
  {
   "cell_type": "code",
   "execution_count": 28,
   "metadata": {},
   "outputs": [
    {
     "name": "stdout",
     "output_type": "stream",
     "text": [
      "<class 'pandas.core.frame.DataFrame'>\n",
      "Int64Index: 597 entries, 0 to 613\n",
      "Data columns (total 25 columns):\n",
      " #   Column         Non-Null Count  Dtype         \n",
      "---  ------         --------------  -----         \n",
      " 0   id             597 non-null    int64         \n",
      " 1   date           597 non-null    datetime64[ns]\n",
      " 2   price          597 non-null    float64       \n",
      " 3   bedrooms       597 non-null    int64         \n",
      " 4   bathrooms      597 non-null    float64       \n",
      " 5   sqft_living    597 non-null    int64         \n",
      " 6   sqft_lot       597 non-null    int64         \n",
      " 7   floors         597 non-null    float64       \n",
      " 8   waterfront     597 non-null    float64       \n",
      " 9   dis_super      597 non-null    float64       \n",
      " 10  view           597 non-null    float64       \n",
      " 11  condition      597 non-null    float64       \n",
      " 12  grade          597 non-null    float64       \n",
      " 13  sqft_above     597 non-null    float64       \n",
      " 14  sqft_basement  597 non-null    float64       \n",
      " 15  yr_built       597 non-null    float64       \n",
      " 16  yr_renovated   597 non-null    int64         \n",
      " 17  zipcode        597 non-null    int64         \n",
      " 18  lat            597 non-null    float64       \n",
      " 19  long           597 non-null    float64       \n",
      " 20  sqft_living15  597 non-null    int64         \n",
      " 21  sqft_lot15     597 non-null    int64         \n",
      " 22  ahf1           597 non-null    float64       \n",
      " 23  ahf2           597 non-null    float64       \n",
      " 24  ahf3           597 non-null    float64       \n",
      "dtypes: datetime64[ns](1), float64(16), int64(8)\n",
      "memory usage: 121.3 KB\n"
     ]
    }
   ],
   "source": [
    "df_test_data.info()"
   ]
  },
  {
   "cell_type": "markdown",
   "metadata": {},
   "source": [
    "##"
   ]
  },
  {
   "cell_type": "markdown",
   "metadata": {},
   "source": [
    "## Testdata"
   ]
  },
  {
   "cell_type": "code",
   "execution_count": 29,
   "metadata": {},
   "outputs": [
    {
     "name": "stdout",
     "output_type": "stream",
     "text": [
      "\u001b[1mModel:\u001b[0m \u001b[36mLasso(alpha=5)\u001b[0m \u001b[1mCombination:\u001b[0m \u001b[36m('db_scan_4_500_0.4_8', 'noise_5_5_10')\u001b[0m \u001b[1mFeatures:\u001b[0m \u001b[36m22\u001b[0m\n"
     ]
    }
   ],
   "source": [
    "model_obj = loadModel()\n"
   ]
  },
  {
   "cell_type": "code",
   "execution_count": 30,
   "metadata": {},
   "outputs": [
    {
     "name": "stdout",
     "output_type": "stream",
     "text": [
      "MAE:  113526.86\n"
     ]
    },
    {
     "data": {
      "text/html": [
       "<div>\n",
       "<style scoped>\n",
       "    .dataframe tbody tr th:only-of-type {\n",
       "        vertical-align: middle;\n",
       "    }\n",
       "\n",
       "    .dataframe tbody tr th {\n",
       "        vertical-align: top;\n",
       "    }\n",
       "\n",
       "    .dataframe thead th {\n",
       "        text-align: right;\n",
       "    }\n",
       "</style>\n",
       "<table border=\"1\" class=\"dataframe\">\n",
       "  <thead>\n",
       "    <tr style=\"text-align: right;\">\n",
       "      <th></th>\n",
       "      <th>price</th>\n",
       "      <th>price_pred</th>\n",
       "      <th>diff</th>\n",
       "    </tr>\n",
       "  </thead>\n",
       "  <tbody>\n",
       "    <tr>\n",
       "      <th>0</th>\n",
       "      <td>336000.0</td>\n",
       "      <td>3.356885e+05</td>\n",
       "      <td>311.531319</td>\n",
       "    </tr>\n",
       "    <tr>\n",
       "      <th>1</th>\n",
       "      <td>1600000.0</td>\n",
       "      <td>1.208762e+06</td>\n",
       "      <td>391238.307849</td>\n",
       "    </tr>\n",
       "    <tr>\n",
       "      <th>2</th>\n",
       "      <td>460000.0</td>\n",
       "      <td>5.365661e+05</td>\n",
       "      <td>-76566.129095</td>\n",
       "    </tr>\n",
       "    <tr>\n",
       "      <th>3</th>\n",
       "      <td>998500.0</td>\n",
       "      <td>6.856089e+05</td>\n",
       "      <td>312891.058438</td>\n",
       "    </tr>\n",
       "    <tr>\n",
       "      <th>4</th>\n",
       "      <td>745000.0</td>\n",
       "      <td>6.783095e+05</td>\n",
       "      <td>66690.513131</td>\n",
       "    </tr>\n",
       "    <tr>\n",
       "      <th>...</th>\n",
       "      <td>...</td>\n",
       "      <td>...</td>\n",
       "      <td>...</td>\n",
       "    </tr>\n",
       "    <tr>\n",
       "      <th>609</th>\n",
       "      <td>739000.0</td>\n",
       "      <td>5.860320e+05</td>\n",
       "      <td>152967.953563</td>\n",
       "    </tr>\n",
       "    <tr>\n",
       "      <th>610</th>\n",
       "      <td>710000.0</td>\n",
       "      <td>6.399731e+05</td>\n",
       "      <td>70026.904131</td>\n",
       "    </tr>\n",
       "    <tr>\n",
       "      <th>611</th>\n",
       "      <td>475000.0</td>\n",
       "      <td>5.803292e+05</td>\n",
       "      <td>-105329.224406</td>\n",
       "    </tr>\n",
       "    <tr>\n",
       "      <th>612</th>\n",
       "      <td>340000.0</td>\n",
       "      <td>4.510543e+05</td>\n",
       "      <td>-111054.337692</td>\n",
       "    </tr>\n",
       "    <tr>\n",
       "      <th>613</th>\n",
       "      <td>475000.0</td>\n",
       "      <td>5.196211e+05</td>\n",
       "      <td>-44621.065059</td>\n",
       "    </tr>\n",
       "  </tbody>\n",
       "</table>\n",
       "<p>597 rows × 3 columns</p>\n",
       "</div>"
      ],
      "text/plain": [
       "         price    price_pred           diff\n",
       "0     336000.0  3.356885e+05     311.531319\n",
       "1    1600000.0  1.208762e+06  391238.307849\n",
       "2     460000.0  5.365661e+05  -76566.129095\n",
       "3     998500.0  6.856089e+05  312891.058438\n",
       "4     745000.0  6.783095e+05   66690.513131\n",
       "..         ...           ...            ...\n",
       "609   739000.0  5.860320e+05  152967.953563\n",
       "610   710000.0  6.399731e+05   70026.904131\n",
       "611   475000.0  5.803292e+05 -105329.224406\n",
       "612   340000.0  4.510543e+05 -111054.337692\n",
       "613   475000.0  5.196211e+05  -44621.065059\n",
       "\n",
       "[597 rows x 3 columns]"
      ]
     },
     "execution_count": 30,
     "metadata": {},
     "output_type": "execute_result"
    }
   ],
   "source": [
    "#set new test Data\n",
    "X_train, X_test, y_train, y_test = model_obj.get_data()\n",
    "#print(type(X_test), type(y_test))\n",
    "X_test, y_test = df_test_data.drop(columns=[\"price\", \"date\", \"id\"]), df_test_data[\"price\"]\n",
    "scaler = StandardScaler().fit(X_test)\n",
    "X_test = scaler.transform(X_test)\n",
    "model_obj.set_data(X_train, X_test, y_train, y_test)\n",
    "#Train Model\n",
    "model_obj.train()\n",
    "mae, score = model_obj.summary()\n",
    "predictions = model_obj.pred()\n",
    "print(\"MAE: \", mae)\n",
    "\n",
    "df_test_data[\"price_pred\"]  = predictions\n",
    "df_test_data[\"diff\"] = df_test_data[\"price\"]  - df_test_data[\"price_pred\"]  \n",
    "df_test_data.loc[:, [\"price\", \"price_pred\", \"diff\"]]\n"
   ]
  },
  {
   "cell_type": "code",
   "execution_count": 31,
   "metadata": {},
   "outputs": [
    {
     "data": {
      "image/png": "[encoded data removed]",
      "text/plain": [
       "<Figure size 1440x504 with 1 Axes>"
      ]
     },
     "metadata": {
      "needs_background": "light"
     },
     "output_type": "display_data"
    }
   ],
   "source": [
    "plt.figure(figsize=(20,7))\n",
    "#Prediction der Modelle für die ersten 20 Zeilen\n",
    "x = 30\n",
    "real = df_test_data.loc[:x, \"price\"]\n",
    "pred = df_test_data.loc[:x,\"price_pred\"]\n",
    "diff = df_test_data.loc[:x,\"diff\"]\n",
    "\n",
    "plt.plot(real, label=\"Price\")\n",
    "plt.plot(pred, label=\"price_pred\")\n",
    "plt.plot(diff, \"gs\", ms=5, label=\"diff\")\n",
    "\n",
    "plt.tick_params(axis=\"x\", which=\"both\", bottom=False, top=False, labelbottom=False)\n",
    "plt.ylabel(\"Prediction in Millionen\")\n",
    "plt.xlabel(\"Label 1-20\")\n",
    "plt.legend(loc=\"best\")\n",
    "\n",
    "plt.show()"
   ]
  },
  {
   "cell_type": "code",
   "execution_count": 32,
   "metadata": {},
   "outputs": [
    {
     "data": {
      "text/html": [
       "<div>\n",
       "<style scoped>\n",
       "    .dataframe tbody tr th:only-of-type {\n",
       "        vertical-align: middle;\n",
       "    }\n",
       "\n",
       "    .dataframe tbody tr th {\n",
       "        vertical-align: top;\n",
       "    }\n",
       "\n",
       "    .dataframe thead th {\n",
       "        text-align: right;\n",
       "    }\n",
       "</style>\n",
       "<table border=\"1\" class=\"dataframe\">\n",
       "  <thead>\n",
       "    <tr style=\"text-align: right;\">\n",
       "      <th></th>\n",
       "      <th>price</th>\n",
       "      <th>price_pred</th>\n",
       "      <th>diff</th>\n",
       "    </tr>\n",
       "  </thead>\n",
       "  <tbody>\n",
       "    <tr>\n",
       "      <th>count</th>\n",
       "      <td>5.970000e+02</td>\n",
       "      <td>5.970000e+02</td>\n",
       "      <td>5.970000e+02</td>\n",
       "    </tr>\n",
       "    <tr>\n",
       "      <th>mean</th>\n",
       "      <td>5.243022e+05</td>\n",
       "      <td>4.772168e+05</td>\n",
       "      <td>4.708543e+04</td>\n",
       "    </tr>\n",
       "    <tr>\n",
       "      <th>std</th>\n",
       "      <td>3.200201e+05</td>\n",
       "      <td>2.352965e+05</td>\n",
       "      <td>1.891784e+05</td>\n",
       "    </tr>\n",
       "    <tr>\n",
       "      <th>min</th>\n",
       "      <td>1.750000e+04</td>\n",
       "      <td>-1.729554e+05</td>\n",
       "      <td>-6.424465e+05</td>\n",
       "    </tr>\n",
       "    <tr>\n",
       "      <th>25%</th>\n",
       "      <td>3.321000e+05</td>\n",
       "      <td>3.216835e+05</td>\n",
       "      <td>-3.834535e+04</td>\n",
       "    </tr>\n",
       "    <tr>\n",
       "      <th>50%</th>\n",
       "      <td>4.654250e+05</td>\n",
       "      <td>4.577674e+05</td>\n",
       "      <td>3.568447e+04</td>\n",
       "    </tr>\n",
       "    <tr>\n",
       "      <th>75%</th>\n",
       "      <td>6.250000e+05</td>\n",
       "      <td>6.016043e+05</td>\n",
       "      <td>1.090832e+05</td>\n",
       "    </tr>\n",
       "    <tr>\n",
       "      <th>max</th>\n",
       "      <td>2.950000e+06</td>\n",
       "      <td>1.574659e+06</td>\n",
       "      <td>1.874003e+06</td>\n",
       "    </tr>\n",
       "  </tbody>\n",
       "</table>\n",
       "</div>"
      ],
      "text/plain": [
       "              price    price_pred          diff\n",
       "count  5.970000e+02  5.970000e+02  5.970000e+02\n",
       "mean   5.243022e+05  4.772168e+05  4.708543e+04\n",
       "std    3.200201e+05  2.352965e+05  1.891784e+05\n",
       "min    1.750000e+04 -1.729554e+05 -6.424465e+05\n",
       "25%    3.321000e+05  3.216835e+05 -3.834535e+04\n",
       "50%    4.654250e+05  4.577674e+05  3.568447e+04\n",
       "75%    6.250000e+05  6.016043e+05  1.090832e+05\n",
       "max    2.950000e+06  1.574659e+06  1.874003e+06"
      ]
     },
     "execution_count": 32,
     "metadata": {},
     "output_type": "execute_result"
    }
   ],
   "source": [
    "#df_test_data[[\"price\", \"price_pred\"]].describe()\n",
    "df_test_data.loc[:, [\"price\", \"price_pred\", \"diff\"]].describe()"
   ]
  },
  {
   "cell_type": "code",
   "execution_count": 33,
   "metadata": {},
   "outputs": [],
   "source": [
    "#TODO sqft_living wenn price auffällig niedrig obwohl m² hoch clsuter\n",
    "#TODO PCA macht warscheinlich wenig sinn"
   ]
  }
 ],
 "metadata": {
  "kernelspec": {
   "display_name": "Python 3.9.7 ('base')",
   "language": "python",
   "name": "python3"
  },
  "language_info": {
   "codemirror_mode": {
    "name": "ipython",
    "version": 3
   },
   "file_extension": ".py",
   "mimetype": "text/x-python",
   "name": "python",
   "nbconvert_exporter": "python",
   "pygments_lexer": "ipython3",
   "version": "3.9.7"
  },
  "orig_nbformat": 4,
  "vscode": {
   "interpreter": {
    "hash": "49d1cf207c92197553c1326cc52484d1ee2809997f5109c15474876a3e083b6e"
   }
  }
 },
 "nbformat": 4,
 "nbformat_minor": 2
}
