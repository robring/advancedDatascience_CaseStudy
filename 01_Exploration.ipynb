{
 "cells": [
  {
   "cell_type": "markdown",
   "metadata": {},
   "source": [
    "# Case Study\n",
    "\n",
    "## Task1 Exploration"
   ]
  },
  {
   "cell_type": "code",
   "execution_count": 1,
   "metadata": {},
   "outputs": [],
   "source": [
    "import pandas as pd\n",
    "import numpy as np\n",
    "import matplotlib.pyplot as plt\n",
    "import seaborn as sns"
   ]
  },
  {
   "cell_type": "code",
   "execution_count": 12,
   "metadata": {},
   "outputs": [],
   "source": [
    "#Get raw Data\n",
    "df = pd.read_csv(\"data/house_data_training.csv\", sep=';') \n",
    "#Deleting row index\n",
    "df = df.iloc[:, 1:]"
   ]
  },
  {
   "cell_type": "markdown",
   "metadata": {},
   "source": [
    "### Visualisation "
   ]
  },
  {
   "cell_type": "code",
   "execution_count": 13,
   "metadata": {},
   "outputs": [
    {
     "data": {
      "text/html": [
       "<div>\n",
       "<style scoped>\n",
       "    .dataframe tbody tr th:only-of-type {\n",
       "        vertical-align: middle;\n",
       "    }\n",
       "\n",
       "    .dataframe tbody tr th {\n",
       "        vertical-align: top;\n",
       "    }\n",
       "\n",
       "    .dataframe thead th {\n",
       "        text-align: right;\n",
       "    }\n",
       "</style>\n",
       "<table border=\"1\" class=\"dataframe\">\n",
       "  <thead>\n",
       "    <tr style=\"text-align: right;\">\n",
       "      <th></th>\n",
       "      <th>id</th>\n",
       "      <th>price</th>\n",
       "      <th>bedrooms</th>\n",
       "      <th>bathrooms</th>\n",
       "      <th>sqft_living</th>\n",
       "      <th>sqft_lot</th>\n",
       "      <th>floors</th>\n",
       "      <th>waterfront</th>\n",
       "      <th>dis_super</th>\n",
       "      <th>view</th>\n",
       "      <th>...</th>\n",
       "      <th>yr_built</th>\n",
       "      <th>yr_renovated</th>\n",
       "      <th>zipcode</th>\n",
       "      <th>lat</th>\n",
       "      <th>long</th>\n",
       "      <th>sqft_living15</th>\n",
       "      <th>sqft_lot15</th>\n",
       "      <th>ahf1</th>\n",
       "      <th>ahf2</th>\n",
       "      <th>ahf3</th>\n",
       "    </tr>\n",
       "  </thead>\n",
       "  <tbody>\n",
       "    <tr>\n",
       "      <th>count</th>\n",
       "      <td>1.500000e+04</td>\n",
       "      <td>1.500000e+04</td>\n",
       "      <td>15000.000000</td>\n",
       "      <td>15000.00000</td>\n",
       "      <td>15000.000000</td>\n",
       "      <td>1.500000e+04</td>\n",
       "      <td>15000.000000</td>\n",
       "      <td>14997.000000</td>\n",
       "      <td>14997.000000</td>\n",
       "      <td>14997.000000</td>\n",
       "      <td>...</td>\n",
       "      <td>14997.000000</td>\n",
       "      <td>15000.000000</td>\n",
       "      <td>15000.000000</td>\n",
       "      <td>15000.000000</td>\n",
       "      <td>15000.000000</td>\n",
       "      <td>15000.000000</td>\n",
       "      <td>15000.000000</td>\n",
       "      <td>15000.000000</td>\n",
       "      <td>15000.000000</td>\n",
       "      <td>15000.000000</td>\n",
       "    </tr>\n",
       "    <tr>\n",
       "      <th>mean</th>\n",
       "      <td>4.562654e+09</td>\n",
       "      <td>3.328097e+06</td>\n",
       "      <td>3.372400</td>\n",
       "      <td>2.12635</td>\n",
       "      <td>2096.708267</td>\n",
       "      <td>1.469860e+04</td>\n",
       "      <td>1.509533</td>\n",
       "      <td>0.006801</td>\n",
       "      <td>937.559056</td>\n",
       "      <td>0.227646</td>\n",
       "      <td>...</td>\n",
       "      <td>1972.397546</td>\n",
       "      <td>77.436533</td>\n",
       "      <td>98076.245733</td>\n",
       "      <td>47.554242</td>\n",
       "      <td>-122.213894</td>\n",
       "      <td>1991.374400</td>\n",
       "      <td>12566.263467</td>\n",
       "      <td>48.617462</td>\n",
       "      <td>104.143663</td>\n",
       "      <td>152.761125</td>\n",
       "    </tr>\n",
       "    <tr>\n",
       "      <th>std</th>\n",
       "      <td>2.867844e+09</td>\n",
       "      <td>1.643430e+07</td>\n",
       "      <td>0.902832</td>\n",
       "      <td>0.76925</td>\n",
       "      <td>984.417205</td>\n",
       "      <td>3.842964e+04</td>\n",
       "      <td>0.545462</td>\n",
       "      <td>0.082192</td>\n",
       "      <td>268.828882</td>\n",
       "      <td>0.755120</td>\n",
       "      <td>...</td>\n",
       "      <td>29.545072</td>\n",
       "      <td>385.447294</td>\n",
       "      <td>53.580436</td>\n",
       "      <td>0.140877</td>\n",
       "      <td>0.139778</td>\n",
       "      <td>692.536001</td>\n",
       "      <td>26827.490013</td>\n",
       "      <td>22.174254</td>\n",
       "      <td>13.005133</td>\n",
       "      <td>25.724786</td>\n",
       "    </tr>\n",
       "    <tr>\n",
       "      <th>min</th>\n",
       "      <td>1.000102e+06</td>\n",
       "      <td>1.000000e+04</td>\n",
       "      <td>0.000000</td>\n",
       "      <td>0.00000</td>\n",
       "      <td>370.000000</td>\n",
       "      <td>5.200000e+02</td>\n",
       "      <td>1.000000</td>\n",
       "      <td>0.000000</td>\n",
       "      <td>93.000000</td>\n",
       "      <td>0.000000</td>\n",
       "      <td>...</td>\n",
       "      <td>1900.000000</td>\n",
       "      <td>0.000000</td>\n",
       "      <td>98001.000000</td>\n",
       "      <td>47.155900</td>\n",
       "      <td>-122.515000</td>\n",
       "      <td>399.000000</td>\n",
       "      <td>651.000000</td>\n",
       "      <td>10.010585</td>\n",
       "      <td>55.397985</td>\n",
       "      <td>75.072384</td>\n",
       "    </tr>\n",
       "    <tr>\n",
       "      <th>25%</th>\n",
       "      <td>2.124064e+09</td>\n",
       "      <td>3.180000e+05</td>\n",
       "      <td>3.000000</td>\n",
       "      <td>1.75000</td>\n",
       "      <td>1430.000000</td>\n",
       "      <td>5.000000e+03</td>\n",
       "      <td>1.000000</td>\n",
       "      <td>0.000000</td>\n",
       "      <td>757.720000</td>\n",
       "      <td>0.000000</td>\n",
       "      <td>...</td>\n",
       "      <td>1953.000000</td>\n",
       "      <td>0.000000</td>\n",
       "      <td>98031.000000</td>\n",
       "      <td>47.458500</td>\n",
       "      <td>-122.326000</td>\n",
       "      <td>1480.000000</td>\n",
       "      <td>5040.000000</td>\n",
       "      <td>29.262797</td>\n",
       "      <td>95.316786</td>\n",
       "      <td>132.916027</td>\n",
       "    </tr>\n",
       "    <tr>\n",
       "      <th>50%</th>\n",
       "      <td>3.888100e+09</td>\n",
       "      <td>4.517775e+05</td>\n",
       "      <td>3.000000</td>\n",
       "      <td>2.25000</td>\n",
       "      <td>1920.000000</td>\n",
       "      <td>7.566000e+03</td>\n",
       "      <td>1.500000</td>\n",
       "      <td>0.000000</td>\n",
       "      <td>936.580000</td>\n",
       "      <td>0.000000</td>\n",
       "      <td>...</td>\n",
       "      <td>1977.000000</td>\n",
       "      <td>0.000000</td>\n",
       "      <td>98065.000000</td>\n",
       "      <td>47.566950</td>\n",
       "      <td>-122.234000</td>\n",
       "      <td>1840.000000</td>\n",
       "      <td>7601.000000</td>\n",
       "      <td>48.557508</td>\n",
       "      <td>104.253927</td>\n",
       "      <td>152.870930</td>\n",
       "    </tr>\n",
       "    <tr>\n",
       "      <th>75%</th>\n",
       "      <td>7.300410e+09</td>\n",
       "      <td>6.600000e+05</td>\n",
       "      <td>4.000000</td>\n",
       "      <td>2.50000</td>\n",
       "      <td>2570.000000</td>\n",
       "      <td>1.068575e+04</td>\n",
       "      <td>2.000000</td>\n",
       "      <td>0.000000</td>\n",
       "      <td>1116.120000</td>\n",
       "      <td>0.000000</td>\n",
       "      <td>...</td>\n",
       "      <td>1999.000000</td>\n",
       "      <td>0.000000</td>\n",
       "      <td>98117.000000</td>\n",
       "      <td>47.675325</td>\n",
       "      <td>-122.126000</td>\n",
       "      <td>2380.000000</td>\n",
       "      <td>10050.000000</td>\n",
       "      <td>67.847538</td>\n",
       "      <td>112.975883</td>\n",
       "      <td>172.439485</td>\n",
       "    </tr>\n",
       "    <tr>\n",
       "      <th>max</th>\n",
       "      <td>9.895000e+09</td>\n",
       "      <td>1.000000e+08</td>\n",
       "      <td>11.000000</td>\n",
       "      <td>8.00000</td>\n",
       "      <td>17180.000000</td>\n",
       "      <td>1.164794e+06</td>\n",
       "      <td>3.500000</td>\n",
       "      <td>1.000000</td>\n",
       "      <td>1919.340000</td>\n",
       "      <td>4.000000</td>\n",
       "      <td>...</td>\n",
       "      <td>2015.000000</td>\n",
       "      <td>2015.000000</td>\n",
       "      <td>98199.000000</td>\n",
       "      <td>47.777600</td>\n",
       "      <td>-121.321000</td>\n",
       "      <td>6210.000000</td>\n",
       "      <td>871200.000000</td>\n",
       "      <td>86.999842</td>\n",
       "      <td>157.639420</td>\n",
       "      <td>229.276426</td>\n",
       "    </tr>\n",
       "  </tbody>\n",
       "</table>\n",
       "<p>8 rows × 24 columns</p>\n",
       "</div>"
      ],
      "text/plain": [
       "                 id         price      bedrooms    bathrooms   sqft_living  \\\n",
       "count  1.500000e+04  1.500000e+04  15000.000000  15000.00000  15000.000000   \n",
       "mean   4.562654e+09  3.328097e+06      3.372400      2.12635   2096.708267   \n",
       "std    2.867844e+09  1.643430e+07      0.902832      0.76925    984.417205   \n",
       "min    1.000102e+06  1.000000e+04      0.000000      0.00000    370.000000   \n",
       "25%    2.124064e+09  3.180000e+05      3.000000      1.75000   1430.000000   \n",
       "50%    3.888100e+09  4.517775e+05      3.000000      2.25000   1920.000000   \n",
       "75%    7.300410e+09  6.600000e+05      4.000000      2.50000   2570.000000   \n",
       "max    9.895000e+09  1.000000e+08     11.000000      8.00000  17180.000000   \n",
       "\n",
       "           sqft_lot        floors    waterfront     dis_super          view  \\\n",
       "count  1.500000e+04  15000.000000  14997.000000  14997.000000  14997.000000   \n",
       "mean   1.469860e+04      1.509533      0.006801    937.559056      0.227646   \n",
       "std    3.842964e+04      0.545462      0.082192    268.828882      0.755120   \n",
       "min    5.200000e+02      1.000000      0.000000     93.000000      0.000000   \n",
       "25%    5.000000e+03      1.000000      0.000000    757.720000      0.000000   \n",
       "50%    7.566000e+03      1.500000      0.000000    936.580000      0.000000   \n",
       "75%    1.068575e+04      2.000000      0.000000   1116.120000      0.000000   \n",
       "max    1.164794e+06      3.500000      1.000000   1919.340000      4.000000   \n",
       "\n",
       "       ...      yr_built  yr_renovated       zipcode           lat  \\\n",
       "count  ...  14997.000000  15000.000000  15000.000000  15000.000000   \n",
       "mean   ...   1972.397546     77.436533  98076.245733     47.554242   \n",
       "std    ...     29.545072    385.447294     53.580436      0.140877   \n",
       "min    ...   1900.000000      0.000000  98001.000000     47.155900   \n",
       "25%    ...   1953.000000      0.000000  98031.000000     47.458500   \n",
       "50%    ...   1977.000000      0.000000  98065.000000     47.566950   \n",
       "75%    ...   1999.000000      0.000000  98117.000000     47.675325   \n",
       "max    ...   2015.000000   2015.000000  98199.000000     47.777600   \n",
       "\n",
       "               long  sqft_living15     sqft_lot15          ahf1          ahf2  \\\n",
       "count  15000.000000   15000.000000   15000.000000  15000.000000  15000.000000   \n",
       "mean    -122.213894    1991.374400   12566.263467     48.617462    104.143663   \n",
       "std        0.139778     692.536001   26827.490013     22.174254     13.005133   \n",
       "min     -122.515000     399.000000     651.000000     10.010585     55.397985   \n",
       "25%     -122.326000    1480.000000    5040.000000     29.262797     95.316786   \n",
       "50%     -122.234000    1840.000000    7601.000000     48.557508    104.253927   \n",
       "75%     -122.126000    2380.000000   10050.000000     67.847538    112.975883   \n",
       "max     -121.321000    6210.000000  871200.000000     86.999842    157.639420   \n",
       "\n",
       "               ahf3  \n",
       "count  15000.000000  \n",
       "mean     152.761125  \n",
       "std       25.724786  \n",
       "min       75.072384  \n",
       "25%      132.916027  \n",
       "50%      152.870930  \n",
       "75%      172.439485  \n",
       "max      229.276426  \n",
       "\n",
       "[8 rows x 24 columns]"
      ]
     },
     "execution_count": 13,
     "metadata": {},
     "output_type": "execute_result"
    }
   ],
   "source": [
    "df.describe()"
   ]
  },
  {
   "cell_type": "code",
   "execution_count": null,
   "metadata": {},
   "outputs": [],
   "source": [
    "#JOKE: Aber vllt. was ähnliches zur ersten visualisierung\n",
    "sns.pairplot(df, \n",
    "    x_vars=['price', 'bedrooms', 'bathrooms', 'sqft_living','sqft_lot', 'floors', 'waterfront', 'dis_super', 'view', 'condition','grade', 'sqft_above', 'sqft_basement', 'yr_built', 'yr_renovated','sqft_living15', 'sqft_lot15'],\n",
    "    y_vars=['price', 'bedrooms', 'bathrooms', 'sqft_living','sqft_lot', 'floors', 'waterfront', 'dis_super', 'view', 'condition','grade', 'sqft_above', 'sqft_basement', 'yr_built', 'yr_renovated','sqft_living15', 'sqft_lot15'],\n",
    "    corner=True)"
   ]
  },
  {
   "cell_type": "markdown",
   "metadata": {},
   "source": [
    "### Korrelation\n",
    "#### Visualisierung\n",
    "Spearman Korrelation aufgrund der fehlenden normalverteilung (Ausnahme \"dis_super\"). Wert um 0 bedeuten eine geringe Kerrelation. Werte richtung 1 oder -1 zeigen eine starke Korrelation (positiv & negativ)"
   ]
  },
  {
   "cell_type": "code",
   "execution_count": 47,
   "metadata": {},
   "outputs": [
    {
     "data": {
      "image/png": "[encoded data removed]",
      "text/plain": [
       "<Figure size 1440x1080 with 2 Axes>"
      ]
     },
     "metadata": {
      "needs_background": "light"
     },
     "output_type": "display_data"
    }
   ],
   "source": [
    "#data \n",
    "corr =df.corr(method=\"spearman\")\n",
    "#Größe der Heatmap\n",
    "fig, ax = plt.subplots(figsize=(20,15))\n",
    "#Colorpalette\n",
    "cmap = sns.color_palette(\"coolwarm\", as_cmap=True)\n",
    "#Heatmap\n",
    "sns.heatmap(ax=ax,data=corr,cmap=cmap)\n",
    "plt.show()"
   ]
  },
  {
   "cell_type": "code",
   "execution_count": 34,
   "metadata": {},
   "outputs": [
    {
     "name": "stdout",
     "output_type": "stream",
     "text": [
      "0.008504380766602673\n"
     ]
    }
   ],
   "source": [
    "#Korrelation für \"dis_super\"\n",
    "corr2 =df[\"dis_super\"].corr(df[\"price\"], method=\"pearson\")\n",
    "print(corr2)"
   ]
  },
  {
   "cell_type": "markdown",
   "metadata": {},
   "source": [
    "#### In Zahlen"
   ]
  },
  {
   "cell_type": "code",
   "execution_count": 70,
   "metadata": {},
   "outputs": [
    {
     "name": "stdout",
     "output_type": "stream",
     "text": [
      "Die Korrelation von price zum Preis: 1.0\n",
      "Die Korrelation von grade zum Preis: 0.6401067473706725\n",
      "Die Korrelation von sqft_living zum Preis: 0.6062749275007229\n",
      "Die Korrelation von sqft_living15 zum Preis: 0.5421231339869004\n",
      "Die Korrelation von sqft_above zum Preis: 0.5159252796909916\n",
      "Die Korrelation von bathrooms zum Preis: 0.4929443152367283\n",
      "Die Korrelation von lat zum Preis: 0.4585259627037452\n",
      "Die Korrelation von floors zum Preis: 0.3462941803523132\n",
      "Die Korrelation von bedrooms zum Preis: 0.3176570486167373\n",
      "Die Korrelation von view zum Preis: 0.2683337124341474\n",
      "Die Korrelation von sqft_basement zum Preis: 0.22884018395222322\n",
      "Die Korrelation von yr_built zum Preis: 0.16733427424846842\n",
      "Die Korrelation von waterfront zum Preis: 0.09890211702041925\n",
      "Die Korrelation von yr_renovated zum Preis: 0.08277683118942765\n",
      "Die Korrelation von long zum Preis: 0.07914908402820331\n",
      "Die Korrelation von zipcode zum Preis: 0.03421738873320275\n",
      "Die Korrelation von sqft_lot zum Preis: 0.015221518831488031\n",
      "Die Korrelation von sqft_lot15 zum Preis: 0.008740856657857536\n",
      "Die Korrelation von id zum Preis: 0.008218217562440388\n",
      "Die Korrelation von dis_super zum Preis: 0.005699320693806451\n",
      "Die Korrelation von ahf1 zum Preis: 0.005115327756180583\n",
      "Die Korrelation von ahf3 zum Preis: 0.0022080820933806406\n",
      "Die Korrelation von ahf2 zum Preis: -0.004882573272800752\n",
      "Die Korrelation von condition zum Preis: -0.01877991938221285\n"
     ]
    }
   ],
   "source": [
    "corr_fig = corr[\"price\"]\n",
    "ix = corr.sort_values('price', ascending=False).index\n",
    "for i in ix:\n",
    "    print(\"Die Korrelation von\", i,\"zum Preis:\", corr_fig[i])"
   ]
  },
  {
   "cell_type": "markdown",
   "metadata": {},
   "source": [
    "#### Schlussfolgerungen\n",
    "Mit dem Preis korrelieren insbesondere die Features 'grade', 'sqft_living', 'sqft_living15', 'sqft_above', 'bathrooms', 'lat', 'floors' und 'bedrooms' Diese sollten bei der Feature Selection aufjedenfall berücksichtigt werden."
   ]
  },
  {
   "cell_type": "markdown",
   "metadata": {},
   "source": [
    "### Missing Values\n",
    "##### NaN "
   ]
  },
  {
   "cell_type": "code",
   "execution_count": null,
   "metadata": {},
   "outputs": [],
   "source": [
    "df.info()"
   ]
  },
  {
   "cell_type": "code",
   "execution_count": null,
   "metadata": {},
   "outputs": [],
   "source": [
    "print(\"Die Anzahl der Zeilen, in denen MV vorhanden und gekennzeichnet sind beträgt\",len(df[df.isnull().any(axis=1)]),\":\")\n",
    "df[df.isnull().any(axis=1)]"
   ]
  },
  {
   "cell_type": "markdown",
   "metadata": {},
   "source": [
    "Es fehlen drei Werte in den Features \"Waterfront\", \"dis_super\", \"view\", \"condition\", \"grade\", \"sqft_above\", \"sqft_basement\" und \"yr_build\". Da diese aber alle in den selben drei Zeilen Fehlen kann man auch aufgrund der Größe des Datensatzes diese drei Zeilen löschen."
   ]
  },
  {
   "cell_type": "code",
   "execution_count": null,
   "metadata": {},
   "outputs": [],
   "source": [
    "#Löschen aller Zeilen mit MV\n",
    "df=df.dropna()"
   ]
  },
  {
   "cell_type": "markdown",
   "metadata": {},
   "source": [
    "### Missing Values, die nicht als NaN gekennzeichnet sind"
   ]
  },
  {
   "cell_type": "code",
   "execution_count": 14,
   "metadata": {},
   "outputs": [
    {
     "data": {
      "image/png": "[encoded data removed]",
      "text/plain": [
       "<Figure size 1440x1080 with 16 Axes>"
      ]
     },
     "metadata": {
      "needs_background": "light"
     },
     "output_type": "display_data"
    }
   ],
   "source": [
    "#Hab mir mal deinen Code geklaut -Tim\n",
    "re_col=['price', 'bedrooms', 'bathrooms', 'sqft_living',\n",
    "       'sqft_lot', 'floors', 'dis_super', 'view', 'condition',\n",
    "       'grade', 'sqft_above', 'sqft_basement', 'yr_built', 'yr_renovated',\n",
    "       'sqft_living15', 'sqft_lot15']\n",
    "\n",
    "fig, ax = plt.subplots(4,4, figsize=(20,15))\n",
    "fig.subplots_adjust(hspace = .4, wspace=0.8)\n",
    "ax=ax.ravel()\n",
    "\n",
    "x=0\n",
    "for i in re_col:\n",
    "    ax[x].hist(df[i])\n",
    "    ax[x].set_title(i)\n",
    "    x+=1"
   ]
  },
  {
   "cell_type": "code",
   "execution_count": null,
   "metadata": {},
   "outputs": [],
   "source": [
    "df.condition.describe()"
   ]
  },
  {
   "cell_type": "markdown",
   "metadata": {},
   "source": [
    "Bei den Features **view** und **yr_renovated** scheint der Wert 0 fehlende Werte anzugeben.  \n",
    "Auch bei **price**, **sqft_lot** und **sqft_lot 15** gibt es unnatürlich viele Werte bei 0. Das scheint aber an Ausreißern (siehe weiter unter) und der kleinen Darstellung zu liegen.\n"
   ]
  },
  {
   "cell_type": "code",
   "execution_count": null,
   "metadata": {},
   "outputs": [],
   "source": [
    "len_original = len(df)\n",
    "len_view_values = len(df.loc[df.view != 0])\n",
    "len_renovated_values = len(df.loc[df.yr_renovated != 0])\n",
    "\n",
    "print(f\"view:\\nVon {len_original} Zeilen enthalten {len_view_values} einen Wert\\nDas sind {round(len_view_values/len_original*100, 2)}%\\n\")\n",
    "print(f\"yr_renovated:\\nVon {len_original} Zeilen enthalten {len_renovated_values} einen Wert\\nDas sind {round(len_renovated_values/len_original*100, 2)}%\\n\")"
   ]
  },
  {
   "cell_type": "markdown",
   "metadata": {},
   "source": [
    "Die Features **view** und **yr_renovated** enthalten größtenteils fehlende Werte. Die Zeilen zu entfernen ist daher keine Option.  \n",
    "Außerdem liefern uns diese fehlenden Werte womöglich Informationen:  "
   ]
  },
  {
   "cell_type": "code",
   "execution_count": null,
   "metadata": {},
   "outputs": [],
   "source": [
    "no_renovated_mean = round(df1.loc[df1.yr_renovated == 0].price.mean(), 2)\n",
    "renovated_mean = round(df1.loc[df1.yr_renovated != 0].price.mean(), 2)\n",
    "\n",
    "print(f\"The median price for not renovated buildings is : {not_renovated_mean}\\nThe median price for renovated buildings is : {renovated_mean}\")"
   ]
  },
  {
   "cell_type": "markdown",
   "metadata": {},
   "source": [
    "> Die Analyse macht erst nach der entfernung von Ausreißern sinn. Mehrere hundert Gebäude sind 999999999 Euro Wert."
   ]
  },
  {
   "cell_type": "code",
   "execution_count": null,
   "metadata": {},
   "outputs": [],
   "source": [
    "no_view_mean = round(df.loc[df.view == 0].price.mean(), 2)\n",
    "view_mean = round(df.loc[df.view != 0].price.mean(), 2)\n",
    "\n",
    "print(f\"The median price for not renovated buildings is : {no_view_mean}\\nThe median price for renovated buildings is : {view_mean}\")"
   ]
  },
  {
   "cell_type": "markdown",
   "metadata": {},
   "source": [
    "### Outliers"
   ]
  },
  {
   "cell_type": "code",
   "execution_count": null,
   "metadata": {},
   "outputs": [],
   "source": [
    "#Visuallisierung von Ausreißern\n",
    "re_col=['price', 'bedrooms', 'bathrooms', 'sqft_living',\n",
    "       'sqft_lot', 'floors', 'dis_super', 'view', 'condition',\n",
    "       'grade', 'sqft_above', 'sqft_basement', 'yr_built', 'yr_renovated',\n",
    "       'sqft_living15', 'sqft_lot15']\n",
    "\n",
    "fig, ax = plt.subplots(4,4, figsize=(20,15))\n",
    "fig.subplots_adjust(hspace = .4, wspace=0.8)\n",
    "ax=ax.ravel()\n",
    "\n",
    "x=0\n",
    "for i in re_col:\n",
    "    ax[x].boxplot(df[i])\n",
    "    ax[x].set_title(i)\n",
    "    x+=1\n",
    "\n",
    "#Ausreißer behandlung natürlich erst nach der Normalisierung aber für den ersten überblick. \n",
    "#Anmerkung von Tim: Warum erst nach der Normalisierung? Normalisierung kann nicht mit Ausreßern umgehen. "
   ]
  },
  {
   "cell_type": "code",
   "execution_count": null,
   "metadata": {},
   "outputs": [],
   "source": [
    "df.loc[df.view != 0].view"
   ]
  },
  {
   "cell_type": "markdown",
   "metadata": {},
   "source": [
    "Ganz klare Ausreißer beim Preis und bei den verschiedenen Flächen (sqft_...)  \n",
    "  \n",
    "Außerdem auffällig:  \n",
    "- yr_renovated \n",
    "\n"
   ]
  },
  {
   "cell_type": "markdown",
   "metadata": {},
   "source": [
    "### Noise"
   ]
  },
  {
   "cell_type": "markdown",
   "metadata": {},
   "source": [
    "### Transformed, standardized or normalized"
   ]
  },
  {
   "cell_type": "code",
   "execution_count": null,
   "metadata": {},
   "outputs": [],
   "source": [
    "#Transform Data \n",
    "\n",
    "#Example --> string to datetime\n",
    "df[\"date\"] = pd.to_datetime(df[\"date\"])\n",
    "print(df[\"grade\"])\n",
    "df.tail()"
   ]
  },
  {
   "cell_type": "markdown",
   "metadata": {},
   "source": [
    "### Featurewise"
   ]
  },
  {
   "cell_type": "code",
   "execution_count": null,
   "metadata": {},
   "outputs": [],
   "source": [
    "print(df.columns)"
   ]
  },
  {
   "cell_type": "markdown",
   "metadata": {},
   "source": [
    "**ID**  \n",
    "Identifier. Kein Mehrwert für ML.  \n",
    "--> Entfernen\n",
    "\n",
    "**Date**  \n",
    "Anscheinend keine Ausreißer  \n",
    "Das Datum sollte man vermutlich einfach so lassen.  \n",
    "--> ?"
   ]
  },
  {
   "cell_type": "code",
   "execution_count": null,
   "metadata": {},
   "outputs": [],
   "source": [
    "plt.hist(df.price)"
   ]
  }
 ],
 "metadata": {
  "interpreter": {
   "hash": "d2ebf17d45c7af4a36f0f07b961dd12e807ea35b4adbc138560199c81924371e"
  },
  "kernelspec": {
   "display_name": "Python 3.9.7 ('base')",
   "language": "python",
   "name": "python3"
  },
  "language_info": {
   "codemirror_mode": {
    "name": "ipython",
    "version": 3
   },
   "file_extension": ".py",
   "mimetype": "text/x-python",
   "name": "python",
   "nbconvert_exporter": "python",
   "pygments_lexer": "ipython3",
   "version": "3.9.7"
  },
  "orig_nbformat": 4
 },
 "nbformat": 4,
 "nbformat_minor": 2
}
