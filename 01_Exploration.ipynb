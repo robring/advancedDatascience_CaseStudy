{
 "cells": [
  {
   "cell_type": "markdown",
   "metadata": {},
   "source": [
    "## Case Study\n",
    "\n",
    "Task1 Exploration"
   ]
  },
  {
   "cell_type": "code",
   "execution_count": 1,
   "metadata": {},
   "outputs": [],
   "source": [
    "import pandas as pd\n",
    "import numpy as np"
   ]
  },
  {
   "cell_type": "code",
   "execution_count": 11,
   "metadata": {},
   "outputs": [],
   "source": [
    "#Get raw Data\n",
    "df = pd.read_csv(\"data/house_data_training.csv\", sep=';') \n",
    "df = df.iloc[:, 1:]"
   ]
  },
  {
   "cell_type": "code",
   "execution_count": 12,
   "metadata": {},
   "outputs": [
    {
     "data": {
      "text/plain": [
       "0       2014-07-08\n",
       "1       2014-05-27\n",
       "2       2015-04-17\n",
       "3       2015-01-07\n",
       "4       2014-07-14\n",
       "           ...    \n",
       "14995   2014-08-16\n",
       "14996   2015-02-19\n",
       "14997   2014-10-07\n",
       "14998   2014-11-13\n",
       "14999   2014-06-03\n",
       "Name: date, Length: 15000, dtype: datetime64[ns]"
      ]
     },
     "execution_count": 12,
     "metadata": {},
     "output_type": "execute_result"
    }
   ],
   "source": [
    "#Transform Data \n",
    "\n",
    "#Example --> string to datetime\n",
    "df[\"date\"] = pd.to_datetime(df[\"date\"])\n",
    "df[\"date\"]"
   ]
  }
 ],
 "metadata": {
  "interpreter": {
   "hash": "dac494b5a646e4864a42364743232279aabdb40846e1ef73ed5e92c4b5911599"
  },
  "kernelspec": {
   "display_name": "Python 3.9.7 ('base')",
   "language": "python",
   "name": "python3"
  },
  "language_info": {
   "codemirror_mode": {
    "name": "ipython",
    "version": 3
   },
   "file_extension": ".py",
   "mimetype": "text/x-python",
   "name": "python",
   "nbconvert_exporter": "python",
   "pygments_lexer": "ipython3",
   "version": "3.9.7"
  },
  "orig_nbformat": 4
 },
 "nbformat": 4,
 "nbformat_minor": 2
}
