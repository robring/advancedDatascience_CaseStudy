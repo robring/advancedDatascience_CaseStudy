{
 "cells": [
  {
   "cell_type": "markdown",
   "metadata": {},
   "source": [
    "# Case Study\n",
    "\n",
    "## Task1 Exploration"
   ]
  },
  {
   "cell_type": "code",
   "execution_count": 1,
   "metadata": {},
   "outputs": [],
   "source": [
    "import pandas as pd\n",
    "import numpy as np\n",
    "import matplotlib.pyplot as plt\n",
    "import seaborn as sns"
   ]
  },
  {
   "cell_type": "code",
   "execution_count": 85,
   "metadata": {},
   "outputs": [],
   "source": [
    "#Get raw Data\n",
    "df = pd.read_csv(\"data/house_data_training.csv\", sep=';') \n",
    "#Deleting row index\n",
    "df = df.iloc[:, 1:]"
   ]
  },
  {
   "cell_type": "markdown",
   "metadata": {},
   "source": [
    "### Visualisation "
   ]
  },
  {
   "cell_type": "code",
   "execution_count": 3,
   "metadata": {},
   "outputs": [
    {
     "data": {
      "text/html": [
       "<div>\n",
       "<style scoped>\n",
       "    .dataframe tbody tr th:only-of-type {\n",
       "        vertical-align: middle;\n",
       "    }\n",
       "\n",
       "    .dataframe tbody tr th {\n",
       "        vertical-align: top;\n",
       "    }\n",
       "\n",
       "    .dataframe thead th {\n",
       "        text-align: right;\n",
       "    }\n",
       "</style>\n",
       "<table border=\"1\" class=\"dataframe\">\n",
       "  <thead>\n",
       "    <tr style=\"text-align: right;\">\n",
       "      <th></th>\n",
       "      <th>id</th>\n",
       "      <th>price</th>\n",
       "      <th>bedrooms</th>\n",
       "      <th>bathrooms</th>\n",
       "      <th>sqft_living</th>\n",
       "      <th>sqft_lot</th>\n",
       "      <th>floors</th>\n",
       "      <th>waterfront</th>\n",
       "      <th>dis_super</th>\n",
       "      <th>view</th>\n",
       "      <th>...</th>\n",
       "      <th>yr_built</th>\n",
       "      <th>yr_renovated</th>\n",
       "      <th>zipcode</th>\n",
       "      <th>lat</th>\n",
       "      <th>long</th>\n",
       "      <th>sqft_living15</th>\n",
       "      <th>sqft_lot15</th>\n",
       "      <th>ahf1</th>\n",
       "      <th>ahf2</th>\n",
       "      <th>ahf3</th>\n",
       "    </tr>\n",
       "  </thead>\n",
       "  <tbody>\n",
       "    <tr>\n",
       "      <th>count</th>\n",
       "      <td>1.500000e+04</td>\n",
       "      <td>1.500000e+04</td>\n",
       "      <td>15000.000000</td>\n",
       "      <td>15000.00000</td>\n",
       "      <td>15000.000000</td>\n",
       "      <td>1.500000e+04</td>\n",
       "      <td>15000.000000</td>\n",
       "      <td>14997.000000</td>\n",
       "      <td>14997.000000</td>\n",
       "      <td>14997.000000</td>\n",
       "      <td>...</td>\n",
       "      <td>14997.000000</td>\n",
       "      <td>15000.000000</td>\n",
       "      <td>15000.000000</td>\n",
       "      <td>15000.000000</td>\n",
       "      <td>15000.000000</td>\n",
       "      <td>15000.000000</td>\n",
       "      <td>15000.000000</td>\n",
       "      <td>15000.000000</td>\n",
       "      <td>15000.000000</td>\n",
       "      <td>15000.000000</td>\n",
       "    </tr>\n",
       "    <tr>\n",
       "      <th>mean</th>\n",
       "      <td>4.562654e+09</td>\n",
       "      <td>3.328097e+06</td>\n",
       "      <td>3.372400</td>\n",
       "      <td>2.12635</td>\n",
       "      <td>2096.708267</td>\n",
       "      <td>1.469860e+04</td>\n",
       "      <td>1.509533</td>\n",
       "      <td>0.006801</td>\n",
       "      <td>937.559056</td>\n",
       "      <td>0.227646</td>\n",
       "      <td>...</td>\n",
       "      <td>1972.397546</td>\n",
       "      <td>77.436533</td>\n",
       "      <td>98076.245733</td>\n",
       "      <td>47.554242</td>\n",
       "      <td>-122.213894</td>\n",
       "      <td>1991.374400</td>\n",
       "      <td>12566.263467</td>\n",
       "      <td>48.617462</td>\n",
       "      <td>104.143663</td>\n",
       "      <td>152.761125</td>\n",
       "    </tr>\n",
       "    <tr>\n",
       "      <th>std</th>\n",
       "      <td>2.867844e+09</td>\n",
       "      <td>1.643430e+07</td>\n",
       "      <td>0.902832</td>\n",
       "      <td>0.76925</td>\n",
       "      <td>984.417205</td>\n",
       "      <td>3.842964e+04</td>\n",
       "      <td>0.545462</td>\n",
       "      <td>0.082192</td>\n",
       "      <td>268.828882</td>\n",
       "      <td>0.755120</td>\n",
       "      <td>...</td>\n",
       "      <td>29.545072</td>\n",
       "      <td>385.447294</td>\n",
       "      <td>53.580436</td>\n",
       "      <td>0.140877</td>\n",
       "      <td>0.139778</td>\n",
       "      <td>692.536001</td>\n",
       "      <td>26827.490013</td>\n",
       "      <td>22.174254</td>\n",
       "      <td>13.005133</td>\n",
       "      <td>25.724786</td>\n",
       "    </tr>\n",
       "    <tr>\n",
       "      <th>min</th>\n",
       "      <td>1.000102e+06</td>\n",
       "      <td>1.000000e+04</td>\n",
       "      <td>0.000000</td>\n",
       "      <td>0.00000</td>\n",
       "      <td>370.000000</td>\n",
       "      <td>5.200000e+02</td>\n",
       "      <td>1.000000</td>\n",
       "      <td>0.000000</td>\n",
       "      <td>93.000000</td>\n",
       "      <td>0.000000</td>\n",
       "      <td>...</td>\n",
       "      <td>1900.000000</td>\n",
       "      <td>0.000000</td>\n",
       "      <td>98001.000000</td>\n",
       "      <td>47.155900</td>\n",
       "      <td>-122.515000</td>\n",
       "      <td>399.000000</td>\n",
       "      <td>651.000000</td>\n",
       "      <td>10.010585</td>\n",
       "      <td>55.397985</td>\n",
       "      <td>75.072384</td>\n",
       "    </tr>\n",
       "    <tr>\n",
       "      <th>25%</th>\n",
       "      <td>2.124064e+09</td>\n",
       "      <td>3.180000e+05</td>\n",
       "      <td>3.000000</td>\n",
       "      <td>1.75000</td>\n",
       "      <td>1430.000000</td>\n",
       "      <td>5.000000e+03</td>\n",
       "      <td>1.000000</td>\n",
       "      <td>0.000000</td>\n",
       "      <td>757.720000</td>\n",
       "      <td>0.000000</td>\n",
       "      <td>...</td>\n",
       "      <td>1953.000000</td>\n",
       "      <td>0.000000</td>\n",
       "      <td>98031.000000</td>\n",
       "      <td>47.458500</td>\n",
       "      <td>-122.326000</td>\n",
       "      <td>1480.000000</td>\n",
       "      <td>5040.000000</td>\n",
       "      <td>29.262797</td>\n",
       "      <td>95.316786</td>\n",
       "      <td>132.916027</td>\n",
       "    </tr>\n",
       "    <tr>\n",
       "      <th>50%</th>\n",
       "      <td>3.888100e+09</td>\n",
       "      <td>4.517775e+05</td>\n",
       "      <td>3.000000</td>\n",
       "      <td>2.25000</td>\n",
       "      <td>1920.000000</td>\n",
       "      <td>7.566000e+03</td>\n",
       "      <td>1.500000</td>\n",
       "      <td>0.000000</td>\n",
       "      <td>936.580000</td>\n",
       "      <td>0.000000</td>\n",
       "      <td>...</td>\n",
       "      <td>1977.000000</td>\n",
       "      <td>0.000000</td>\n",
       "      <td>98065.000000</td>\n",
       "      <td>47.566950</td>\n",
       "      <td>-122.234000</td>\n",
       "      <td>1840.000000</td>\n",
       "      <td>7601.000000</td>\n",
       "      <td>48.557508</td>\n",
       "      <td>104.253927</td>\n",
       "      <td>152.870930</td>\n",
       "    </tr>\n",
       "    <tr>\n",
       "      <th>75%</th>\n",
       "      <td>7.300410e+09</td>\n",
       "      <td>6.600000e+05</td>\n",
       "      <td>4.000000</td>\n",
       "      <td>2.50000</td>\n",
       "      <td>2570.000000</td>\n",
       "      <td>1.068575e+04</td>\n",
       "      <td>2.000000</td>\n",
       "      <td>0.000000</td>\n",
       "      <td>1116.120000</td>\n",
       "      <td>0.000000</td>\n",
       "      <td>...</td>\n",
       "      <td>1999.000000</td>\n",
       "      <td>0.000000</td>\n",
       "      <td>98117.000000</td>\n",
       "      <td>47.675325</td>\n",
       "      <td>-122.126000</td>\n",
       "      <td>2380.000000</td>\n",
       "      <td>10050.000000</td>\n",
       "      <td>67.847538</td>\n",
       "      <td>112.975883</td>\n",
       "      <td>172.439485</td>\n",
       "    </tr>\n",
       "    <tr>\n",
       "      <th>max</th>\n",
       "      <td>9.895000e+09</td>\n",
       "      <td>1.000000e+08</td>\n",
       "      <td>11.000000</td>\n",
       "      <td>8.00000</td>\n",
       "      <td>17180.000000</td>\n",
       "      <td>1.164794e+06</td>\n",
       "      <td>3.500000</td>\n",
       "      <td>1.000000</td>\n",
       "      <td>1919.340000</td>\n",
       "      <td>4.000000</td>\n",
       "      <td>...</td>\n",
       "      <td>2015.000000</td>\n",
       "      <td>2015.000000</td>\n",
       "      <td>98199.000000</td>\n",
       "      <td>47.777600</td>\n",
       "      <td>-121.321000</td>\n",
       "      <td>6210.000000</td>\n",
       "      <td>871200.000000</td>\n",
       "      <td>86.999842</td>\n",
       "      <td>157.639420</td>\n",
       "      <td>229.276426</td>\n",
       "    </tr>\n",
       "  </tbody>\n",
       "</table>\n",
       "<p>8 rows × 24 columns</p>\n",
       "</div>"
      ],
      "text/plain": [
       "                 id         price      bedrooms    bathrooms   sqft_living  \\\n",
       "count  1.500000e+04  1.500000e+04  15000.000000  15000.00000  15000.000000   \n",
       "mean   4.562654e+09  3.328097e+06      3.372400      2.12635   2096.708267   \n",
       "std    2.867844e+09  1.643430e+07      0.902832      0.76925    984.417205   \n",
       "min    1.000102e+06  1.000000e+04      0.000000      0.00000    370.000000   \n",
       "25%    2.124064e+09  3.180000e+05      3.000000      1.75000   1430.000000   \n",
       "50%    3.888100e+09  4.517775e+05      3.000000      2.25000   1920.000000   \n",
       "75%    7.300410e+09  6.600000e+05      4.000000      2.50000   2570.000000   \n",
       "max    9.895000e+09  1.000000e+08     11.000000      8.00000  17180.000000   \n",
       "\n",
       "           sqft_lot        floors    waterfront     dis_super          view  \\\n",
       "count  1.500000e+04  15000.000000  14997.000000  14997.000000  14997.000000   \n",
       "mean   1.469860e+04      1.509533      0.006801    937.559056      0.227646   \n",
       "std    3.842964e+04      0.545462      0.082192    268.828882      0.755120   \n",
       "min    5.200000e+02      1.000000      0.000000     93.000000      0.000000   \n",
       "25%    5.000000e+03      1.000000      0.000000    757.720000      0.000000   \n",
       "50%    7.566000e+03      1.500000      0.000000    936.580000      0.000000   \n",
       "75%    1.068575e+04      2.000000      0.000000   1116.120000      0.000000   \n",
       "max    1.164794e+06      3.500000      1.000000   1919.340000      4.000000   \n",
       "\n",
       "       ...      yr_built  yr_renovated       zipcode           lat  \\\n",
       "count  ...  14997.000000  15000.000000  15000.000000  15000.000000   \n",
       "mean   ...   1972.397546     77.436533  98076.245733     47.554242   \n",
       "std    ...     29.545072    385.447294     53.580436      0.140877   \n",
       "min    ...   1900.000000      0.000000  98001.000000     47.155900   \n",
       "25%    ...   1953.000000      0.000000  98031.000000     47.458500   \n",
       "50%    ...   1977.000000      0.000000  98065.000000     47.566950   \n",
       "75%    ...   1999.000000      0.000000  98117.000000     47.675325   \n",
       "max    ...   2015.000000   2015.000000  98199.000000     47.777600   \n",
       "\n",
       "               long  sqft_living15     sqft_lot15          ahf1          ahf2  \\\n",
       "count  15000.000000   15000.000000   15000.000000  15000.000000  15000.000000   \n",
       "mean    -122.213894    1991.374400   12566.263467     48.617462    104.143663   \n",
       "std        0.139778     692.536001   26827.490013     22.174254     13.005133   \n",
       "min     -122.515000     399.000000     651.000000     10.010585     55.397985   \n",
       "25%     -122.326000    1480.000000    5040.000000     29.262797     95.316786   \n",
       "50%     -122.234000    1840.000000    7601.000000     48.557508    104.253927   \n",
       "75%     -122.126000    2380.000000   10050.000000     67.847538    112.975883   \n",
       "max     -121.321000    6210.000000  871200.000000     86.999842    157.639420   \n",
       "\n",
       "               ahf3  \n",
       "count  15000.000000  \n",
       "mean     152.761125  \n",
       "std       25.724786  \n",
       "min       75.072384  \n",
       "25%      132.916027  \n",
       "50%      152.870930  \n",
       "75%      172.439485  \n",
       "max      229.276426  \n",
       "\n",
       "[8 rows x 24 columns]"
      ]
     },
     "execution_count": 3,
     "metadata": {},
     "output_type": "execute_result"
    }
   ],
   "source": [
    "df.describe()"
   ]
  },
  {
   "cell_type": "code",
   "execution_count": null,
   "metadata": {},
   "outputs": [],
   "source": [
    "#JOKE: Aber vllt. was ähnliches zur ersten visualisierung\n",
    "sns.pairplot(df, \n",
    "    x_vars=['price', 'bedrooms', 'bathrooms', 'sqft_living','sqft_lot', 'floors', 'waterfront', 'dis_super', 'view', 'condition','grade', 'sqft_above', 'sqft_basement', 'yr_built', 'yr_renovated','sqft_living15', 'sqft_lot15'],\n",
    "    y_vars=['price', 'bedrooms', 'bathrooms', 'sqft_living','sqft_lot', 'floors', 'waterfront', 'dis_super', 'view', 'condition','grade', 'sqft_above', 'sqft_basement', 'yr_built', 'yr_renovated','sqft_living15', 'sqft_lot15'],\n",
    "    corner=True)"
   ]
  },
  {
   "cell_type": "markdown",
   "metadata": {},
   "source": [
    "### Missing Values\n",
    "##### NaN "
   ]
  },
  {
   "cell_type": "code",
   "execution_count": 5,
   "metadata": {},
   "outputs": [
    {
     "name": "stdout",
     "output_type": "stream",
     "text": [
      "<class 'pandas.core.frame.DataFrame'>\n",
      "RangeIndex: 15000 entries, 0 to 14999\n",
      "Data columns (total 25 columns):\n",
      " #   Column         Non-Null Count  Dtype  \n",
      "---  ------         --------------  -----  \n",
      " 0   id             15000 non-null  int64  \n",
      " 1   date           15000 non-null  object \n",
      " 2   price          15000 non-null  float64\n",
      " 3   bedrooms       15000 non-null  int64  \n",
      " 4   bathrooms      15000 non-null  float64\n",
      " 5   sqft_living    15000 non-null  int64  \n",
      " 6   sqft_lot       15000 non-null  int64  \n",
      " 7   floors         15000 non-null  float64\n",
      " 8   waterfront     14997 non-null  float64\n",
      " 9   dis_super      14997 non-null  float64\n",
      " 10  view           14997 non-null  float64\n",
      " 11  condition      14997 non-null  float64\n",
      " 12  grade          14997 non-null  float64\n",
      " 13  sqft_above     14997 non-null  float64\n",
      " 14  sqft_basement  14997 non-null  float64\n",
      " 15  yr_built       14997 non-null  float64\n",
      " 16  yr_renovated   15000 non-null  int64  \n",
      " 17  zipcode        15000 non-null  int64  \n",
      " 18  lat            15000 non-null  float64\n",
      " 19  long           15000 non-null  float64\n",
      " 20  sqft_living15  15000 non-null  int64  \n",
      " 21  sqft_lot15     15000 non-null  int64  \n",
      " 22  ahf1           15000 non-null  float64\n",
      " 23  ahf2           15000 non-null  float64\n",
      " 24  ahf3           15000 non-null  float64\n",
      "dtypes: float64(16), int64(8), object(1)\n",
      "memory usage: 2.9+ MB\n"
     ]
    }
   ],
   "source": [
    "df.info()"
   ]
  },
  {
   "cell_type": "code",
   "execution_count": 6,
   "metadata": {},
   "outputs": [
    {
     "name": "stdout",
     "output_type": "stream",
     "text": [
      "Die Anzahl der Zeilen, in denen MV vorhanden sind beträgt 3 :\n"
     ]
    },
    {
     "data": {
      "text/html": [
       "<div>\n",
       "<style scoped>\n",
       "    .dataframe tbody tr th:only-of-type {\n",
       "        vertical-align: middle;\n",
       "    }\n",
       "\n",
       "    .dataframe tbody tr th {\n",
       "        vertical-align: top;\n",
       "    }\n",
       "\n",
       "    .dataframe thead th {\n",
       "        text-align: right;\n",
       "    }\n",
       "</style>\n",
       "<table border=\"1\" class=\"dataframe\">\n",
       "  <thead>\n",
       "    <tr style=\"text-align: right;\">\n",
       "      <th></th>\n",
       "      <th>id</th>\n",
       "      <th>date</th>\n",
       "      <th>price</th>\n",
       "      <th>bedrooms</th>\n",
       "      <th>bathrooms</th>\n",
       "      <th>sqft_living</th>\n",
       "      <th>sqft_lot</th>\n",
       "      <th>floors</th>\n",
       "      <th>waterfront</th>\n",
       "      <th>dis_super</th>\n",
       "      <th>...</th>\n",
       "      <th>yr_built</th>\n",
       "      <th>yr_renovated</th>\n",
       "      <th>zipcode</th>\n",
       "      <th>lat</th>\n",
       "      <th>long</th>\n",
       "      <th>sqft_living15</th>\n",
       "      <th>sqft_lot15</th>\n",
       "      <th>ahf1</th>\n",
       "      <th>ahf2</th>\n",
       "      <th>ahf3</th>\n",
       "    </tr>\n",
       "  </thead>\n",
       "  <tbody>\n",
       "    <tr>\n",
       "      <th>7163</th>\n",
       "      <td>2624049185</td>\n",
       "      <td>20140909T000000</td>\n",
       "      <td>405000.0</td>\n",
       "      <td>3</td>\n",
       "      <td>1.75</td>\n",
       "      <td>1760</td>\n",
       "      <td>5355</td>\n",
       "      <td>1.0</td>\n",
       "      <td>NaN</td>\n",
       "      <td>NaN</td>\n",
       "      <td>...</td>\n",
       "      <td>NaN</td>\n",
       "      <td>0</td>\n",
       "      <td>98118</td>\n",
       "      <td>47.5368</td>\n",
       "      <td>-122.267</td>\n",
       "      <td>1790</td>\n",
       "      <td>6225</td>\n",
       "      <td>13.843391</td>\n",
       "      <td>109.343999</td>\n",
       "      <td>123.187390</td>\n",
       "    </tr>\n",
       "    <tr>\n",
       "      <th>10957</th>\n",
       "      <td>9222400510</td>\n",
       "      <td>20150107T000000</td>\n",
       "      <td>406000.0</td>\n",
       "      <td>2</td>\n",
       "      <td>1.00</td>\n",
       "      <td>880</td>\n",
       "      <td>3000</td>\n",
       "      <td>1.0</td>\n",
       "      <td>NaN</td>\n",
       "      <td>NaN</td>\n",
       "      <td>...</td>\n",
       "      <td>NaN</td>\n",
       "      <td>0</td>\n",
       "      <td>98115</td>\n",
       "      <td>47.6749</td>\n",
       "      <td>-122.323</td>\n",
       "      <td>890</td>\n",
       "      <td>3000</td>\n",
       "      <td>50.170114</td>\n",
       "      <td>102.588214</td>\n",
       "      <td>152.758329</td>\n",
       "    </tr>\n",
       "    <tr>\n",
       "      <th>14780</th>\n",
       "      <td>7011201245</td>\n",
       "      <td>20141107T000000</td>\n",
       "      <td>655000.0</td>\n",
       "      <td>3</td>\n",
       "      <td>1.00</td>\n",
       "      <td>1270</td>\n",
       "      <td>3600</td>\n",
       "      <td>1.5</td>\n",
       "      <td>NaN</td>\n",
       "      <td>NaN</td>\n",
       "      <td>...</td>\n",
       "      <td>NaN</td>\n",
       "      <td>0</td>\n",
       "      <td>98119</td>\n",
       "      <td>47.6368</td>\n",
       "      <td>-122.370</td>\n",
       "      <td>1710</td>\n",
       "      <td>3600</td>\n",
       "      <td>56.035650</td>\n",
       "      <td>121.245433</td>\n",
       "      <td>177.281083</td>\n",
       "    </tr>\n",
       "  </tbody>\n",
       "</table>\n",
       "<p>3 rows × 25 columns</p>\n",
       "</div>"
      ],
      "text/plain": [
       "               id             date     price  bedrooms  bathrooms  \\\n",
       "7163   2624049185  20140909T000000  405000.0         3       1.75   \n",
       "10957  9222400510  20150107T000000  406000.0         2       1.00   \n",
       "14780  7011201245  20141107T000000  655000.0         3       1.00   \n",
       "\n",
       "       sqft_living  sqft_lot  floors  waterfront  dis_super  ...  yr_built  \\\n",
       "7163          1760      5355     1.0         NaN        NaN  ...       NaN   \n",
       "10957          880      3000     1.0         NaN        NaN  ...       NaN   \n",
       "14780         1270      3600     1.5         NaN        NaN  ...       NaN   \n",
       "\n",
       "       yr_renovated  zipcode      lat     long  sqft_living15  sqft_lot15  \\\n",
       "7163              0    98118  47.5368 -122.267           1790        6225   \n",
       "10957             0    98115  47.6749 -122.323            890        3000   \n",
       "14780             0    98119  47.6368 -122.370           1710        3600   \n",
       "\n",
       "            ahf1        ahf2        ahf3  \n",
       "7163   13.843391  109.343999  123.187390  \n",
       "10957  50.170114  102.588214  152.758329  \n",
       "14780  56.035650  121.245433  177.281083  \n",
       "\n",
       "[3 rows x 25 columns]"
      ]
     },
     "execution_count": 6,
     "metadata": {},
     "output_type": "execute_result"
    }
   ],
   "source": [
    "print(\"Die Anzahl der Zeilen, in denen MV vorhanden und gekennzeichnet sind beträgt\",len(df[df.isnull().any(axis=1)]),\":\")\n",
    "df[df.isnull().any(axis=1)]"
   ]
  },
  {
   "cell_type": "markdown",
   "metadata": {},
   "source": [
    "Es fehlen drei Werte in den Features \"Waterfront\", \"dis_super\", \"view\", \"condition\", \"grade\", \"sqft_above\", \"sqft_basement\" und \"yr_build\". Da diese aber alle in den selben drei Zeilen Fehlen kann man auch aufgrund der Größe des Datensatzes diese drei Zeilen löschen."
   ]
  },
  {
   "cell_type": "code",
   "execution_count": 86,
   "metadata": {},
   "outputs": [],
   "source": [
    "#Löschen aller Zeilen mit MV\n",
    "df=df.dropna()"
   ]
  },
  {
   "cell_type": "markdown",
   "metadata": {},
   "source": [
    "### Missing Values, die nicht als NaN gekennzeichnet sind"
   ]
  },
  {
   "cell_type": "code",
   "execution_count": 26,
   "metadata": {},
   "outputs": [
    {
     "data": {
      "image/png": "[encoded data removed]",
      "text/plain": [
       "<Figure size 1440x1080 with 16 Axes>"
      ]
     },
     "metadata": {
      "needs_background": "light"
     },
     "output_type": "display_data"
    }
   ],
   "source": [
    "#Hab mir mal deinen Code geklaut -Tim\n",
    "re_col=['price', 'bedrooms', 'bathrooms', 'sqft_living',\n",
    "       'sqft_lot', 'floors', 'dis_super', 'view', 'condition',\n",
    "       'grade', 'sqft_above', 'sqft_basement', 'yr_built', 'yr_renovated',\n",
    "       'sqft_living15', 'sqft_lot15']\n",
    "\n",
    "fig, ax = plt.subplots(4,4, figsize=(20,15))\n",
    "fig.subplots_adjust(hspace = .4, wspace=0.8)\n",
    "ax=ax.ravel()\n",
    "\n",
    "x=0\n",
    "for i in re_col:\n",
    "    ax[x].hist(df[i])\n",
    "    ax[x].set_title(i)\n",
    "    x+=1"
   ]
  },
  {
   "cell_type": "code",
   "execution_count": 31,
   "metadata": {},
   "outputs": [
    {
     "data": {
      "text/plain": [
       "count    14997.000000\n",
       "mean         3.395279\n",
       "std          0.642622\n",
       "min          1.000000\n",
       "25%          3.000000\n",
       "50%          3.000000\n",
       "75%          4.000000\n",
       "max          5.000000\n",
       "Name: condition, dtype: float64"
      ]
     },
     "execution_count": 31,
     "metadata": {},
     "output_type": "execute_result"
    }
   ],
   "source": [
    "df.condition.describe()"
   ]
  },
  {
   "cell_type": "markdown",
   "metadata": {},
   "source": [
    "Bei den Features **view** und **yr_renovated** scheint der Wert 0 fehlende Werte anzugeben.  \n",
    "Auch bei **price**, **sqft_lot** und **sqft_lot 15** gibt es unnatürlich viele Werte bei 0. Das scheint aber an Ausreißern (siehe weiter unter) und der kleinen Darstellung zu liegen.\n"
   ]
  },
  {
   "cell_type": "code",
   "execution_count": 40,
   "metadata": {},
   "outputs": [
    {
     "name": "stdout",
     "output_type": "stream",
     "text": [
      "view:\n",
      "Von 14997 Zeilen enthalten 1436 einen Wert\n",
      "Das sind 9.58%\n",
      "\n",
      "yr_renovated:\n",
      "Von 14997 Zeilen enthalten 582 einen Wert\n",
      "Das sind 3.88%\n",
      "\n"
     ]
    }
   ],
   "source": [
    "len_original = len(df)\n",
    "len_view_values = len(df.loc[df.view != 0])\n",
    "len_renovated_values = len(df.loc[df.yr_renovated != 0])\n",
    "\n",
    "print(f\"view:\\nVon {len_original} Zeilen enthalten {len_view_values} einen Wert\\nDas sind {round(len_view_values/len_original*100, 2)}%\\n\")\n",
    "print(f\"yr_renovated:\\nVon {len_original} Zeilen enthalten {len_renovated_values} einen Wert\\nDas sind {round(len_renovated_values/len_original*100, 2)}%\\n\")"
   ]
  },
  {
   "cell_type": "markdown",
   "metadata": {},
   "source": [
    "Die Features **view** und **yr_renovated** enthalten größtenteils fehlende Werte. Die Zeilen zu entfernen ist daher keine Option.  \n",
    "Außerdem liefern uns diese fehlenden Werte womöglich Informationen:  "
   ]
  },
  {
   "cell_type": "code",
   "execution_count": 101,
   "metadata": {},
   "outputs": [
    {
     "name": "stdout",
     "output_type": "stream",
     "text": [
      "The median price for not renovated buildings is : 3432718.37\n",
      "The median price for renovated buildings is : 751459.07\n"
     ]
    }
   ],
   "source": [
    "no_renovated_mean = round(df1.loc[df1.yr_renovated == 0].price.mean(), 2)\n",
    "renovated_mean = round(df1.loc[df1.yr_renovated != 0].price.mean(), 2)\n",
    "\n",
    "print(f\"The median price for not renovated buildings is : {not_renovated_mean}\\nThe median price for renovated buildings is : {renovated_mean}\")"
   ]
  },
  {
   "cell_type": "markdown",
   "metadata": {},
   "source": [
    "> Die Analyse macht erst nach der entfernung von Ausreißern sinn. Mehrere hundert Gebäude sind 999999999 Euro Wert."
   ]
  },
  {
   "cell_type": "code",
   "execution_count": 87,
   "metadata": {},
   "outputs": [
    {
     "name": "stdout",
     "output_type": "stream",
     "text": [
      "The median price for not renovated buildings is : 3383639.18\n",
      "The median price for renovated buildings is : 2809508.1\n"
     ]
    }
   ],
   "source": [
    "no_view_mean = round(df.loc[df.view == 0].price.mean(), 2)\n",
    "view_mean = round(df.loc[df.view != 0].price.mean(), 2)\n",
    "\n",
    "print(f\"The median price for not renovated buildings is : {no_view_mean}\\nThe median price for renovated buildings is : {view_mean}\")"
   ]
  },
  {
   "cell_type": "markdown",
   "metadata": {},
   "source": [
    "### Outliers"
   ]
  },
  {
   "cell_type": "code",
   "execution_count": 8,
   "metadata": {},
   "outputs": [
    {
     "data": {
      "image/png": "[encoded data removed]",
      "text/plain": [
       "<Figure size 1440x1080 with 16 Axes>"
      ]
     },
     "metadata": {
      "needs_background": "light"
     },
     "output_type": "display_data"
    }
   ],
   "source": [
    "#Visuallisierung von Ausreißern\n",
    "re_col=['price', 'bedrooms', 'bathrooms', 'sqft_living',\n",
    "       'sqft_lot', 'floors', 'dis_super', 'view', 'condition',\n",
    "       'grade', 'sqft_above', 'sqft_basement', 'yr_built', 'yr_renovated',\n",
    "       'sqft_living15', 'sqft_lot15']\n",
    "\n",
    "fig, ax = plt.subplots(4,4, figsize=(20,15))\n",
    "fig.subplots_adjust(hspace = .4, wspace=0.8)\n",
    "ax=ax.ravel()\n",
    "\n",
    "x=0\n",
    "for i in re_col:\n",
    "    ax[x].boxplot(df[i])\n",
    "    ax[x].set_title(i)\n",
    "    x+=1\n",
    "\n",
    "#Ausreißer behandlung natürlich erst nach der Normalisierung aber für den ersten überblick. \n",
    "#Anmerkung von Tim: Warum erst nach der Normalisierung? Normalisierung kann nicht mit Ausreßern umgehen. "
   ]
  },
  {
   "cell_type": "code",
   "execution_count": 24,
   "metadata": {},
   "outputs": [
    {
     "data": {
      "text/plain": [
       "1        4.0\n",
       "6        2.0\n",
       "19       4.0\n",
       "20       3.0\n",
       "32       1.0\n",
       "        ... \n",
       "14918    4.0\n",
       "14928    2.0\n",
       "14940    1.0\n",
       "14946    2.0\n",
       "14958    2.0\n",
       "Name: view, Length: 1436, dtype: float64"
      ]
     },
     "execution_count": 24,
     "metadata": {},
     "output_type": "execute_result"
    }
   ],
   "source": [
    "df.loc[df.view != 0].view"
   ]
  },
  {
   "cell_type": "markdown",
   "metadata": {},
   "source": [
    "Ganz klare Ausreißer beim Preis und bei den verschiedenen Flächen (sqft_...)  \n",
    "  \n",
    "Außerdem auffällig:  \n",
    "- yr_renovated \n",
    "\n"
   ]
  },
  {
   "cell_type": "markdown",
   "metadata": {},
   "source": [
    "### Noise"
   ]
  },
  {
   "cell_type": "markdown",
   "metadata": {},
   "source": [
    "### Transformed, standardized or normalized"
   ]
  },
  {
   "cell_type": "code",
   "execution_count": 9,
   "metadata": {},
   "outputs": [
    {
     "name": "stdout",
     "output_type": "stream",
     "text": [
      "0         8.0\n",
      "1        10.0\n",
      "2         7.0\n",
      "3         8.0\n",
      "4         8.0\n",
      "         ... \n",
      "14995     7.0\n",
      "14996     9.0\n",
      "14997     8.0\n",
      "14998     8.0\n",
      "14999     8.0\n",
      "Name: grade, Length: 14997, dtype: float64\n"
     ]
    },
    {
     "name": "stderr",
     "output_type": "stream",
     "text": [
      "C:\\Users\\Tim\\AppData\\Local\\Temp\\ipykernel_12680\\2610709597.py:4: SettingWithCopyWarning: \n",
      "A value is trying to be set on a copy of a slice from a DataFrame.\n",
      "Try using .loc[row_indexer,col_indexer] = value instead\n",
      "\n",
      "See the caveats in the documentation: https://pandas.pydata.org/pandas-docs/stable/user_guide/indexing.html#returning-a-view-versus-a-copy\n",
      "  df[\"date\"] = pd.to_datetime(df[\"date\"])\n"
     ]
    },
    {
     "data": {
      "text/html": [
       "<div>\n",
       "<style scoped>\n",
       "    .dataframe tbody tr th:only-of-type {\n",
       "        vertical-align: middle;\n",
       "    }\n",
       "\n",
       "    .dataframe tbody tr th {\n",
       "        vertical-align: top;\n",
       "    }\n",
       "\n",
       "    .dataframe thead th {\n",
       "        text-align: right;\n",
       "    }\n",
       "</style>\n",
       "<table border=\"1\" class=\"dataframe\">\n",
       "  <thead>\n",
       "    <tr style=\"text-align: right;\">\n",
       "      <th></th>\n",
       "      <th>id</th>\n",
       "      <th>date</th>\n",
       "      <th>price</th>\n",
       "      <th>bedrooms</th>\n",
       "      <th>bathrooms</th>\n",
       "      <th>sqft_living</th>\n",
       "      <th>sqft_lot</th>\n",
       "      <th>floors</th>\n",
       "      <th>waterfront</th>\n",
       "      <th>dis_super</th>\n",
       "      <th>...</th>\n",
       "      <th>yr_built</th>\n",
       "      <th>yr_renovated</th>\n",
       "      <th>zipcode</th>\n",
       "      <th>lat</th>\n",
       "      <th>long</th>\n",
       "      <th>sqft_living15</th>\n",
       "      <th>sqft_lot15</th>\n",
       "      <th>ahf1</th>\n",
       "      <th>ahf2</th>\n",
       "      <th>ahf3</th>\n",
       "    </tr>\n",
       "  </thead>\n",
       "  <tbody>\n",
       "    <tr>\n",
       "      <th>14995</th>\n",
       "      <td>5700000905</td>\n",
       "      <td>2014-08-16</td>\n",
       "      <td>739000.0</td>\n",
       "      <td>5</td>\n",
       "      <td>2.5</td>\n",
       "      <td>2840</td>\n",
       "      <td>5000</td>\n",
       "      <td>1.0</td>\n",
       "      <td>0.0</td>\n",
       "      <td>694.64</td>\n",
       "      <td>...</td>\n",
       "      <td>1913.0</td>\n",
       "      <td>0</td>\n",
       "      <td>98144</td>\n",
       "      <td>47.5817</td>\n",
       "      <td>-122.291</td>\n",
       "      <td>2200</td>\n",
       "      <td>5000</td>\n",
       "      <td>24.130536</td>\n",
       "      <td>112.985690</td>\n",
       "      <td>137.116226</td>\n",
       "    </tr>\n",
       "    <tr>\n",
       "      <th>14996</th>\n",
       "      <td>2623069106</td>\n",
       "      <td>2015-02-19</td>\n",
       "      <td>710000.0</td>\n",
       "      <td>6</td>\n",
       "      <td>3.5</td>\n",
       "      <td>3830</td>\n",
       "      <td>68825</td>\n",
       "      <td>2.0</td>\n",
       "      <td>0.0</td>\n",
       "      <td>1156.61</td>\n",
       "      <td>...</td>\n",
       "      <td>1995.0</td>\n",
       "      <td>0</td>\n",
       "      <td>98027</td>\n",
       "      <td>47.4574</td>\n",
       "      <td>-122.003</td>\n",
       "      <td>2410</td>\n",
       "      <td>68825</td>\n",
       "      <td>83.830652</td>\n",
       "      <td>90.383630</td>\n",
       "      <td>174.214282</td>\n",
       "    </tr>\n",
       "    <tr>\n",
       "      <th>14997</th>\n",
       "      <td>1530900290</td>\n",
       "      <td>2014-10-07</td>\n",
       "      <td>475000.0</td>\n",
       "      <td>3</td>\n",
       "      <td>2.5</td>\n",
       "      <td>2280</td>\n",
       "      <td>3710</td>\n",
       "      <td>1.0</td>\n",
       "      <td>0.0</td>\n",
       "      <td>1352.78</td>\n",
       "      <td>...</td>\n",
       "      <td>1990.0</td>\n",
       "      <td>0</td>\n",
       "      <td>98072</td>\n",
       "      <td>47.7350</td>\n",
       "      <td>-122.159</td>\n",
       "      <td>2030</td>\n",
       "      <td>3710</td>\n",
       "      <td>13.268193</td>\n",
       "      <td>117.766765</td>\n",
       "      <td>131.034957</td>\n",
       "    </tr>\n",
       "    <tr>\n",
       "      <th>14998</th>\n",
       "      <td>4310701600</td>\n",
       "      <td>2014-11-13</td>\n",
       "      <td>340000.0</td>\n",
       "      <td>3</td>\n",
       "      <td>2.5</td>\n",
       "      <td>1240</td>\n",
       "      <td>1115</td>\n",
       "      <td>3.0</td>\n",
       "      <td>0.0</td>\n",
       "      <td>1245.41</td>\n",
       "      <td>...</td>\n",
       "      <td>2003.0</td>\n",
       "      <td>0</td>\n",
       "      <td>98103</td>\n",
       "      <td>47.6985</td>\n",
       "      <td>-122.340</td>\n",
       "      <td>1410</td>\n",
       "      <td>1355</td>\n",
       "      <td>48.352194</td>\n",
       "      <td>102.297062</td>\n",
       "      <td>150.649256</td>\n",
       "    </tr>\n",
       "    <tr>\n",
       "      <th>14999</th>\n",
       "      <td>8079010230</td>\n",
       "      <td>2014-06-03</td>\n",
       "      <td>475000.0</td>\n",
       "      <td>3</td>\n",
       "      <td>2.5</td>\n",
       "      <td>2600</td>\n",
       "      <td>7210</td>\n",
       "      <td>2.0</td>\n",
       "      <td>0.0</td>\n",
       "      <td>874.81</td>\n",
       "      <td>...</td>\n",
       "      <td>1989.0</td>\n",
       "      <td>0</td>\n",
       "      <td>98059</td>\n",
       "      <td>47.5123</td>\n",
       "      <td>-122.151</td>\n",
       "      <td>2350</td>\n",
       "      <td>7225</td>\n",
       "      <td>12.626021</td>\n",
       "      <td>95.332639</td>\n",
       "      <td>107.958660</td>\n",
       "    </tr>\n",
       "  </tbody>\n",
       "</table>\n",
       "<p>5 rows × 25 columns</p>\n",
       "</div>"
      ],
      "text/plain": [
       "               id       date     price  bedrooms  bathrooms  sqft_living  \\\n",
       "14995  5700000905 2014-08-16  739000.0         5        2.5         2840   \n",
       "14996  2623069106 2015-02-19  710000.0         6        3.5         3830   \n",
       "14997  1530900290 2014-10-07  475000.0         3        2.5         2280   \n",
       "14998  4310701600 2014-11-13  340000.0         3        2.5         1240   \n",
       "14999  8079010230 2014-06-03  475000.0         3        2.5         2600   \n",
       "\n",
       "       sqft_lot  floors  waterfront  dis_super  ...  yr_built  yr_renovated  \\\n",
       "14995      5000     1.0         0.0     694.64  ...    1913.0             0   \n",
       "14996     68825     2.0         0.0    1156.61  ...    1995.0             0   \n",
       "14997      3710     1.0         0.0    1352.78  ...    1990.0             0   \n",
       "14998      1115     3.0         0.0    1245.41  ...    2003.0             0   \n",
       "14999      7210     2.0         0.0     874.81  ...    1989.0             0   \n",
       "\n",
       "       zipcode      lat     long  sqft_living15  sqft_lot15       ahf1  \\\n",
       "14995    98144  47.5817 -122.291           2200        5000  24.130536   \n",
       "14996    98027  47.4574 -122.003           2410       68825  83.830652   \n",
       "14997    98072  47.7350 -122.159           2030        3710  13.268193   \n",
       "14998    98103  47.6985 -122.340           1410        1355  48.352194   \n",
       "14999    98059  47.5123 -122.151           2350        7225  12.626021   \n",
       "\n",
       "             ahf2        ahf3  \n",
       "14995  112.985690  137.116226  \n",
       "14996   90.383630  174.214282  \n",
       "14997  117.766765  131.034957  \n",
       "14998  102.297062  150.649256  \n",
       "14999   95.332639  107.958660  \n",
       "\n",
       "[5 rows x 25 columns]"
      ]
     },
     "execution_count": 9,
     "metadata": {},
     "output_type": "execute_result"
    }
   ],
   "source": [
    "#Transform Data \n",
    "\n",
    "#Example --> string to datetime\n",
    "df[\"date\"] = pd.to_datetime(df[\"date\"])\n",
    "print(df[\"grade\"])\n",
    "df.tail()"
   ]
  },
  {
   "cell_type": "markdown",
   "metadata": {},
   "source": [
    "### Featurewise"
   ]
  },
  {
   "cell_type": "code",
   "execution_count": 13,
   "metadata": {},
   "outputs": [
    {
     "name": "stdout",
     "output_type": "stream",
     "text": [
      "Index(['id', 'date', 'price', 'bedrooms', 'bathrooms', 'sqft_living',\n",
      "       'sqft_lot', 'floors', 'waterfront', 'dis_super', 'view', 'condition',\n",
      "       'grade', 'sqft_above', 'sqft_basement', 'yr_built', 'yr_renovated',\n",
      "       'zipcode', 'lat', 'long', 'sqft_living15', 'sqft_lot15', 'ahf1', 'ahf2',\n",
      "       'ahf3'],\n",
      "      dtype='object')\n"
     ]
    }
   ],
   "source": [
    "print(df.columns)"
   ]
  },
  {
   "cell_type": "markdown",
   "metadata": {},
   "source": [
    "**ID**  \n",
    "Identifier. Kein Mehrwert für ML.  \n",
    "--> Entfernen\n",
    "\n",
    "**Date**  \n",
    "Anscheinend keine Ausreißer  \n",
    "Das Datum sollte man vermutlich einfach so lassen.  \n",
    "--> ?"
   ]
  },
  {
   "cell_type": "code",
   "execution_count": 18,
   "metadata": {},
   "outputs": [
    {
     "data": {
      "text/plain": [
       "(array([14576.,     0.,     0.,     0.,     0.,     0.,     0.,     0.,\n",
       "            0.,   421.]),\n",
       " array([1.00000000e+04, 1.00089999e+07, 2.00079998e+07, 3.00069997e+07,\n",
       "        4.00059996e+07, 5.00049995e+07, 6.00039994e+07, 7.00029993e+07,\n",
       "        8.00019992e+07, 9.00009991e+07, 9.99999990e+07]),\n",
       " <BarContainer object of 10 artists>)"
      ]
     },
     "execution_count": 18,
     "metadata": {},
     "output_type": "execute_result"
    },
    {
     "data": {
      "image/png": "[encoded data removed]",
      "text/plain": [
       "<Figure size 432x288 with 1 Axes>"
      ]
     },
     "metadata": {
      "needs_background": "light"
     },
     "output_type": "display_data"
    }
   ],
   "source": [
    "plt.hist(df.price)"
   ]
  }
 ],
 "metadata": {
  "interpreter": {
   "hash": "7532ea8c6bdafd29f59cb3623ceebf4d6e6f5e75a745909efacad1f7e88c0d9e"
  },
  "kernelspec": {
   "display_name": "Python 3.10.0 64-bit",
   "language": "python",
   "name": "python3"
  },
  "language_info": {
   "codemirror_mode": {
    "name": "ipython",
    "version": 3
   },
   "file_extension": ".py",
   "mimetype": "text/x-python",
   "name": "python",
   "nbconvert_exporter": "python",
   "pygments_lexer": "ipython3",
   "version": "3.10.0"
  },
  "orig_nbformat": 4
 },
 "nbformat": 4,
 "nbformat_minor": 2
}
