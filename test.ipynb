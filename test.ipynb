{
 "cells": [
  {
   "cell_type": "code",
   "execution_count": 8,
   "metadata": {},
   "outputs": [],
   "source": [
    "import pandas as pd\n",
    "import numpy as np\n",
    "import matplotlib.pyplot as plt\n",
    "import seaborn as sns"
   ]
  },
  {
   "cell_type": "code",
   "execution_count": 9,
   "metadata": {},
   "outputs": [],
   "source": [
    "#Help funcs for colored output\n",
    "from termcolor import colored, cprint\n",
    "def green(txt):\n",
    "    return colored(txt, 'green')\n",
    "def red(txt):\n",
    "    return colored(txt, 'red')\n",
    "def blue(txt):\n",
    "    return colored(txt, 'cyan')\n",
    "def bold(txt):\n",
    "    return colored(txt, attrs=['bold'])"
   ]
  },
  {
   "cell_type": "code",
   "execution_count": 10,
   "metadata": {},
   "outputs": [],
   "source": [
    "#Get raw Data\n",
    "df = pd.read_csv(\"data/house_data_training.csv\", sep=';') \n",
    "# remove unnamed column\n",
    "df = df.iloc[:, 1:]\n",
    "#Transform string to datetime\n",
    "df[\"date\"] = pd.to_datetime(df[\"date\"])\n",
    "df.tail()\n",
    "#Drop rows with NaN values\n",
    "\n",
    "maeList = []#for model selection"
   ]
  },
  {
   "cell_type": "code",
   "execution_count": 11,
   "metadata": {},
   "outputs": [],
   "source": [
    "from sklearn.linear_model import LinearRegression\n",
    "from sklearn.metrics import mean_absolute_error\n",
    "\n",
    "def reg_train_test(X_train, X_test, y_train, y_test):\n",
    "    '''Function for building Basic Regression Model'''\n",
    "\n",
    "    # fit the model\n",
    "    model = LinearRegression()\n",
    "    model.fit(X_train, y_train)\n",
    "\n",
    "    # evaluate the model\n",
    "    ypred = model.predict(X_test)\n",
    "    \n",
    "    # evaluate predictions\n",
    "    mae = mean_absolute_error(y_test, ypred)\n",
    "    maeList.append(mae)\n",
    "    print(f'{bold(\"Mean Absolute Error\")}: {blue(np.round(mae))}\\n')\n",
    "    \n",
    "    print(f'{bold(\"Regression coefficients:\")} \\n{blue(model.coef_)}\\n')\n",
    "    \n",
    "    print(bold(\"Prediction Examples:\"))\n",
    "    for i in range(0, 5):\n",
    "        y_pre= ypred[i]\n",
    "        print(f'{blue(i)} Actual y: {blue(y_test[i])} Predicted y: {blue(np.round(y_pre))}')\n",
    " \n",
    "    return model"
   ]
  },
  {
   "cell_type": "code",
   "execution_count": 12,
   "metadata": {},
   "outputs": [
    {
     "name": "stdout",
     "output_type": "stream",
     "text": [
      "<class 'pandas.core.frame.DataFrame'>\n",
      "Int64Index: 14997 entries, 0 to 14999\n",
      "Data columns (total 25 columns):\n",
      " #   Column         Non-Null Count  Dtype         \n",
      "---  ------         --------------  -----         \n",
      " 0   id             14997 non-null  int64         \n",
      " 1   date           14997 non-null  datetime64[ns]\n",
      " 2   price          14997 non-null  float64       \n",
      " 3   bedrooms       14997 non-null  int64         \n",
      " 4   bathrooms      14997 non-null  float64       \n",
      " 5   sqft_living    14997 non-null  int64         \n",
      " 6   sqft_lot       14997 non-null  int64         \n",
      " 7   floors         14997 non-null  float64       \n",
      " 8   waterfront     14997 non-null  float64       \n",
      " 9   dis_super      14997 non-null  float64       \n",
      " 10  view           14997 non-null  float64       \n",
      " 11  condition      14997 non-null  float64       \n",
      " 12  grade          14997 non-null  float64       \n",
      " 13  sqft_above     14997 non-null  float64       \n",
      " 14  sqft_basement  14997 non-null  float64       \n",
      " 15  yr_built       14997 non-null  float64       \n",
      " 16  yr_renovated   14997 non-null  int64         \n",
      " 17  zipcode        14997 non-null  int64         \n",
      " 18  lat            14997 non-null  float64       \n",
      " 19  long           14997 non-null  float64       \n",
      " 20  sqft_living15  14997 non-null  int64         \n",
      " 21  sqft_lot15     14997 non-null  int64         \n",
      " 22  ahf1           14997 non-null  float64       \n",
      " 23  ahf2           14997 non-null  float64       \n",
      " 24  ahf3           14997 non-null  float64       \n",
      "dtypes: datetime64[ns](1), float64(16), int64(8)\n",
      "memory usage: 3.0 MB\n"
     ]
    }
   ],
   "source": [
    "df = df.dropna()\n",
    "df.info()"
   ]
  },
  {
   "cell_type": "code",
   "execution_count": 13,
   "metadata": {},
   "outputs": [
    {
     "name": "stdout",
     "output_type": "stream",
     "text": [
      "\u001b[1mPotential Outliers:\u001b[0m\n",
      "\u001b[1mid\u001b[0m detected: \u001b[36m0\u001b[0m\n",
      "\u001b[1mdate\u001b[0m detected: \u001b[36m0\u001b[0m\n",
      "\u001b[1mprice\u001b[0m detected: \u001b[36m421\u001b[0m\n",
      "\u001b[1mbedrooms\u001b[0m detected: \u001b[36m50\u001b[0m\n",
      "\u001b[1mbathrooms\u001b[0m detected: \u001b[36m120\u001b[0m\n",
      "\u001b[1msqft_living\u001b[0m detected: \u001b[36m144\u001b[0m\n",
      "\u001b[1msqft_lot\u001b[0m detected: \u001b[36m241\u001b[0m\n",
      "\u001b[1mfloors\u001b[0m detected: \u001b[36m6\u001b[0m\n",
      "\u001b[1mwaterfront\u001b[0m detected: \u001b[36m102\u001b[0m\n",
      "\u001b[1mdis_super\u001b[0m detected: \u001b[36m40\u001b[0m\n",
      "\u001b[1mview\u001b[0m detected: \u001b[36m559\u001b[0m\n",
      "\u001b[1mcondition\u001b[0m detected: \u001b[36m23\u001b[0m\n",
      "\u001b[1mgrade\u001b[0m detected: \u001b[36m85\u001b[0m\n",
      "\u001b[1msqft_above\u001b[0m detected: \u001b[36m169\u001b[0m\n",
      "\u001b[1msqft_basement\u001b[0m detected: \u001b[36m168\u001b[0m\n",
      "\u001b[1myr_built\u001b[0m detected: \u001b[36m0\u001b[0m\n"
     ]
    },
    {
     "ename": "NameError",
     "evalue": "name 'yr_renovated' is not defined",
     "output_type": "error",
     "traceback": [
      "\u001b[1;31m---------------------------------------------------------------------------\u001b[0m",
      "\u001b[1;31mNameError\u001b[0m                                 Traceback (most recent call last)",
      "\u001b[1;32m~\\AppData\\Local\\Temp/ipykernel_9704/3500301126.py\u001b[0m in \u001b[0;36m<module>\u001b[1;34m\u001b[0m\n\u001b[0;32m     12\u001b[0m     \u001b[1;31m# if feature_data.isnumeric():\u001b[0m\u001b[1;33m\u001b[0m\u001b[1;33m\u001b[0m\u001b[0m\n\u001b[0;32m     13\u001b[0m \u001b[1;33m\u001b[0m\u001b[0m\n\u001b[1;32m---> 14\u001b[1;33m     \u001b[1;32mif\u001b[0m \u001b[1;32mnot\u001b[0m \u001b[0mfeature\u001b[0m \u001b[1;33m==\u001b[0m \u001b[1;34m\"yr_renovated\"\u001b[0m \u001b[1;32mor\u001b[0m \u001b[0mfeature\u001b[0m \u001b[1;33m==\u001b[0m \u001b[0myr_renovated\u001b[0m\u001b[1;33m:\u001b[0m\u001b[1;33m\u001b[0m\u001b[1;33m\u001b[0m\u001b[0m\n\u001b[0m\u001b[0;32m     15\u001b[0m         \u001b[0mdf_feature\u001b[0m \u001b[1;33m=\u001b[0m \u001b[0mpd\u001b[0m\u001b[1;33m.\u001b[0m\u001b[0mconcat\u001b[0m\u001b[1;33m(\u001b[0m\u001b[1;33m[\u001b[0m\u001b[0mfeature_data\u001b[0m\u001b[1;33m,\u001b[0m \u001b[0mprice_data\u001b[0m\u001b[1;33m]\u001b[0m\u001b[1;33m,\u001b[0m \u001b[0maxis\u001b[0m\u001b[1;33m=\u001b[0m\u001b[1;36m1\u001b[0m\u001b[1;33m)\u001b[0m\u001b[1;33m\u001b[0m\u001b[1;33m\u001b[0m\u001b[0m\n\u001b[0;32m     16\u001b[0m         \u001b[0mdf_feature\u001b[0m\u001b[1;33m[\u001b[0m\u001b[1;34m\"outlier\"\u001b[0m\u001b[1;33m]\u001b[0m \u001b[1;33m=\u001b[0m \u001b[1;36m0\u001b[0m\u001b[1;33m\u001b[0m\u001b[1;33m\u001b[0m\u001b[0m\n",
      "\u001b[1;31mNameError\u001b[0m: name 'yr_renovated' is not defined"
     ]
    }
   ],
   "source": [
    "#Univariate outlier detection based on descriptive statistics (three standard deviations)\n",
    "#can be useful to identify extreme outliers\n",
    "\n",
    "feature_list = df.columns\n",
    "outliers_dict = {}#dict for storing outlierts for an outlier summary df\n",
    "outliers_plot_dict = {}#dict for plotting outliers in scatterplot\n",
    "outlier_list_unique = []\n",
    "print(bold(\"Potential Outliers:\"))\n",
    "for feature in feature_list:\n",
    "    feature_data = df[feature]\n",
    "    price_data = df[\"price\"]\n",
    "    # if feature_data.isnumeric():\n",
    "    \n",
    "    if not feature == \"yr_renovated\" or feature == yr_renovated:\n",
    "        df_feature = pd.concat([feature_data, price_data], axis=1)\n",
    "        df_feature[\"outlier\"] = 0\n",
    "\n",
    "        three_std=feature_data.std()*3\n",
    "        mean=feature_data.mean()\n",
    "\n",
    "        inlier_low=mean-three_std\n",
    "        inlier_high=mean+three_std\n",
    "        #print(\"mean: \",mean, \"lower boundary inlier: \",inlier_low, \"upper boundary inlier\",inlier_high,\"\\n\")\n",
    "\n",
    "        outlier_list = [] #list for storing indexes of outliers\n",
    "        for i, value in enumerate(feature_data):\n",
    "            if value < inlier_low or value > inlier_high:\n",
    "                outlier_list.append(i)\n",
    "                df_feature.iloc[i,2] = 1      \n",
    "\n",
    "        print(f'{bold(feature)} detected: {blue(len(outlier_list))}')\n",
    "        if not len(outlier_list) == 0:\n",
    "            outliers_dict[str(feature)]=outlier_list\n",
    "            outliers_plot_dict[str(feature)]=df_feature\n",
    "            outlier_list_unique =  list(set(outlier_list_unique) | set(outlier_list))\n",
    "        #print(type(df_feature), df_feature.head())\n",
    "\n",
    "#store indexes from the original df of every potential outlier existing in a new df for every column\n",
    "df_outliers = pd.DataFrame(dict([ (k,pd.Series(v)) for k,v in outliers_dict.items() ]))\n",
    "#print(df_outliers.tail())\n",
    "#print(df_feature.tail())   \n",
    "\n",
    "print(len(outlier_list_unique))  "
   ]
  },
  {
   "cell_type": "code",
   "execution_count": null,
   "metadata": {},
   "outputs": [
    {
     "name": "stdout",
     "output_type": "stream",
     "text": [
      "\u001b[1mMean Absolute Error\u001b[0m: \u001b[36m3585970.0\u001b[0m\n",
      "\n",
      "\u001b[1mRegression coefficients:\u001b[0m \n",
      "\u001b[36m[-6.44274132e-05  5.16359323e-12 -8.70121419e+01  6.47377643e+02\n",
      " -4.62884802e+01 -3.80603444e+00  5.20325462e+02 -3.59925760e+00\n",
      "  3.61666333e+02 -9.00278821e+01 -6.63201785e+02  5.78118881e+02\n",
      "  4.64612686e+02 -9.20804822e+01  6.91442343e+04  4.63768354e+02\n",
      "  1.20216427e+04 -2.58409180e+01  4.96428463e+01 -2.47366709e+02\n",
      " -1.21237858e+01  7.70977537e+02  4.50611073e+03  5.27708826e+03]\u001b[0m\n",
      "\n",
      "\u001b[1mPrediction Examples:\u001b[0m\n",
      "\u001b[36m0\u001b[0m Actual y: \u001b[36m550000.0\u001b[0m Predicted y: \u001b[36m-784176.0\u001b[0m\n",
      "\u001b[36m1\u001b[0m Actual y: \u001b[36m337000.0\u001b[0m Predicted y: \u001b[36m3496217.0\u001b[0m\n",
      "\u001b[36m2\u001b[0m Actual y: \u001b[36m840000.0\u001b[0m Predicted y: \u001b[36m599041.0\u001b[0m\n",
      "\u001b[36m3\u001b[0m Actual y: \u001b[36m780000.0\u001b[0m Predicted y: \u001b[36m3911485.0\u001b[0m\n",
      "\u001b[36m4\u001b[0m Actual y: \u001b[36m247000.0\u001b[0m Predicted y: \u001b[36m2281210.0\u001b[0m\n"
     ]
    }
   ],
   "source": [
    "from sklearn.model_selection import train_test_split\n",
    "\n",
    "df_1 = df.drop(outlier_list_unique)\n",
    "# Select price as label\n",
    "X, y = df_1, df_1[\"price\"]\n",
    "# remove price_data from list\n",
    "X = X.drop(columns=[\"price\"])\n",
    "\n",
    "# Transform Column to a numeric value\n",
    "X[[\"date\"]] = X[[\"date\"]].apply(pd.to_numeric)\n",
    "\n",
    "# Dataframes in numpy-Arrays konvertieren\n",
    "X,y  = np.array(X.values.tolist()), np.array(y.values.tolist())\n",
    "\n",
    "#split Data and train the model\n",
    "X_train, X_test, y_train, y_test = train_test_split(X, y, test_size=0.20, random_state=1)\n",
    "model_1 = reg_train_test(X_train, X_test, y_train, y_test)"
   ]
  },
  {
   "cell_type": "code",
   "execution_count": null,
   "metadata": {},
   "outputs": [],
   "source": [
    "from sklearn.model_selection import train_test_split\n",
    "\n",
    "df_1 = df.drop(outlier_list_unique)\n",
    "# Select price as label\n",
    "X, y = df_1, df_1[\"price\"]\n",
    "# remove price_data from list\n",
    "X = X.drop(columns=[\"price\"])\n",
    "\n",
    "# Transform Column to a numeric value\n",
    "X[[\"date\"]] = X[[\"date\"]].apply(pd.to_numeric)\n",
    "\n",
    "# Dataframes in numpy-Arrays konvertieren\n",
    "X,y  = np.array(X.values.tolist()), np.array(y.values.tolist())\n",
    "\n",
    "#split Data and train the model\n",
    "X_train, X_test, y_train, y_test = train_test_split(X, y, test_size=0.20, random_state=1)\n",
    "model_1 = reg_train_test(X_train, X_test, y_train, y_test)"
   ]
  }
 ],
 "metadata": {
  "interpreter": {
   "hash": "49d1cf207c92197553c1326cc52484d1ee2809997f5109c15474876a3e083b6e"
  },
  "kernelspec": {
   "display_name": "Python 3.9.7 ('base')",
   "language": "python",
   "name": "python3"
  },
  "language_info": {
   "codemirror_mode": {
    "name": "ipython",
    "version": 3
   },
   "file_extension": ".py",
   "mimetype": "text/x-python",
   "name": "python",
   "nbconvert_exporter": "python",
   "pygments_lexer": "ipython3",
   "version": "3.9.7"
  },
  "orig_nbformat": 4
 },
 "nbformat": 4,
 "nbformat_minor": 2
}
