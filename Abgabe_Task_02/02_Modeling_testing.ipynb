{
 "cells": [
  {
   "cell_type": "markdown",
   "metadata": {},
   "source": [
    "## Setup"
   ]
  },
  {
   "cell_type": "code",
   "execution_count": 42,
   "metadata": {},
   "outputs": [],
   "source": [
    "from functions import Model, get99, splitData, dropMissingValues, z_score, outliers_knn, outliers_dbscan, getNoise, getRelFeatures, drop_features, getCombinations, get_unique_list, bold, blue, red, green, getBestModel, np_to_df, df_to_np, drop99_all, z_score_individual, train_test_to_df, loadModel\n",
    "import pandas as pd\n",
    "import warnings\n",
    "import matplotlib.pyplot as plt\n",
    "from sklearn.preprocessing import StandardScaler\n",
    "from sklearn.linear_model import Lasso\n",
    "\n",
    "warnings.filterwarnings('ignore')"
   ]
  },
  {
   "cell_type": "markdown",
   "metadata": {},
   "source": [
    "## Testdata"
   ]
  },
  {
   "cell_type": "markdown",
   "metadata": {},
   "source": [
    "Get Test Data from CSV"
   ]
  },
  {
   "cell_type": "code",
   "execution_count": 43,
   "metadata": {},
   "outputs": [],
   "source": [
    "#Get test Data\n",
    "NAME_TEST_FILE = \"house_data_testing\"\n",
    "df_test_data = pd.read_csv(\"data/csv/\"+NAME_TEST_FILE+\".csv\", sep=';') \n",
    "\n",
    "# remove unnamed column\n",
    "df_test_data = df_test_data.iloc[:, 1:]\n",
    "\n",
    "#Transform string to datetime\n",
    "try: \n",
    "    df_test_data[\"date\"] = pd.to_datetime(df_test_data[\"date\"])\n",
    "except Exception as e:\n",
    "    print(\"Error: Trying to convert to date\")"
   ]
  },
  {
   "cell_type": "markdown",
   "metadata": {},
   "source": [
    "Drop Missing Values"
   ]
  },
  {
   "cell_type": "code",
   "execution_count": 44,
   "metadata": {},
   "outputs": [
    {
     "name": "stdout",
     "output_type": "stream",
     "text": [
      "There are \u001b[36m8\u001b[0m Missing Values\n"
     ]
    }
   ],
   "source": [
    "print(f'There are {blue(df_test_data.isnull().sum().sum())} Missing Values')\n",
    "df_test_data = dropMissingValues(df_test_data) "
   ]
  },
  {
   "cell_type": "markdown",
   "metadata": {},
   "source": [
    "Drop Values with 999..99 "
   ]
  },
  {
   "cell_type": "code",
   "execution_count": 45,
   "metadata": {},
   "outputs": [
    {
     "name": "stdout",
     "output_type": "stream",
     "text": [
      "\u001b[32m99s dropped\u001b[0m \n",
      "\n"
     ]
    }
   ],
   "source": [
    "try:\n",
    "    outlier_list_99 = get99(df_test_data) \n",
    "    df_test_data = drop99_all(df_test_data, outlier_list_99)\n",
    "    print(green('99s dropped'), \"\\n\")\n",
    "except Exception as e:\n",
    "    pass"
   ]
  },
  {
   "cell_type": "code",
   "execution_count": 46,
   "metadata": {},
   "outputs": [
    {
     "name": "stdout",
     "output_type": "stream",
     "text": [
      "<class 'pandas.core.frame.DataFrame'>\n",
      "Int64Index: 597 entries, 0 to 613\n",
      "Data columns (total 25 columns):\n",
      " #   Column         Non-Null Count  Dtype         \n",
      "---  ------         --------------  -----         \n",
      " 0   id             597 non-null    int64         \n",
      " 1   date           597 non-null    datetime64[ns]\n",
      " 2   price          597 non-null    float64       \n",
      " 3   bedrooms       597 non-null    int64         \n",
      " 4   bathrooms      597 non-null    float64       \n",
      " 5   sqft_living    597 non-null    int64         \n",
      " 6   sqft_lot       597 non-null    int64         \n",
      " 7   floors         597 non-null    float64       \n",
      " 8   waterfront     597 non-null    float64       \n",
      " 9   dis_super      597 non-null    float64       \n",
      " 10  view           597 non-null    float64       \n",
      " 11  condition      597 non-null    float64       \n",
      " 12  grade          597 non-null    float64       \n",
      " 13  sqft_above     597 non-null    float64       \n",
      " 14  sqft_basement  597 non-null    float64       \n",
      " 15  yr_built       597 non-null    float64       \n",
      " 16  yr_renovated   597 non-null    int64         \n",
      " 17  zipcode        597 non-null    int64         \n",
      " 18  lat            597 non-null    float64       \n",
      " 19  long           597 non-null    float64       \n",
      " 20  sqft_living15  597 non-null    int64         \n",
      " 21  sqft_lot15     597 non-null    int64         \n",
      " 22  ahf1           597 non-null    float64       \n",
      " 23  ahf2           597 non-null    float64       \n",
      " 24  ahf3           597 non-null    float64       \n",
      "dtypes: datetime64[ns](1), float64(16), int64(8)\n",
      "memory usage: 121.3 KB\n"
     ]
    }
   ],
   "source": [
    "df_test_data.info()"
   ]
  },
  {
   "cell_type": "markdown",
   "metadata": {},
   "source": [
    "##"
   ]
  },
  {
   "cell_type": "markdown",
   "metadata": {},
   "source": [
    "## Model"
   ]
  },
  {
   "cell_type": "markdown",
   "metadata": {},
   "source": [
    "Get saved Model from Grid-Search"
   ]
  },
  {
   "cell_type": "code",
   "execution_count": 47,
   "metadata": {},
   "outputs": [
    {
     "name": "stdout",
     "output_type": "stream",
     "text": [
      "\u001b[1mModel:\u001b[0m \u001b[36mGradientBoostingRegressor(random_state=1)\u001b[0m \u001b[1mCombination:\u001b[0m \u001b[36m('outlier_list_z_score_ind_',)\u001b[0m \u001b[1mFeatures:\u001b[0m \u001b[36m23\u001b[0m\n"
     ]
    }
   ],
   "source": [
    "model_obj = loadModel()"
   ]
  },
  {
   "cell_type": "markdown",
   "metadata": {},
   "source": [
    "Making sure Shapes are similar"
   ]
  },
  {
   "cell_type": "code",
   "execution_count": 48,
   "metadata": {},
   "outputs": [
    {
     "name": "stdout",
     "output_type": "stream",
     "text": [
      "Training Data Features: \u001b[36m23\u001b[0m\n",
      "Testing Data Features: \u001b[36m25\u001b[0m\n",
      "Features to drop from Testdata: \u001b[31m['price', 'date']\u001b[0m\n"
     ]
    }
   ],
   "source": [
    "print(f'Training Data Features: {blue(len(model_obj.get_features()))}')\n",
    "print(f'Testing Data Features: {blue(len(df_test_data.columns.to_list()))}')\n",
    "\n",
    "features_to_drop = list(set(df_test_data.columns.to_list()) - set(model_obj.get_features()))\n",
    "print(f'Features to drop from Testdata: {red(features_to_drop)}')"
   ]
  },
  {
   "cell_type": "markdown",
   "metadata": {},
   "source": [
    "Integrate test Data into Model"
   ]
  },
  {
   "cell_type": "code",
   "execution_count": 49,
   "metadata": {},
   "outputs": [],
   "source": [
    "X_train, X_test, y_train, y_test = model_obj.get_data()\n",
    "\n",
    "#Drop Features\n",
    "X_test, y_test = df_test_data.drop(columns=features_to_drop), df_test_data[\"price\"]\n",
    "\n",
    "#Tranform Test-Data\n",
    "if isinstance(model_obj.get_model(), Lasso) == True:\n",
    "    scaler = StandardScaler().fit(X_test)\n",
    "    X_test = scaler.transform(X_test)\n",
    "\n",
    "model_obj.set_data(X_train, X_test, y_train, y_test)\n",
    "\n",
    "#Train Model\n",
    "model_obj.train()\n",
    "\n",
    "#Predict\n",
    "mae, score = model_obj.summary()\n",
    "predictions = model_obj.pred()"
   ]
  },
  {
   "cell_type": "code",
   "execution_count": 50,
   "metadata": {},
   "outputs": [
    {
     "data": {
      "text/html": [
       "<div>\n",
       "<style scoped>\n",
       "    .dataframe tbody tr th:only-of-type {\n",
       "        vertical-align: middle;\n",
       "    }\n",
       "\n",
       "    .dataframe tbody tr th {\n",
       "        vertical-align: top;\n",
       "    }\n",
       "\n",
       "    .dataframe thead th {\n",
       "        text-align: right;\n",
       "    }\n",
       "</style>\n",
       "<table border=\"1\" class=\"dataframe\">\n",
       "  <thead>\n",
       "    <tr style=\"text-align: right;\">\n",
       "      <th></th>\n",
       "      <th>0</th>\n",
       "      <th>1</th>\n",
       "      <th>2</th>\n",
       "      <th>3</th>\n",
       "      <th>4</th>\n",
       "      <th>5</th>\n",
       "      <th>6</th>\n",
       "      <th>7</th>\n",
       "      <th>8</th>\n",
       "      <th>9</th>\n",
       "      <th>...</th>\n",
       "      <th>604</th>\n",
       "      <th>605</th>\n",
       "      <th>606</th>\n",
       "      <th>607</th>\n",
       "      <th>608</th>\n",
       "      <th>609</th>\n",
       "      <th>610</th>\n",
       "      <th>611</th>\n",
       "      <th>612</th>\n",
       "      <th>613</th>\n",
       "    </tr>\n",
       "  </thead>\n",
       "  <tbody>\n",
       "    <tr>\n",
       "      <th>price</th>\n",
       "      <td>336,000.00</td>\n",
       "      <td>1,600,000.00</td>\n",
       "      <td>460,000.00</td>\n",
       "      <td>998,500.00</td>\n",
       "      <td>745,000.00</td>\n",
       "      <td>325,000.00</td>\n",
       "      <td>810,000.00</td>\n",
       "      <td>677,000.00</td>\n",
       "      <td>600,000.00</td>\n",
       "      <td>412,450.00</td>\n",
       "      <td>...</td>\n",
       "      <td>473,000.00</td>\n",
       "      <td>343,566.00</td>\n",
       "      <td>550,000.00</td>\n",
       "      <td>387,500.00</td>\n",
       "      <td>500,000.00</td>\n",
       "      <td>739,000.00</td>\n",
       "      <td>710,000.00</td>\n",
       "      <td>475,000.00</td>\n",
       "      <td>340,000.00</td>\n",
       "      <td>475,000.00</td>\n",
       "    </tr>\n",
       "    <tr>\n",
       "      <th>price_pred</th>\n",
       "      <td>323,749.85</td>\n",
       "      <td>1,346,074.66</td>\n",
       "      <td>440,545.34</td>\n",
       "      <td>751,893.87</td>\n",
       "      <td>711,451.48</td>\n",
       "      <td>295,468.52</td>\n",
       "      <td>734,766.85</td>\n",
       "      <td>625,377.65</td>\n",
       "      <td>601,650.23</td>\n",
       "      <td>583,278.14</td>\n",
       "      <td>...</td>\n",
       "      <td>558,986.88</td>\n",
       "      <td>278,394.12</td>\n",
       "      <td>560,775.16</td>\n",
       "      <td>436,646.93</td>\n",
       "      <td>641,070.88</td>\n",
       "      <td>688,631.03</td>\n",
       "      <td>633,931.89</td>\n",
       "      <td>476,708.64</td>\n",
       "      <td>386,966.58</td>\n",
       "      <td>473,912.24</td>\n",
       "    </tr>\n",
       "    <tr>\n",
       "      <th>diff</th>\n",
       "      <td>12,250.15</td>\n",
       "      <td>253,925.34</td>\n",
       "      <td>19,454.66</td>\n",
       "      <td>246,606.13</td>\n",
       "      <td>33,548.52</td>\n",
       "      <td>29,531.48</td>\n",
       "      <td>75,233.15</td>\n",
       "      <td>51,622.35</td>\n",
       "      <td>-1,650.23</td>\n",
       "      <td>-170,828.14</td>\n",
       "      <td>...</td>\n",
       "      <td>-85,986.88</td>\n",
       "      <td>65,171.88</td>\n",
       "      <td>-10,775.16</td>\n",
       "      <td>-49,146.93</td>\n",
       "      <td>-141,070.88</td>\n",
       "      <td>50,368.97</td>\n",
       "      <td>76,068.11</td>\n",
       "      <td>-1,708.64</td>\n",
       "      <td>-46,966.58</td>\n",
       "      <td>1,087.76</td>\n",
       "    </tr>\n",
       "  </tbody>\n",
       "</table>\n",
       "<p>3 rows × 597 columns</p>\n",
       "</div>"
      ],
      "text/plain": [
       "                   0             1           2           3           4    \\\n",
       "price       336,000.00  1,600,000.00  460,000.00  998,500.00  745,000.00   \n",
       "price_pred  323,749.85  1,346,074.66  440,545.34  751,893.87  711,451.48   \n",
       "diff         12,250.15    253,925.34   19,454.66  246,606.13   33,548.52   \n",
       "\n",
       "                   5           6           7           8            9    ...  \\\n",
       "price       325,000.00  810,000.00  677,000.00  600,000.00   412,450.00  ...   \n",
       "price_pred  295,468.52  734,766.85  625,377.65  601,650.23   583,278.14  ...   \n",
       "diff         29,531.48   75,233.15   51,622.35   -1,650.23  -170,828.14  ...   \n",
       "\n",
       "                   604         605         606         607          608  \\\n",
       "price       473,000.00  343,566.00  550,000.00  387,500.00   500,000.00   \n",
       "price_pred  558,986.88  278,394.12  560,775.16  436,646.93   641,070.88   \n",
       "diff        -85,986.88   65,171.88  -10,775.16  -49,146.93  -141,070.88   \n",
       "\n",
       "                   609         610         611         612         613  \n",
       "price       739,000.00  710,000.00  475,000.00  340,000.00  475,000.00  \n",
       "price_pred  688,631.03  633,931.89  476,708.64  386,966.58  473,912.24  \n",
       "diff         50,368.97   76,068.11   -1,708.64  -46,966.58    1,087.76  \n",
       "\n",
       "[3 rows x 597 columns]"
      ]
     },
     "execution_count": 50,
     "metadata": {},
     "output_type": "execute_result"
    }
   ],
   "source": [
    "#Evaluate\n",
    "df_test_data[\"price_pred\"]  = predictions\n",
    "df_test_data[\"diff\"] = df_test_data[\"price\"]  - df_test_data[\"price_pred\"]  \n",
    "df_test_data.loc[:, [\"price\", \"price_pred\", \"diff\"]].T.applymap('{:,.2f}'.format)"
   ]
  },
  {
   "cell_type": "code",
   "execution_count": 54,
   "metadata": {},
   "outputs": [],
   "source": [
    "#df_test_data.loc[:, [\"price\", \"price_pred\", \"diff\"]].describe().T.applymap('{:,.2f}'.format)"
   ]
  },
  {
   "cell_type": "markdown",
   "metadata": {},
   "source": [
    "## Visulize Predictions"
   ]
  },
  {
   "cell_type": "code",
   "execution_count": 59,
   "metadata": {},
   "outputs": [
    {
     "data": {
      "image/png": "[encoded data removed]",
      "text/plain": [
       "<Figure size 1440x504 with 1 Axes>"
      ]
     },
     "metadata": {
      "needs_background": "light"
     },
     "output_type": "display_data"
    }
   ],
   "source": [
    "plt.figure(figsize=(20,7))\n",
    "#Prediction der Modelle für die ersten 20 Zeilen\n",
    "x = 30\n",
    "real = df_test_data.loc[:x, \"price\"]\n",
    "pred = df_test_data.loc[:x,\"price_pred\"]\n",
    "diff = df_test_data.loc[:x,\"diff\"]\n",
    "\n",
    "plt.plot(real, label=\"Price\")\n",
    "plt.plot(pred, label=\"price_pred\")\n",
    "plt.plot(diff, \"gs\", ms=5, label=\"diff\")\n",
    "plt.axhline(y=0, color='black', linestyle='-')\n",
    "\n",
    "plt.tick_params(axis=\"x\", which=\"both\", bottom=False, top=False, labelbottom=False)\n",
    "plt.ylabel(\"Prediction in Millionen\")\n",
    "plt.xlabel(\"Label 1-20\")\n",
    "plt.legend(loc=\"best\")\n",
    "\n",
    "plt.show()"
   ]
  },
  {
   "cell_type": "code",
   "execution_count": 53,
   "metadata": {},
   "outputs": [
    {
     "name": "stdout",
     "output_type": "stream",
     "text": [
      "\u001b[1mMAE: \u001b[0m \u001b[36m70301.43\u001b[0m\n"
     ]
    }
   ],
   "source": [
    "print(bold(\"MAE: \"), blue(mae))"
   ]
  }
 ],
 "metadata": {
  "kernelspec": {
   "display_name": "Python 3.9.7 ('base')",
   "language": "python",
   "name": "python3"
  },
  "language_info": {
   "codemirror_mode": {
    "name": "ipython",
    "version": 3
   },
   "file_extension": ".py",
   "mimetype": "text/x-python",
   "name": "python",
   "nbconvert_exporter": "python",
   "pygments_lexer": "ipython3",
   "version": "3.9.7"
  },
  "orig_nbformat": 4,
  "vscode": {
   "interpreter": {
    "hash": "49d1cf207c92197553c1326cc52484d1ee2809997f5109c15474876a3e083b6e"
   }
  }
 },
 "nbformat": 4,
 "nbformat_minor": 2
}
