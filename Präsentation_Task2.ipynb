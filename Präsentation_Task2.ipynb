{
 "cells": [
  {
   "cell_type": "markdown",
   "metadata": {},
   "source": [
    "# Ziele von Task 2\n",
    "\n",
    "### Preprocessing \n",
    "\n",
    "Die Trainingsdaten werden so aufbereitet, dass das Model optimal trainiert wird, um das Label (Preis) der Testdaten optimal vorrauszusagen. Dabei werden die ToDOs aus Task 1 angewendet. \n",
    "\n",
    "Zuerst werden die durch verschiedenen Outlier Detections erkannten Ausreißer behandelt. Dabei wurden mehrere Tausend Kombination erstellt um die Kombination mit dem niedrigsten MEA festzustellen. Dieser Durchlauf wurde mehrmals mit verschieden  Hyper-Parameters durchgeführt. \n",
    "\n",
    "### Feature Selection\n",
    "Nachdem die optimale Kombiation festgestellt wurden in mehreren Durchläufen verschiedene Feature ausgewählt um damit wiederum den niedrigsten MEA festzustellen\n",
    "\n",
    "### Algorithm Selection\n",
    "Als letztes wurden verschieden Regressions Modele mit den bearbeiten Daten trainiert um erneut, das Model herauszufinden welches am besten das Label der Testdaten vorraussagt\n",
    "\n"
   ]
  },
  {
   "cell_type": "markdown",
   "metadata": {},
   "source": []
  },
  {
   "cell_type": "markdown",
   "metadata": {},
   "source": []
  },
  {
   "cell_type": "markdown",
   "metadata": {},
   "source": []
  },
  {
   "cell_type": "markdown",
   "metadata": {},
   "source": []
  }
 ],
 "metadata": {
  "language_info": {
   "name": "python"
  },
  "orig_nbformat": 4
 },
 "nbformat": 4,
 "nbformat_minor": 2
}
