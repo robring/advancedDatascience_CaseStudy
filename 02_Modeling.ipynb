{
 "cells": [
  {
   "cell_type": "markdown",
   "metadata": {},
   "source": [
    "# Case Study"
   ]
  },
  {
   "cell_type": "markdown",
   "metadata": {},
   "source": [
    "## Setup"
   ]
  },
  {
   "cell_type": "code",
   "execution_count": 47,
   "metadata": {},
   "outputs": [],
   "source": [
    "import pandas as pd\n",
    "import numpy as np\n",
    "import matplotlib.pyplot as plt\n",
    "import seaborn as sns"
   ]
  },
  {
   "cell_type": "code",
   "execution_count": 48,
   "metadata": {},
   "outputs": [],
   "source": [
    "#Help funcs for colored output\n",
    "from termcolor import colored, cprint\n",
    "def green(txt):\n",
    "    return colored(txt, 'green')\n",
    "def red(txt):\n",
    "    return colored(txt, 'red')\n",
    "def blue(txt):\n",
    "    return colored(txt, 'cyan')\n",
    "def bold(txt):\n",
    "    return colored(txt, attrs=['bold'])"
   ]
  },
  {
   "cell_type": "code",
   "execution_count": 49,
   "metadata": {},
   "outputs": [],
   "source": [
    "#Get raw Data\n",
    "df = pd.read_csv(\"data/house_data_training.csv\", sep=';') \n",
    "# remove unnamed column\n",
    "df = df.iloc[:, 1:]\n",
    "#Transform string to datetime\n",
    "df[\"date\"] = pd.to_datetime(df[\"date\"])\n",
    "df.tail()\n",
    "#Drop rows with NaN values\n",
    "\n",
    "maeList = []#for model selection"
   ]
  },
  {
   "cell_type": "markdown",
   "metadata": {},
   "source": [
    "In Task 01 we have identified 3 lines with missing values. Due to the size of the data set, we can use the listwise Deletion - method at this point."
   ]
  },
  {
   "cell_type": "code",
   "execution_count": 50,
   "metadata": {},
   "outputs": [
    {
     "name": "stdout",
     "output_type": "stream",
     "text": [
      "<class 'pandas.core.frame.DataFrame'>\n",
      "Int64Index: 14997 entries, 0 to 14999\n",
      "Data columns (total 25 columns):\n",
      " #   Column         Non-Null Count  Dtype         \n",
      "---  ------         --------------  -----         \n",
      " 0   id             14997 non-null  int64         \n",
      " 1   date           14997 non-null  datetime64[ns]\n",
      " 2   price          14997 non-null  float64       \n",
      " 3   bedrooms       14997 non-null  int64         \n",
      " 4   bathrooms      14997 non-null  float64       \n",
      " 5   sqft_living    14997 non-null  int64         \n",
      " 6   sqft_lot       14997 non-null  int64         \n",
      " 7   floors         14997 non-null  float64       \n",
      " 8   waterfront     14997 non-null  float64       \n",
      " 9   dis_super      14997 non-null  float64       \n",
      " 10  view           14997 non-null  float64       \n",
      " 11  condition      14997 non-null  float64       \n",
      " 12  grade          14997 non-null  float64       \n",
      " 13  sqft_above     14997 non-null  float64       \n",
      " 14  sqft_basement  14997 non-null  float64       \n",
      " 15  yr_built       14997 non-null  float64       \n",
      " 16  yr_renovated   14997 non-null  int64         \n",
      " 17  zipcode        14997 non-null  int64         \n",
      " 18  lat            14997 non-null  float64       \n",
      " 19  long           14997 non-null  float64       \n",
      " 20  sqft_living15  14997 non-null  int64         \n",
      " 21  sqft_lot15     14997 non-null  int64         \n",
      " 22  ahf1           14997 non-null  float64       \n",
      " 23  ahf2           14997 non-null  float64       \n",
      " 24  ahf3           14997 non-null  float64       \n",
      "dtypes: datetime64[ns](1), float64(16), int64(8)\n",
      "memory usage: 3.0 MB\n"
     ]
    }
   ],
   "source": [
    "df = df.dropna()\n",
    "df.info()"
   ]
  },
  {
   "cell_type": "markdown",
   "metadata": {},
   "source": [
    "## Modeling\n",
    "In Task 01_Exploration various qualitative problems within the data were identified. In this chapter different approaches are implemented to solve these problems."
   ]
  },
  {
   "cell_type": "markdown",
   "metadata": {},
   "source": [
    "### A) Basic Regression Model\n",
    "> Creating a basic linear Regression"
   ]
  },
  {
   "cell_type": "code",
   "execution_count": 51,
   "metadata": {},
   "outputs": [],
   "source": [
    "from sklearn.linear_model import LinearRegression\n",
    "from sklearn.metrics import mean_absolute_error\n",
    "\n",
    "def reg_train_test(X_train, X_test, y_train, y_test):\n",
    "    '''Function for building Basic Regression Model'''\n",
    "\n",
    "    # fit the model\n",
    "    model = LinearRegression()\n",
    "    model.fit(X_train, y_train)\n",
    "\n",
    "    # evaluate the model\n",
    "    ypred = model.predict(X_test)\n",
    "    \n",
    "    # evaluate predictions\n",
    "    mae = mean_absolute_error(y_test, ypred)\n",
    "    maeList.append(np.round(mae))\n",
    "    print(f'{bold(\"Mean Absolute Error\")}: {blue(np.round(mae))}\\n')\n",
    "    \n",
    "    print(f'{bold(\"Regression coefficients:\")} \\n{blue(model.coef_)}\\n')\n",
    "    \n",
    "    print(bold(\"Prediction Examples:\"))\n",
    "    for i in range(0, 5):\n",
    "        y_pre= ypred[i]\n",
    "        print(f'{blue(i)} Actual y: {blue(y_test[i])} Predicted y: {blue(np.round(y_pre))}')\n",
    " \n",
    "    return model"
   ]
  },
  {
   "cell_type": "code",
   "execution_count": 52,
   "metadata": {},
   "outputs": [
    {
     "name": "stdout",
     "output_type": "stream",
     "text": [
      "\u001b[1mMean Absolute Error\u001b[0m: \u001b[36m6328488.0\u001b[0m\n",
      "\n",
      "\u001b[1mRegression coefficients:\u001b[0m \n",
      "\u001b[36m[-5.95470171e-05  1.61604290e-12 -1.60811934e+02  1.17008686e+03\n",
      " -7.14346768e+01 -6.89727039e+00  9.52661243e+02 -9.78374309e+00\n",
      "  1.92017246e+02 -2.22214913e+02 -1.21956412e+03  1.05315362e+03\n",
      "  1.69078816e+02 -4.46440642e+02  1.27618311e+05  6.76627015e+02\n",
      "  1.92608098e+04 -4.86604442e+01  9.32572756e+01  1.26394714e+02\n",
      " -1.19176578e+01  4.31674363e+03 -9.02128076e+01  4.22653083e+03]\u001b[0m\n",
      "\n",
      "\u001b[1mPrediction Examples:\u001b[0m\n",
      "\u001b[36m0\u001b[0m Actual y: \u001b[36m210000.0\u001b[0m Predicted y: \u001b[36m1787248.0\u001b[0m\n",
      "\u001b[36m1\u001b[0m Actual y: \u001b[36m199500.0\u001b[0m Predicted y: \u001b[36m-606569.0\u001b[0m\n",
      "\u001b[36m2\u001b[0m Actual y: \u001b[36m252700.0\u001b[0m Predicted y: \u001b[36m3916554.0\u001b[0m\n",
      "\u001b[36m3\u001b[0m Actual y: \u001b[36m324500.0\u001b[0m Predicted y: \u001b[36m7495947.0\u001b[0m\n",
      "\u001b[36m4\u001b[0m Actual y: \u001b[36m265000.0\u001b[0m Predicted y: \u001b[36m1282062.0\u001b[0m\n"
     ]
    }
   ],
   "source": [
    "from sklearn.model_selection import train_test_split\n",
    "\n",
    "# Select price as label\n",
    "X, y = df, df[\"price\"]\n",
    "# remove price_data from list\n",
    "X = X.drop(columns=[\"price\"])\n",
    "\n",
    "# Transform Column to a numeric value\n",
    "X[[\"date\"]] = X[[\"date\"]].apply(pd.to_numeric)\n",
    "\n",
    "# Dataframes in numpy-Arrays konvertieren\n",
    "X,y  = np.array(X.values.tolist()), np.array(y.values.tolist())\n",
    "\n",
    "#split Data and train the model\n",
    "X_train, X_test, y_train, y_test = train_test_split(X, y, test_size=0.20, random_state=1)\n",
    "model_0 = reg_train_test(X_train, X_test, y_train, y_test)"
   ]
  },
  {
   "cell_type": "markdown",
   "metadata": {},
   "source": [
    "### B) Data Preprocessing\n",
    "\n",
    "> Detect Outliers by building 3 Models\n"
   ]
  },
  {
   "cell_type": "markdown",
   "metadata": {},
   "source": [
    "#### Data quality issues"
   ]
  },
  {
   "cell_type": "markdown",
   "metadata": {},
   "source": [
    "##### Outliers\n",
    "In this figure we can see the distribution of the values for the different features. Some histograms show a skewed distribution. Sometimes you can immediately recognize Outliers."
   ]
  },
  {
   "cell_type": "markdown",
   "metadata": {},
   "source": [
    "Method 1:  based on descriptive statistics (Univariate outlier handling)"
   ]
  },
  {
   "cell_type": "code",
   "execution_count": 53,
   "metadata": {},
   "outputs": [
    {
     "name": "stdout",
     "output_type": "stream",
     "text": [
      "\u001b[1mPotential Outliers:\u001b[0m\n",
      "\u001b[1mid\u001b[0m detected: \u001b[36m0\u001b[0m\n",
      "\u001b[1mdate\u001b[0m detected: \u001b[36m0\u001b[0m\n",
      "\u001b[1mprice\u001b[0m detected: \u001b[36m421\u001b[0m\n",
      "\u001b[1mbedrooms\u001b[0m detected: \u001b[36m50\u001b[0m\n",
      "\u001b[1mbathrooms\u001b[0m detected: \u001b[36m120\u001b[0m\n",
      "\u001b[1msqft_living\u001b[0m detected: \u001b[36m144\u001b[0m\n",
      "\u001b[1msqft_lot\u001b[0m detected: \u001b[36m241\u001b[0m\n",
      "\u001b[1mfloors\u001b[0m detected: \u001b[36m6\u001b[0m\n",
      "\u001b[1mwaterfront\u001b[0m detected: \u001b[36m102\u001b[0m\n",
      "\u001b[1mdis_super\u001b[0m detected: \u001b[36m40\u001b[0m\n",
      "\u001b[1mview\u001b[0m detected: \u001b[36m559\u001b[0m\n",
      "\u001b[1mcondition\u001b[0m detected: \u001b[36m23\u001b[0m\n",
      "\u001b[1mgrade\u001b[0m detected: \u001b[36m85\u001b[0m\n",
      "\u001b[1msqft_above\u001b[0m detected: \u001b[36m169\u001b[0m\n",
      "\u001b[1msqft_basement\u001b[0m detected: \u001b[36m168\u001b[0m\n",
      "\u001b[1myr_built\u001b[0m detected: \u001b[36m0\u001b[0m\n",
      "\u001b[1myr_renovated\u001b[0m detected: \u001b[36m582\u001b[0m\n",
      "\u001b[1mzipcode\u001b[0m detected: \u001b[36m0\u001b[0m\n",
      "\u001b[1mlat\u001b[0m detected: \u001b[36m0\u001b[0m\n",
      "\u001b[1mlong\u001b[0m detected: \u001b[36m163\u001b[0m\n",
      "\u001b[1msqft_living15\u001b[0m detected: \u001b[36m171\u001b[0m\n",
      "\u001b[1msqft_lot15\u001b[0m detected: \u001b[36m242\u001b[0m\n",
      "\u001b[1mahf1\u001b[0m detected: \u001b[36m0\u001b[0m\n",
      "\u001b[1mahf2\u001b[0m detected: \u001b[36m37\u001b[0m\n",
      "\u001b[1mahf3\u001b[0m detected: \u001b[36m1\u001b[0m\n",
      "2358\n"
     ]
    }
   ],
   "source": [
    "#Univariate outlier detection based on descriptive statistics (three standard deviations)\n",
    "#can be useful to identify extreme outliers\n",
    "\n",
    "feature_list = df.columns\n",
    "outliers_dict = {}#dict for storing outlierts for an outlier summary df\n",
    "outliers_plot_dict = {}#dict for plotting outliers in scatterplot\n",
    "outlier_list_unique = []\n",
    "print(bold(\"Potential Outliers:\"))\n",
    "for feature in feature_list:\n",
    "    feature_data = df[feature]\n",
    "    price_data = df[\"price\"]\n",
    "    # if feature_data.isnumeric():\n",
    "    \n",
    "\n",
    "    df_feature = pd.concat([feature_data, price_data], axis=1)\n",
    "    df_feature[\"outlier\"] = 0\n",
    "\n",
    "    three_std=feature_data.std()*3\n",
    "    mean=feature_data.mean()\n",
    "\n",
    "    inlier_low=mean-three_std\n",
    "    inlier_high=mean+three_std\n",
    "    #print(\"mean: \",mean, \"lower boundary inlier: \",inlier_low, \"upper boundary inlier\",inlier_high,\"\\n\")\n",
    "\n",
    "    outlier_list = [] #list for storing indexes of outliers\n",
    "    for i, value in enumerate(feature_data):\n",
    "        if value < inlier_low or value > inlier_high:\n",
    "            outlier_list.append(i)\n",
    "            df_feature.iloc[i,2] = 1      \n",
    "\n",
    "    print(f'{bold(feature)} detected: {blue(len(outlier_list))}')\n",
    "    if not len(outlier_list) == 0:\n",
    "        outliers_dict[str(feature)]=outlier_list\n",
    "        outliers_plot_dict[str(feature)]=df_feature\n",
    "        outlier_list_unique =  list(set(outlier_list_unique) | set(outlier_list))\n",
    "    #print(type(df_feature), df_feature.head())\n",
    "\n",
    "#store indexes from the original df of every potential outlier existing in a new df for every column\n",
    "df_outliers = pd.DataFrame(dict([ (k,pd.Series(v)) for k,v in outliers_dict.items() ]))\n",
    "#print(df_outliers.tail())\n",
    "#print(df_feature.tail())   \n",
    "\n",
    "print(len(outlier_list_unique))  "
   ]
  },
  {
   "cell_type": "code",
   "execution_count": 54,
   "metadata": {},
   "outputs": [
    {
     "name": "stdout",
     "output_type": "stream",
     "text": [
      "\u001b[1mMean Absolute Error\u001b[0m: \u001b[36m3585970.0\u001b[0m\n",
      "\n",
      "\u001b[1mRegression coefficients:\u001b[0m \n",
      "\u001b[36m[-6.44274132e-05  5.16359323e-12 -8.70121419e+01  6.47377643e+02\n",
      " -4.62884802e+01 -3.80603444e+00  5.20325462e+02 -3.59925760e+00\n",
      "  3.61666333e+02 -9.00278821e+01 -6.63201785e+02  5.78118881e+02\n",
      "  4.64612686e+02 -9.20804822e+01  6.91442343e+04  4.63768354e+02\n",
      "  1.20216427e+04 -2.58409180e+01  4.96428463e+01 -2.47366709e+02\n",
      " -1.21237858e+01  7.70977537e+02  4.50611073e+03  5.27708826e+03]\u001b[0m\n",
      "\n",
      "\u001b[1mPrediction Examples:\u001b[0m\n",
      "\u001b[36m0\u001b[0m Actual y: \u001b[36m550000.0\u001b[0m Predicted y: \u001b[36m-784176.0\u001b[0m\n",
      "\u001b[36m1\u001b[0m Actual y: \u001b[36m337000.0\u001b[0m Predicted y: \u001b[36m3496217.0\u001b[0m\n",
      "\u001b[36m2\u001b[0m Actual y: \u001b[36m840000.0\u001b[0m Predicted y: \u001b[36m599041.0\u001b[0m\n",
      "\u001b[36m3\u001b[0m Actual y: \u001b[36m780000.0\u001b[0m Predicted y: \u001b[36m3911485.0\u001b[0m\n",
      "\u001b[36m4\u001b[0m Actual y: \u001b[36m247000.0\u001b[0m Predicted y: \u001b[36m2281210.0\u001b[0m\n"
     ]
    }
   ],
   "source": [
    "from sklearn.model_selection import train_test_split\n",
    "\n",
    "df_1 = df.drop(outlier_list_unique)\n",
    "# Select price as label\n",
    "X, y = df_1, df_1[\"price\"]\n",
    "# remove price_data from list\n",
    "X = X.drop(columns=[\"price\"])\n",
    "\n",
    "# Transform Column to a numeric value\n",
    "X[[\"date\"]] = X[[\"date\"]].apply(pd.to_numeric)\n",
    "\n",
    "# Dataframes in numpy-Arrays konvertieren\n",
    "X,y  = np.array(X.values.tolist()), np.array(y.values.tolist())\n",
    "\n",
    "#split Data and train the model\n",
    "X_train, X_test, y_train, y_test = train_test_split(X, y, test_size=0.20, random_state=1)\n",
    "model_1 = reg_train_test(X_train, X_test, y_train, y_test)"
   ]
  },
  {
   "cell_type": "code",
   "execution_count": null,
   "metadata": {},
   "outputs": [],
   "source": [
    "import numpy as np \n",
    "import matplotlib.pyplot as plt \n",
    "from scipy.stats import norm \n",
    "\n",
    "fig = plt.figure(figsize=(20,10))\n",
    "i=1\n",
    "for key, value in outliers_plot_dict.items():\n",
    "    plt.subplot(3,6,i)\n",
    "    data = value[key]\n",
    "    min = data.min()\n",
    "    max = data.max()\n",
    "    if not max <= 10:\n",
    "        if max >1000000:\n",
    "            step = np.round(max/20)\n",
    "        elif max <100:\n",
    "            step = np.round(max/10)\n",
    "        elif max >5:\n",
    "             step = np.round(max/5)    \n",
    "        #print(max)\n",
    "        mean = data.mean()\n",
    "        sd = data.std()\n",
    "        x_axis = np.arange(min, max, step) \n",
    "\n",
    "        fig.subplots_adjust(hspace = .2, wspace=0.4)\n",
    "        plt.ylabel(\"Dichte\")\n",
    "        plt.xlabel(key)\n",
    "        ax = plt.gca()\n",
    "        #ax.axes.yaxis.set_ticklabels([])\n",
    "        plt.yticks()\n",
    "        plt.plot(x_axis, norm.pdf(x_axis, mean, sd)) \n",
    "        plt.plot(x_axis, norm.pdf(x_axis, mean, sd*3)) \n",
    "        i+=1\n",
    "\n",
    "plt.show()"
   ]
  },
  {
   "cell_type": "code",
   "execution_count": null,
   "metadata": {},
   "outputs": [],
   "source": [
    "# print(len(outliers_plot_dict))\n",
    "# fig, ax = plt.subplots(1,len(outliers_plot_dict), figsize=(20,20))\n",
    "# i=0\n",
    "# for key, value in outliers_plot_dict.items():\n",
    "#     print(key)\n",
    "#     print(value)\n",
    "#     ax[i].plot(value['price'], value[key], 'o')\n",
    "#     ax[i].set_xlabel(key)\n",
    "#     ax[i].set_title('price')   \n",
    "#     #sns.scatterplot(data=value, x=key, y=\"price\", hue=\"outlier\")\n",
    "#     i+=1\n",
    "# plt.show()\n",
    "\n",
    "fig = plt.figure(figsize=(20,10))\n",
    "i=1\n",
    "for key, value in outliers_plot_dict.items():\n",
    "    plt.subplot(3,6,i)\n",
    "    sns.scatterplot(data=value, x=key, y=\"price\", hue=\"outlier\")\n",
    "    i+=1\n",
    "plt.show()     "
   ]
  },
  {
   "cell_type": "markdown",
   "metadata": {},
   "source": [
    "> principal components als methode für 2 dimensionale dargstellung geeignet (nicht sicher ob es in outlierhandling passt)"
   ]
  },
  {
   "cell_type": "markdown",
   "metadata": {},
   "source": [
    "Method 2: bsed on distances (Multivariate outlier handling)"
   ]
  },
  {
   "cell_type": "code",
   "execution_count": 56,
   "metadata": {},
   "outputs": [
    {
     "data": {
      "image/png": "[encoded data removed]",
      "text/plain": [
       "<Figure size 432x288 with 1 Axes>"
      ]
     },
     "metadata": {
      "needs_background": "light"
     },
     "output_type": "display_data"
    },
    {
     "data": {
      "image/png": "[encoded data removed]",
      "text/plain": [
       "<Figure size 432x288 with 1 Axes>"
      ]
     },
     "metadata": {
      "needs_background": "light"
     },
     "output_type": "display_data"
    }
   ],
   "source": [
    "from sklearn.neighbors import NearestNeighbors\n",
    "from sklearn import preprocessing\n",
    "\n",
    "#normalize data to identify outliers\n",
    "scaler = preprocessing.MinMaxScaler()\n",
    "X= scaler.fit_transform(X_train)\n",
    "\n",
    "#determine k nearest neighbors ()\n",
    "k=3\n",
    "nbrs = NearestNeighbors(n_neighbors=k+1, algorithm='ball_tree').fit(X)\n",
    "distances, indices = nbrs.kneighbors(X)\n",
    "\n",
    "#plot Distances to k-nearest neighbor, top 100\n",
    "plt.title('Distances to k-nearest neighbor, top 100')\n",
    "top_distance_min=0\n",
    "top_distance_max=100\n",
    "plt.plot(indices[top_distance_min:top_distance_max,0],-np.sort(-distances[:,k])[top_distance_min:top_distance_max])\n",
    "plt.show()\n",
    "\n",
    "#plot Distances to k-nearest neighbor, selected\n",
    "plt.title('Distances to k-nearest neighbor, selected')\n",
    "top_distance_min=10\n",
    "top_distance_max=40\n",
    "plt.plot(indices[top_distance_min:top_distance_max,0],-np.sort(-distances[:,k])[top_distance_min:top_distance_max])\n",
    "plt.show()"
   ]
  },
  {
   "cell_type": "code",
   "execution_count": 57,
   "metadata": {},
   "outputs": [
    {
     "name": "stdout",
     "output_type": "stream",
     "text": [
      "\u001b[1mInliers: \u001b[0m \u001b[36m9930\u001b[0m \u001b[1mOutliers\u001b[0m \u001b[36m181\u001b[0m \n",
      "\n",
      "\u001b[1mMean Absolute Error\u001b[0m: \u001b[36m3701269.0\u001b[0m\n",
      "\n",
      "\u001b[1mRegression coefficients:\u001b[0m \n",
      "\u001b[36m[-2.66140418e-05 -1.11039855e-12 -1.06232290e+02  6.83801450e+02\n",
      "  6.92830605e+01 -1.14037899e+01  5.55180320e+02 -1.61444445e-01\n",
      "  4.29553150e+02 -7.27568104e+01 -6.98238242e+02  6.10740394e+02\n",
      "  3.32097009e+02 -2.62813948e+02  7.26399687e+04  4.49376260e+02\n",
      "  1.33721591e+04 -2.87383171e+01  5.17812420e+01 -9.88158223e+01\n",
      " -1.15193309e+01 -1.20073288e+03  9.11509529e+03  7.91436241e+03]\u001b[0m\n",
      "\n",
      "\u001b[1mPrediction Examples:\u001b[0m\n",
      "\u001b[36m0\u001b[0m Actual y: \u001b[36m550000.0\u001b[0m Predicted y: \u001b[36m-869309.0\u001b[0m\n",
      "\u001b[36m1\u001b[0m Actual y: \u001b[36m337000.0\u001b[0m Predicted y: \u001b[36m3726085.0\u001b[0m\n",
      "\u001b[36m2\u001b[0m Actual y: \u001b[36m840000.0\u001b[0m Predicted y: \u001b[36m935088.0\u001b[0m\n",
      "\u001b[36m3\u001b[0m Actual y: \u001b[36m780000.0\u001b[0m Predicted y: \u001b[36m4053502.0\u001b[0m\n",
      "\u001b[36m4\u001b[0m Actual y: \u001b[36m247000.0\u001b[0m Predicted y: \u001b[36m2634740.0\u001b[0m\n"
     ]
    }
   ],
   "source": [
    "#k= number of outliers // approx. 10% of data \n",
    "num_outliers= 181\n",
    "outlier_indices=np.argpartition(distances[:,1],-num_outliers)[-num_outliers:]\n",
    "inlier_indices=np.delete(indices[:,0], outlier_indices)\n",
    "\n",
    "#print(\"Indices of outliers: \",outlier_indices)\n",
    "#print(\"Indices of inliers: \",inlier_indices)\n",
    "#print(\"Distances of outliers: \",distances[outlier_indices,1])\n",
    "#print(\"Max 10 distances: \",-np.sort(-distances[:,1])[0:10])\n",
    "\n",
    "# select all rows that are not outliers (inlier=1, outlier=-1)\n",
    "X_train_red, y_train_red = X_train[inlier_indices, :], y_train[inlier_indices]\n",
    "# Inliers vs. Outliers\n",
    "print(bold(\"Inliers: \"),blue(X_train_red.shape[0]),bold(\"Outliers\"),blue(X_train.shape[0]-X_train_red.shape[0]),\"\\n\")\n",
    "model_02 = reg_train_test(X_train_red ,X_test, y_train_red, y_test)\n"
   ]
  },
  {
   "cell_type": "markdown",
   "metadata": {},
   "source": [
    "Method 3: based on density clustering (Multivariate outlier handling)"
   ]
  },
  {
   "cell_type": "code",
   "execution_count": 58,
   "metadata": {},
   "outputs": [],
   "source": [
    "from sklearn.cluster import DBSCAN\n",
    "clustering = DBSCAN(eps=0.42, min_samples=5).fit(X)\n",
    "\n",
    "inliers=[]\n",
    "outliers=[]\n",
    "index_upper=distances[:,1].size\n",
    "\n",
    "for index in range (0,index_upper):\n",
    "    if clustering.labels_[index] == -1:\n",
    "        outliers.append([index, distances[index,1]])\n",
    "    else:\n",
    "        inliers.append([index, distances[index,1]])\n",
    "\n",
    "inliers_df=pd.DataFrame(inliers,columns=['index','distance'])\n",
    "outliers_df=pd.DataFrame(outliers,columns=['index','distance'])\n",
    "# print(\"inliers: \",inliers_df.describe())\n",
    "# print(\"\\noutliers: \",outliers_df.describe())"
   ]
  },
  {
   "cell_type": "code",
   "execution_count": 59,
   "metadata": {},
   "outputs": [
    {
     "name": "stdout",
     "output_type": "stream",
     "text": [
      "\u001b[1mInliers: \u001b[0m \u001b[36m7639\u001b[0m \u001b[1mOutliers\u001b[0m \u001b[36m2472\u001b[0m\n",
      "\u001b[1mMean Absolute Error\u001b[0m: \u001b[36m3860085.0\u001b[0m\n",
      "\n",
      "\u001b[1mRegression coefficients:\u001b[0m \n",
      "\u001b[36m[-1.30110875e-04  2.51449737e-12 -1.36311532e+02  8.45888580e+02\n",
      "  7.09088799e+01 -1.77170727e+01  7.76646114e+02  2.18278728e-11\n",
      "  6.01959192e+02 -2.17951259e+00 -7.39245450e+02  6.50282667e+02\n",
      "  7.22824400e+01 -1.37356011e+00  7.90884567e+04  0.00000000e+00\n",
      "  1.48858140e+04 -3.32139227e+01  6.28520436e+01  6.81302307e+01\n",
      " -4.94894332e+01  9.77446638e+01  9.02416324e+03  9.12190791e+03]\u001b[0m\n",
      "\n",
      "\u001b[1mPrediction Examples:\u001b[0m\n",
      "\u001b[36m0\u001b[0m Actual y: \u001b[36m550000.0\u001b[0m Predicted y: \u001b[36m-1746339.0\u001b[0m\n",
      "\u001b[36m1\u001b[0m Actual y: \u001b[36m337000.0\u001b[0m Predicted y: \u001b[36m3556240.0\u001b[0m\n",
      "\u001b[36m2\u001b[0m Actual y: \u001b[36m840000.0\u001b[0m Predicted y: \u001b[36m805180.0\u001b[0m\n",
      "\u001b[36m3\u001b[0m Actual y: \u001b[36m780000.0\u001b[0m Predicted y: \u001b[36m4294188.0\u001b[0m\n",
      "\u001b[36m4\u001b[0m Actual y: \u001b[36m247000.0\u001b[0m Predicted y: \u001b[36m2149434.0\u001b[0m\n"
     ]
    }
   ],
   "source": [
    "# select all rows that are not outliers (inlier=1, outlier=-1)\n",
    "X_train_red, y_train_red = X_train[inliers_df['index'], :], y_train[inliers_df['index']]\n",
    "\n",
    "# Inliers vs. Outliers\n",
    "print(bold(\"Inliers: \"),blue(X_train_red.shape[0]),bold(\"Outliers\"),blue(X_train.shape[0]-X_train_red.shape[0]))\n",
    "model_03 = reg_train_test(X_train_red,X_test,y_train_red, y_test)"
   ]
  },
  {
   "cell_type": "markdown",
   "metadata": {},
   "source": [
    "> Conclusion"
   ]
  },
  {
   "cell_type": "code",
   "execution_count": 61,
   "metadata": {},
   "outputs": [
    {
     "name": "stdout",
     "output_type": "stream",
     "text": [
      "[6328488.0, 3585970.0, 3701269.0, 3860085.0]\n",
      "model: 0: 6328488.0\n",
      "model: 1: 3585970.0\n",
      "model: 2: 3701269.0\n",
      "model: 3: 3860085.0\n"
     ]
    }
   ],
   "source": [
    "print(maeList)\n",
    "for i, model in enumerate(maeList):\n",
    "    print(f'model: {i}: {model}')"
   ]
  },
  {
   "cell_type": "markdown",
   "metadata": {},
   "source": [
    "##### Noise"
   ]
  },
  {
   "cell_type": "markdown",
   "metadata": {},
   "source": [
    "##### Transformed, standardized or normalized"
   ]
  },
  {
   "cell_type": "markdown",
   "metadata": {},
   "source": [
    "#### Data Reduction issues"
   ]
  },
  {
   "cell_type": "markdown",
   "metadata": {},
   "source": [
    "##### Feature Selection / Instance Selection"
   ]
  },
  {
   "cell_type": "markdown",
   "metadata": {},
   "source": [
    "> hinweise aus der vorlesung die interessant sein könnten:\n",
    "* principal components\n",
    "* EFA – Determine number of factors"
   ]
  },
  {
   "cell_type": "markdown",
   "metadata": {},
   "source": [
    "#### Algorithm Selection: Experiment with different regression algorithms, e.g. linear regression, polynomial regression, regression trees etc.\n"
   ]
  },
  {
   "cell_type": "markdown",
   "metadata": {},
   "source": [
    "pass"
   ]
  },
  {
   "cell_type": "markdown",
   "metadata": {},
   "source": [
    "####  Hyper-parameter Tuning: Change the hyper-parameters of your algorithms (e.g.„degree“ in case of polynomial regression)"
   ]
  },
  {
   "cell_type": "markdown",
   "metadata": {},
   "source": [
    "pass"
   ]
  },
  {
   "cell_type": "markdown",
   "metadata": {},
   "source": [
    "## Modeling Continued"
   ]
  },
  {
   "cell_type": "markdown",
   "metadata": {},
   "source": [
    "## Evaluation"
   ]
  }
 ],
 "metadata": {
  "interpreter": {
   "hash": "49d1cf207c92197553c1326cc52484d1ee2809997f5109c15474876a3e083b6e"
  },
  "kernelspec": {
   "display_name": "Python 3.9.7 ('base')",
   "language": "python",
   "name": "python3"
  },
  "language_info": {
   "codemirror_mode": {
    "name": "ipython",
    "version": 3
   },
   "file_extension": ".py",
   "mimetype": "text/x-python",
   "name": "python",
   "nbconvert_exporter": "python",
   "pygments_lexer": "ipython3",
   "version": "3.9.7"
  },
  "orig_nbformat": 4,
  "vscode": {
   "interpreter": {
    "hash": "954f5f24ad6d00adbc06a20695ec5fdb3f1a5fa43282de1749a6705a15dcbfc4"
   }
  }
 },
 "nbformat": 4,
 "nbformat_minor": 2
}
