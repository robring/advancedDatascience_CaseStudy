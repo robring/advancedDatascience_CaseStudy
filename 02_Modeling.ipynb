{
 "cells": [
  {
   "cell_type": "markdown",
   "metadata": {},
   "source": [
    "# Case Study"
   ]
  },
  {
   "cell_type": "code",
   "execution_count": 1,
   "metadata": {},
   "outputs": [],
   "source": [
    "import pandas as pd\n",
    "import numpy as np"
   ]
  },
  {
   "cell_type": "code",
   "execution_count": 4,
   "metadata": {},
   "outputs": [
    {
     "name": "stdout",
     "output_type": "stream",
     "text": [
      "<class 'pandas.core.frame.DataFrame'>\n",
      "RangeIndex: 15000 entries, 0 to 14999\n",
      "Data columns (total 25 columns):\n",
      " #   Column         Non-Null Count  Dtype  \n",
      "---  ------         --------------  -----  \n",
      " 0   id             15000 non-null  int64  \n",
      " 1   date           15000 non-null  object \n",
      " 2   price          15000 non-null  float64\n",
      " 3   bedrooms       15000 non-null  int64  \n",
      " 4   bathrooms      15000 non-null  float64\n",
      " 5   sqft_living    15000 non-null  int64  \n",
      " 6   sqft_lot       15000 non-null  int64  \n",
      " 7   floors         15000 non-null  float64\n",
      " 8   waterfront     14997 non-null  float64\n",
      " 9   dis_super      14997 non-null  float64\n",
      " 10  view           14997 non-null  float64\n",
      " 11  condition      14997 non-null  float64\n",
      " 12  grade          14997 non-null  float64\n",
      " 13  sqft_above     14997 non-null  float64\n",
      " 14  sqft_basement  14997 non-null  float64\n",
      " 15  yr_built       14997 non-null  float64\n",
      " 16  yr_renovated   15000 non-null  int64  \n",
      " 17  zipcode        15000 non-null  int64  \n",
      " 18  lat            15000 non-null  float64\n",
      " 19  long           15000 non-null  float64\n",
      " 20  sqft_living15  15000 non-null  int64  \n",
      " 21  sqft_lot15     15000 non-null  int64  \n",
      " 22  ahf1           15000 non-null  float64\n",
      " 23  ahf2           15000 non-null  float64\n",
      " 24  ahf3           15000 non-null  float64\n",
      "dtypes: float64(16), int64(8), object(1)\n",
      "memory usage: 2.9+ MB\n"
     ]
    }
   ],
   "source": [
    "#Get raw Data\n",
    "df = pd.read_csv(\"data/house_data_training.csv\", sep=';') \n",
    "df = df.iloc[:, 1:]\n",
    "df.info()"
   ]
  },
  {
   "cell_type": "markdown",
   "metadata": {},
   "source": [
    "## Task 2 Modeling"
   ]
  },
  {
   "cell_type": "markdown",
   "metadata": {},
   "source": [
    "### A) Basic Regression Model"
   ]
  },
  {
   "cell_type": "code",
   "execution_count": null,
   "metadata": {},
   "outputs": [],
   "source": []
  },
  {
   "cell_type": "markdown",
   "metadata": {},
   "source": [
    "### B) Data Preprocessing"
   ]
  },
  {
   "cell_type": "markdown",
   "metadata": {},
   "source": [
    "#### data quality issues"
   ]
  },
  {
   "cell_type": "markdown",
   "metadata": {},
   "source": [
    "##### Outliers"
   ]
  },
  {
   "cell_type": "markdown",
   "metadata": {},
   "source": [
    "##### Noise"
   ]
  },
  {
   "cell_type": "markdown",
   "metadata": {},
   "source": [
    "##### Transformed, standardized or normalized"
   ]
  },
  {
   "cell_type": "code",
   "execution_count": 12,
   "metadata": {},
   "outputs": [
    {
     "name": "stdout",
     "output_type": "stream",
     "text": [
      "0         8.0\n",
      "1        10.0\n",
      "2         7.0\n",
      "3         8.0\n",
      "4         8.0\n",
      "         ... \n",
      "14995     7.0\n",
      "14996     9.0\n",
      "14997     8.0\n",
      "14998     8.0\n",
      "14999     8.0\n",
      "Name: grade, Length: 15000, dtype: float64\n"
     ]
    },
    {
     "data": {
      "text/html": [
       "<div>\n",
       "<style scoped>\n",
       "    .dataframe tbody tr th:only-of-type {\n",
       "        vertical-align: middle;\n",
       "    }\n",
       "\n",
       "    .dataframe tbody tr th {\n",
       "        vertical-align: top;\n",
       "    }\n",
       "\n",
       "    .dataframe thead th {\n",
       "        text-align: right;\n",
       "    }\n",
       "</style>\n",
       "<table border=\"1\" class=\"dataframe\">\n",
       "  <thead>\n",
       "    <tr style=\"text-align: right;\">\n",
       "      <th></th>\n",
       "      <th>id</th>\n",
       "      <th>date</th>\n",
       "      <th>price</th>\n",
       "      <th>bedrooms</th>\n",
       "      <th>bathrooms</th>\n",
       "      <th>sqft_living</th>\n",
       "      <th>sqft_lot</th>\n",
       "      <th>floors</th>\n",
       "      <th>waterfront</th>\n",
       "      <th>dis_super</th>\n",
       "      <th>...</th>\n",
       "      <th>yr_built</th>\n",
       "      <th>yr_renovated</th>\n",
       "      <th>zipcode</th>\n",
       "      <th>lat</th>\n",
       "      <th>long</th>\n",
       "      <th>sqft_living15</th>\n",
       "      <th>sqft_lot15</th>\n",
       "      <th>ahf1</th>\n",
       "      <th>ahf2</th>\n",
       "      <th>ahf3</th>\n",
       "    </tr>\n",
       "  </thead>\n",
       "  <tbody>\n",
       "    <tr>\n",
       "      <th>14995</th>\n",
       "      <td>5700000905</td>\n",
       "      <td>2014-08-16</td>\n",
       "      <td>739000.0</td>\n",
       "      <td>5</td>\n",
       "      <td>2.5</td>\n",
       "      <td>2840</td>\n",
       "      <td>5000</td>\n",
       "      <td>1.0</td>\n",
       "      <td>0.0</td>\n",
       "      <td>694.64</td>\n",
       "      <td>...</td>\n",
       "      <td>1913.0</td>\n",
       "      <td>0</td>\n",
       "      <td>98144</td>\n",
       "      <td>47.5817</td>\n",
       "      <td>-122.291</td>\n",
       "      <td>2200</td>\n",
       "      <td>5000</td>\n",
       "      <td>24.130536</td>\n",
       "      <td>112.985690</td>\n",
       "      <td>137.116226</td>\n",
       "    </tr>\n",
       "    <tr>\n",
       "      <th>14996</th>\n",
       "      <td>2623069106</td>\n",
       "      <td>2015-02-19</td>\n",
       "      <td>710000.0</td>\n",
       "      <td>6</td>\n",
       "      <td>3.5</td>\n",
       "      <td>3830</td>\n",
       "      <td>68825</td>\n",
       "      <td>2.0</td>\n",
       "      <td>0.0</td>\n",
       "      <td>1156.61</td>\n",
       "      <td>...</td>\n",
       "      <td>1995.0</td>\n",
       "      <td>0</td>\n",
       "      <td>98027</td>\n",
       "      <td>47.4574</td>\n",
       "      <td>-122.003</td>\n",
       "      <td>2410</td>\n",
       "      <td>68825</td>\n",
       "      <td>83.830652</td>\n",
       "      <td>90.383630</td>\n",
       "      <td>174.214282</td>\n",
       "    </tr>\n",
       "    <tr>\n",
       "      <th>14997</th>\n",
       "      <td>1530900290</td>\n",
       "      <td>2014-10-07</td>\n",
       "      <td>475000.0</td>\n",
       "      <td>3</td>\n",
       "      <td>2.5</td>\n",
       "      <td>2280</td>\n",
       "      <td>3710</td>\n",
       "      <td>1.0</td>\n",
       "      <td>0.0</td>\n",
       "      <td>1352.78</td>\n",
       "      <td>...</td>\n",
       "      <td>1990.0</td>\n",
       "      <td>0</td>\n",
       "      <td>98072</td>\n",
       "      <td>47.7350</td>\n",
       "      <td>-122.159</td>\n",
       "      <td>2030</td>\n",
       "      <td>3710</td>\n",
       "      <td>13.268193</td>\n",
       "      <td>117.766765</td>\n",
       "      <td>131.034957</td>\n",
       "    </tr>\n",
       "    <tr>\n",
       "      <th>14998</th>\n",
       "      <td>4310701600</td>\n",
       "      <td>2014-11-13</td>\n",
       "      <td>340000.0</td>\n",
       "      <td>3</td>\n",
       "      <td>2.5</td>\n",
       "      <td>1240</td>\n",
       "      <td>1115</td>\n",
       "      <td>3.0</td>\n",
       "      <td>0.0</td>\n",
       "      <td>1245.41</td>\n",
       "      <td>...</td>\n",
       "      <td>2003.0</td>\n",
       "      <td>0</td>\n",
       "      <td>98103</td>\n",
       "      <td>47.6985</td>\n",
       "      <td>-122.340</td>\n",
       "      <td>1410</td>\n",
       "      <td>1355</td>\n",
       "      <td>48.352194</td>\n",
       "      <td>102.297062</td>\n",
       "      <td>150.649256</td>\n",
       "    </tr>\n",
       "    <tr>\n",
       "      <th>14999</th>\n",
       "      <td>8079010230</td>\n",
       "      <td>2014-06-03</td>\n",
       "      <td>475000.0</td>\n",
       "      <td>3</td>\n",
       "      <td>2.5</td>\n",
       "      <td>2600</td>\n",
       "      <td>7210</td>\n",
       "      <td>2.0</td>\n",
       "      <td>0.0</td>\n",
       "      <td>874.81</td>\n",
       "      <td>...</td>\n",
       "      <td>1989.0</td>\n",
       "      <td>0</td>\n",
       "      <td>98059</td>\n",
       "      <td>47.5123</td>\n",
       "      <td>-122.151</td>\n",
       "      <td>2350</td>\n",
       "      <td>7225</td>\n",
       "      <td>12.626021</td>\n",
       "      <td>95.332639</td>\n",
       "      <td>107.958660</td>\n",
       "    </tr>\n",
       "  </tbody>\n",
       "</table>\n",
       "<p>5 rows × 25 columns</p>\n",
       "</div>"
      ],
      "text/plain": [
       "               id       date     price  bedrooms  bathrooms  sqft_living  \\\n",
       "14995  5700000905 2014-08-16  739000.0         5        2.5         2840   \n",
       "14996  2623069106 2015-02-19  710000.0         6        3.5         3830   \n",
       "14997  1530900290 2014-10-07  475000.0         3        2.5         2280   \n",
       "14998  4310701600 2014-11-13  340000.0         3        2.5         1240   \n",
       "14999  8079010230 2014-06-03  475000.0         3        2.5         2600   \n",
       "\n",
       "       sqft_lot  floors  waterfront  dis_super  ...  yr_built  yr_renovated  \\\n",
       "14995      5000     1.0         0.0     694.64  ...    1913.0             0   \n",
       "14996     68825     2.0         0.0    1156.61  ...    1995.0             0   \n",
       "14997      3710     1.0         0.0    1352.78  ...    1990.0             0   \n",
       "14998      1115     3.0         0.0    1245.41  ...    2003.0             0   \n",
       "14999      7210     2.0         0.0     874.81  ...    1989.0             0   \n",
       "\n",
       "       zipcode      lat     long  sqft_living15  sqft_lot15       ahf1  \\\n",
       "14995    98144  47.5817 -122.291           2200        5000  24.130536   \n",
       "14996    98027  47.4574 -122.003           2410       68825  83.830652   \n",
       "14997    98072  47.7350 -122.159           2030        3710  13.268193   \n",
       "14998    98103  47.6985 -122.340           1410        1355  48.352194   \n",
       "14999    98059  47.5123 -122.151           2350        7225  12.626021   \n",
       "\n",
       "             ahf2        ahf3  \n",
       "14995  112.985690  137.116226  \n",
       "14996   90.383630  174.214282  \n",
       "14997  117.766765  131.034957  \n",
       "14998  102.297062  150.649256  \n",
       "14999   95.332639  107.958660  \n",
       "\n",
       "[5 rows x 25 columns]"
      ]
     },
     "execution_count": 12,
     "metadata": {},
     "output_type": "execute_result"
    }
   ],
   "source": [
    "#Transform Data \n",
    "\n",
    "#Example --> string to datetime\n",
    "df[\"date\"] = pd.to_datetime(df[\"date\"])\n",
    "print(df[\"grade\"])\n",
    "df.tail()"
   ]
  },
  {
   "cell_type": "markdown",
   "metadata": {},
   "source": [
    "#### data reduction issues"
   ]
  },
  {
   "cell_type": "markdown",
   "metadata": {},
   "source": [
    "##### Feature Selection"
   ]
  },
  {
   "cell_type": "markdown",
   "metadata": {},
   "source": [
    "##### Instance Selection"
   ]
  },
  {
   "cell_type": "markdown",
   "metadata": {},
   "source": [
    "## Task 2 Modeling Continued"
   ]
  },
  {
   "cell_type": "markdown",
   "metadata": {},
   "source": [
    "## Task 2: Evaluation"
   ]
  }
 ],
 "metadata": {
  "interpreter": {
   "hash": "dac494b5a646e4864a42364743232279aabdb40846e1ef73ed5e92c4b5911599"
  },
  "kernelspec": {
   "display_name": "Python 3.9.7 ('base')",
   "language": "python",
   "name": "python3"
  },
  "language_info": {
   "codemirror_mode": {
    "name": "ipython",
    "version": 3
   },
   "file_extension": ".py",
   "mimetype": "text/x-python",
   "name": "python",
   "nbconvert_exporter": "python",
   "pygments_lexer": "ipython3",
   "version": "3.9.7"
  },
  "orig_nbformat": 4
 },
 "nbformat": 4,
 "nbformat_minor": 2
}
