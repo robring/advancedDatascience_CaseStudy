{
 "cells": [
  {
   "cell_type": "markdown",
   "metadata": {},
   "source": [
    "## Setup"
   ]
  },
  {
   "cell_type": "code",
   "execution_count": 229,
   "metadata": {},
   "outputs": [],
   "source": [
    "from functions import Model, get99, splitData, dropMissingValues, z_score, outliers_knn, outliers_dbscan, getNoise, getRelFeatures, train_test_split, getCombinations, get_unique_list, bold, blue, red, green, getBestModel, np_to_df, df_to_np, drop99_all, z_score_individual, train_test_to_df, saveModel, loadModel\n",
    "import pandas as pd\n",
    "from sklearn.linear_model import LinearRegression\n",
    "from sklearn.ensemble import GradientBoostingRegressor\n",
    "from sklearn.linear_model import BayesianRidge\n",
    "from sklearn.tree import DecisionTreeRegressor\n",
    "from sklearn.linear_model import Lasso\n",
    "import warnings\n",
    "import json\n",
    "from sklearn.preprocessing import StandardScaler\n",
    "from sklearn.metrics import mean_absolute_error\n",
    "import numpy as np\n",
    "warnings.filterwarnings('ignore')"
   ]
  },
  {
   "cell_type": "markdown",
   "metadata": {},
   "source": [
    "Json Hyper Parameters"
   ]
  },
  {
   "cell_type": "code",
   "execution_count": 230,
   "metadata": {},
   "outputs": [],
   "source": [
    "f = open ('data/json/input.json', \"r\")\n",
    "PARAMETERS = json.loads(f.read())\n",
    "\n",
    "#General parameter\n",
    "#PARAMETERS = PARAMETERS_ALL[\"GRID_SEARCH\"]\n",
    "SPLIT_SIZE = PARAMETERS[\"SPLIT_SIZE\"]\n",
    "\n",
    "#Outlier / Noise\n",
    "OUTLIER99 = PARAMETERS[\"OUTLIER99\"] \n",
    "OUTLIER_ZSCORE = {\"STD\" : PARAMETERS[\"OUTLIER_ZSCORE\"][\"STD\"]}\n",
    "OUTLIER_ZSCORE_IND = PARAMETERS[\"OUTLIER_ZSCORE_IND\"]\n",
    "OUTLIER_KNN = {\"K\": PARAMETERS[\"OUTLIER_KNN\"][\"K\"], \"X\": PARAMETERS[\"OUTLIER_KNN\"][\"X\"]}\n",
    "OUTLIER_DBSCAN = {\"K\": PARAMETERS[\"OUTLIER_DBSCAN\"][\"K\"], \"X\": PARAMETERS[\"OUTLIER_DBSCAN\"][\"X\"], \"EPS\": PARAMETERS[\"OUTLIER_DBSCAN\"][\"EPS\"], \"MIN_SAMPLES\":  PARAMETERS[\"OUTLIER_DBSCAN\"][\"MIN_SAMPLES\"]}\n",
    "OUTLIER_NOISE = {\"CV\": PARAMETERS[\"OUTLIER_NOISE\"][\"CV\"], \"DEPTH\": PARAMETERS[\"OUTLIER_NOISE\"][\"DEPTH\"], \"MULTI\": PARAMETERS[\"OUTLIER_NOISE\"][\"MULTI\"] }\n",
    "\n",
    "#Feature Selection\n",
    "FEATURE_SEL_CORR = {\"THRESHOLD_CORR\": PARAMETERS[\"FEATURE_SEL_CORR\"][\"THRESHOLD\"]}\n",
    "FEATURE_SEL_MANUAL = PARAMETERS[\"FEATURE_SEL_MANUAL\"]\n",
    "\n",
    "#Algorythm Selection\n",
    "REG_LINEAR = PARAMETERS[\"REG_LINEAR\"]\n",
    "REG_GRADIANT = PARAMETERS[\"REG_GRADIANT\"]\n",
    "REG_RIDGE = PARAMETERS[\"REG_RIDGE\"]\n",
    "REG_TREE = PARAMETERS[\"REG_TREE\"]\n",
    "REG_LASSO = {\"ALPHA\": PARAMETERS[\"REG_LASSO\"][\"ALPHA\"]}\n",
    "\n",
    "f.close()"
   ]
  },
  {
   "cell_type": "markdown",
   "metadata": {},
   "source": [
    "Get Data from CSV"
   ]
  },
  {
   "cell_type": "code",
   "execution_count": 231,
   "metadata": {},
   "outputs": [],
   "source": [
    "#Get raw Data\n",
    "df = pd.read_csv(\"data/csv/house_data_training.csv\", sep=';') \n",
    "# remove unnamed column\n",
    "df = df.iloc[:, 1:]\n",
    "#Transform string to datetime\n",
    "df[\"date\"] = pd.to_datetime(df[\"date\"])"
   ]
  },
  {
   "cell_type": "markdown",
   "metadata": {},
   "source": [
    "Missing Values"
   ]
  },
  {
   "cell_type": "code",
   "execution_count": 232,
   "metadata": {},
   "outputs": [],
   "source": [
    "df = dropMissingValues(df) "
   ]
  },
  {
   "cell_type": "code",
   "execution_count": 233,
   "metadata": {},
   "outputs": [
    {
     "name": "stdout",
     "output_type": "stream",
     "text": [
      "outlier_99\n",
      "\u001b[32mdone\u001b[0m \n",
      "\n"
     ]
    }
   ],
   "source": [
    "if OUTLIER99 == True:\n",
    "    print(\"outlier_99\")\n",
    "    outlier_list_99 = get99(df)\n",
    "    df = drop99_all(df, outlier_list_99 )\n",
    "    print(green('done'), \"\\n\")"
   ]
  },
  {
   "cell_type": "markdown",
   "metadata": {},
   "source": [
    "## Baseline Regression model"
   ]
  },
  {
   "cell_type": "code",
   "execution_count": 234,
   "metadata": {},
   "outputs": [
    {
     "name": "stdout",
     "output_type": "stream",
     "text": [
      "MAE for Baseline Regressionmodel: \u001b[36m128810.75\u001b[0m\n"
     ]
    }
   ],
   "source": [
    "import matplotlib.pyplot as plt\n",
    "\n",
    "X, y = df.drop(columns=[\"price\", \"date\"]), df[\"price\"]\n",
    "X_train_base, X_test_base, y_train_base, y_test_base = train_test_split(X, y, test_size = SPLIT_SIZE, random_state=1)\n",
    "\n",
    "reg_base = LinearRegression()\n",
    "reg_base.fit(X_train_base, y_train_base)\n",
    "\n",
    "# evaluate the model\n",
    "ypred_base = reg_base.predict(X_test_base)\n",
    "\n",
    "# evaluate predictions\n",
    "mae_base = mean_absolute_error(y_test_base, ypred_base)\n",
    "print(f'MAE for Baseline Regressionmodel: {blue(np.round(mae_base, 2))}')"
   ]
  },
  {
   "cell_type": "markdown",
   "metadata": {},
   "source": [
    "## Outlier Detection"
   ]
  },
  {
   "cell_type": "code",
   "execution_count": 235,
   "metadata": {},
   "outputs": [
    {
     "name": "stdout",
     "output_type": "stream",
     "text": [
      "starting z_score\n",
      "10.1\n",
      "\u001b[32mdone\u001b[0m \n",
      "\n",
      "starting knn\n",
      "3 1500\n",
      "\u001b[32mdone\u001b[0m \n",
      "\n",
      "starting db_scan\n",
      "3 1500 0.4 8\n",
      "\u001b[32mdone\u001b[0m \n",
      "\n",
      "starting noise\n",
      "5 5 10\n",
      "\u001b[32mdone\u001b[0m\n"
     ]
    }
   ],
   "source": [
    "outlier_dict_all = {}\n",
    "\n",
    "print('starting z_score')\n",
    "for p in OUTLIER_ZSCORE[\"STD\"]:\n",
    "    print(p)\n",
    "    outlier_list_z_score = z_score(df, p)\n",
    "    outlier_dict_all[\"z_score_\"+str(p)] = outlier_list_z_score\n",
    "\n",
    "if OUTLIER_ZSCORE_IND == True:\n",
    "    outlier_list_z_score_ind = z_score_individual(df)\n",
    "\n",
    "print(green('done'), '\\n\\nstarting knn')\n",
    "for k in OUTLIER_KNN[\"K\"]:\n",
    "    for o in OUTLIER_KNN[\"X\"]:\n",
    "        print(k, o)\n",
    "        outlier_list_knn = outliers_knn(df, k, o, SPLIT_SIZE)\n",
    "        outlier_dict_all[\"knn_\"+str(k)+\"_\"+str(o)] = outlier_list_knn\n",
    "\n",
    "print(green('done'), '\\n\\nstarting db_scan')\n",
    "for k in OUTLIER_DBSCAN[\"K\"]:\n",
    "    for o in OUTLIER_DBSCAN[\"X\"]:\n",
    "        for e in OUTLIER_DBSCAN[\"EPS\"]:\n",
    "            for m in OUTLIER_DBSCAN[\"MIN_SAMPLES\"]:\n",
    "                print(k, o, e, m)\n",
    "                outlier_list_dbscan = outliers_dbscan(df, k, o, e, m, SPLIT_SIZE)\n",
    "                outlier_dict_all[\"db_scan_\"+str(k)+\"_\"+str(o)+\"_\"+str(e)+\"_\"+str(m)] = outlier_list_dbscan\n",
    "\n",
    "print(green('done'), '\\n\\nstarting noise')\n",
    "for cv in OUTLIER_NOISE[\"CV\"]:\n",
    "    for d in OUTLIER_NOISE[\"DEPTH\"]:\n",
    "        for m in OUTLIER_NOISE[\"MULTI\"]:\n",
    "            print(cv, d, m)\n",
    "            outlier_list_noise = getNoise(df, cv, d, m)\n",
    "            outlier_dict_all[\"noise_\"+str(cv)+\"_\"+str(d)+\"_\"+str(m)] = outlier_list_noise\n",
    "\n",
    "print(green('done'))"
   ]
  },
  {
   "cell_type": "markdown",
   "metadata": {},
   "source": [
    "## Combinations Outlier / Noise "
   ]
  },
  {
   "cell_type": "code",
   "execution_count": 236,
   "metadata": {},
   "outputs": [
    {
     "name": "stdout",
     "output_type": "stream",
     "text": [
      "...\n",
      "\u001b[1mCombination: \u001b[0m \u001b[36m('z_score_10.1', 'knn_3_1500', 'db_scan_3_1500_0.4_8')\u001b[0m \n",
      "\n",
      "\u001b[1mCombination: \u001b[0m \u001b[36m('z_score_10.1', 'knn_3_1500', 'noise_5_5_10')\u001b[0m \n",
      "\n",
      "\u001b[1mCombination: \u001b[0m \u001b[36m('z_score_10.1', 'db_scan_3_1500_0.4_8', 'noise_5_5_10')\u001b[0m \n",
      "\n",
      "\u001b[1mCombination: \u001b[0m \u001b[36m('knn_3_1500', 'db_scan_3_1500_0.4_8', 'noise_5_5_10')\u001b[0m \n",
      "\n",
      "\u001b[1mCombination: \u001b[0m \u001b[36m('z_score_10.1', 'knn_3_1500', 'db_scan_3_1500_0.4_8', 'noise_5_5_10')\u001b[0m \n",
      "\n",
      "\u001b[1m15\u001b[0m  total Combinations\n"
     ]
    }
   ],
   "source": [
    "outlier_lists_all = list(outlier_dict_all.values())\n",
    "outlier_lists_keys = list(outlier_dict_all.keys())\n",
    "combination_list = []\n",
    "for i, combo in enumerate(getCombinations(outlier_lists_keys), 1):\n",
    "    if not i == 1: #emtpy tuple\n",
    "        combination_list.append(combo)\n",
    "        # print('combo #{}: {}'.format(i, combo))\n",
    "print(\"...\")\n",
    "for c in combination_list[10:]:\n",
    "    print(bold(\"Combination: \"), blue(c),\"\\n\",)\n",
    "print(bold(len(combination_list)), \" total Combinations\")"
   ]
  },
  {
   "cell_type": "markdown",
   "metadata": {},
   "source": [
    "## Algorythm Selection"
   ]
  },
  {
   "cell_type": "markdown",
   "metadata": {},
   "source": [
    "### Linear Regression"
   ]
  },
  {
   "cell_type": "code",
   "execution_count": 237,
   "metadata": {},
   "outputs": [],
   "source": [
    "model_obj_list = []"
   ]
  },
  {
   "cell_type": "code",
   "execution_count": 238,
   "metadata": {},
   "outputs": [
    {
     "name": "stdout",
     "output_type": "stream",
     "text": [
      "\n",
      "\u001b[1m0\u001b[0m: \u001b[36m('z_score_10.1',)\u001b[0m\n",
      "dropped \u001b[31m41\u001b[0m rows\n",
      "\n",
      "\u001b[1m1\u001b[0m: \u001b[36m('knn_3_1500',)\u001b[0m\n",
      "dropped \u001b[31m1500\u001b[0m rows\n",
      "\n",
      "\u001b[1m2\u001b[0m: \u001b[36m('db_scan_3_1500_0.4_8',)\u001b[0m\n",
      "dropped \u001b[31m3783\u001b[0m rows\n",
      "\n",
      "\u001b[1m3\u001b[0m: \u001b[36m('noise_5_5_10',)\u001b[0m\n",
      "dropped \u001b[31m35\u001b[0m rows\n",
      "\n",
      "\u001b[1m4\u001b[0m: \u001b[36m('z_score_10.1', 'knn_3_1500')\u001b[0m\n",
      "dropped \u001b[31m1536\u001b[0m rows\n",
      "\n",
      "\u001b[1m5\u001b[0m: \u001b[36m('z_score_10.1', 'db_scan_3_1500_0.4_8')\u001b[0m\n",
      "dropped \u001b[31m3814\u001b[0m rows\n",
      "\n",
      "\u001b[1m6\u001b[0m: \u001b[36m('z_score_10.1', 'noise_5_5_10')\u001b[0m\n",
      "dropped \u001b[31m76\u001b[0m rows\n",
      "\n",
      "\u001b[1m7\u001b[0m: \u001b[36m('knn_3_1500', 'db_scan_3_1500_0.4_8')\u001b[0m\n",
      "dropped \u001b[31m3783\u001b[0m rows\n",
      "\n",
      "\u001b[1m8\u001b[0m: \u001b[36m('knn_3_1500', 'noise_5_5_10')\u001b[0m\n",
      "dropped \u001b[31m1532\u001b[0m rows\n",
      "\n",
      "\u001b[1m9\u001b[0m: \u001b[36m('db_scan_3_1500_0.4_8', 'noise_5_5_10')\u001b[0m\n",
      "dropped \u001b[31m3808\u001b[0m rows\n",
      "\n",
      "\u001b[1m10\u001b[0m: \u001b[36m('z_score_10.1', 'knn_3_1500', 'db_scan_3_1500_0.4_8')\u001b[0m\n",
      "dropped \u001b[31m3814\u001b[0m rows\n",
      "\n",
      "\u001b[1m11\u001b[0m: \u001b[36m('z_score_10.1', 'knn_3_1500', 'noise_5_5_10')\u001b[0m\n",
      "dropped \u001b[31m1568\u001b[0m rows\n",
      "\n",
      "\u001b[1m12\u001b[0m: \u001b[36m('z_score_10.1', 'db_scan_3_1500_0.4_8', 'noise_5_5_10')\u001b[0m\n",
      "dropped \u001b[31m3839\u001b[0m rows\n",
      "\n",
      "\u001b[1m13\u001b[0m: \u001b[36m('knn_3_1500', 'db_scan_3_1500_0.4_8', 'noise_5_5_10')\u001b[0m\n",
      "dropped \u001b[31m3808\u001b[0m rows\n",
      "\n",
      "\u001b[1m14\u001b[0m: \u001b[36m('z_score_10.1', 'knn_3_1500', 'db_scan_3_1500_0.4_8', 'noise_5_5_10')\u001b[0m\n",
      "dropped \u001b[31m3839\u001b[0m rows\n"
     ]
    }
   ],
   "source": [
    "if REG_LINEAR == True:\n",
    "    for i, c in enumerate(combination_list):\n",
    "        print(f'\\n{bold(i)}: {blue(c)}')\n",
    "        outlier_list = get_unique_list(outlier_dict_all, c)\n",
    "        try: \n",
    "            X_train, X_test, y_train, y_test = splitData(df, SPLIT_SIZE, outlier_list, \"drop\") #TODO drop entfernen\n",
    "            model = LinearRegression()\n",
    "            obj = Model(model, (X_train, X_test, y_train, y_test), c, df, df.columns.to_list())\n",
    "            model_obj_list.append(obj)\n",
    "\n",
    "        except Exception as e:\n",
    "            print(bold(\"Error\"), red(e))"
   ]
  },
  {
   "cell_type": "markdown",
   "metadata": {},
   "source": [
    "### Lasso Regression"
   ]
  },
  {
   "cell_type": "code",
   "execution_count": 239,
   "metadata": {},
   "outputs": [
    {
     "name": "stdout",
     "output_type": "stream",
     "text": [
      "\n",
      "\u001b[1m0\u001b[0m: \u001b[36m('z_score_10.1',)\u001b[0m\n",
      "dropped \u001b[31m41\u001b[0m rows\n",
      "\n",
      "\u001b[1m1\u001b[0m: \u001b[36m('knn_3_1500',)\u001b[0m\n",
      "dropped \u001b[31m1500\u001b[0m rows\n",
      "\n",
      "\u001b[1m2\u001b[0m: \u001b[36m('db_scan_3_1500_0.4_8',)\u001b[0m\n",
      "dropped \u001b[31m3783\u001b[0m rows\n",
      "\n",
      "\u001b[1m3\u001b[0m: \u001b[36m('noise_5_5_10',)\u001b[0m\n",
      "dropped \u001b[31m35\u001b[0m rows\n",
      "\n",
      "\u001b[1m4\u001b[0m: \u001b[36m('z_score_10.1', 'knn_3_1500')\u001b[0m\n",
      "dropped \u001b[31m1536\u001b[0m rows\n",
      "\n",
      "\u001b[1m5\u001b[0m: \u001b[36m('z_score_10.1', 'db_scan_3_1500_0.4_8')\u001b[0m\n",
      "dropped \u001b[31m3814\u001b[0m rows\n",
      "\n",
      "\u001b[1m6\u001b[0m: \u001b[36m('z_score_10.1', 'noise_5_5_10')\u001b[0m\n",
      "dropped \u001b[31m76\u001b[0m rows\n",
      "\n",
      "\u001b[1m7\u001b[0m: \u001b[36m('knn_3_1500', 'db_scan_3_1500_0.4_8')\u001b[0m\n",
      "dropped \u001b[31m3783\u001b[0m rows\n",
      "\n",
      "\u001b[1m8\u001b[0m: \u001b[36m('knn_3_1500', 'noise_5_5_10')\u001b[0m\n",
      "dropped \u001b[31m1532\u001b[0m rows\n",
      "\n",
      "\u001b[1m9\u001b[0m: \u001b[36m('db_scan_3_1500_0.4_8', 'noise_5_5_10')\u001b[0m\n",
      "dropped \u001b[31m3808\u001b[0m rows\n",
      "\n",
      "\u001b[1m10\u001b[0m: \u001b[36m('z_score_10.1', 'knn_3_1500', 'db_scan_3_1500_0.4_8')\u001b[0m\n",
      "dropped \u001b[31m3814\u001b[0m rows\n",
      "\n",
      "\u001b[1m11\u001b[0m: \u001b[36m('z_score_10.1', 'knn_3_1500', 'noise_5_5_10')\u001b[0m\n",
      "dropped \u001b[31m1568\u001b[0m rows\n",
      "\n",
      "\u001b[1m12\u001b[0m: \u001b[36m('z_score_10.1', 'db_scan_3_1500_0.4_8', 'noise_5_5_10')\u001b[0m\n",
      "dropped \u001b[31m3839\u001b[0m rows\n",
      "\n",
      "\u001b[1m13\u001b[0m: \u001b[36m('knn_3_1500', 'db_scan_3_1500_0.4_8', 'noise_5_5_10')\u001b[0m\n",
      "dropped \u001b[31m3808\u001b[0m rows\n",
      "\n",
      "\u001b[1m14\u001b[0m: \u001b[36m('z_score_10.1', 'knn_3_1500', 'db_scan_3_1500_0.4_8', 'noise_5_5_10')\u001b[0m\n",
      "dropped \u001b[31m3839\u001b[0m rows\n"
     ]
    }
   ],
   "source": [
    "#model_obj_list = []\n",
    "for i, c in enumerate(combination_list):\n",
    "    print(f'\\n{bold(i)}: {blue(c)}')\n",
    "    outlier_list = get_unique_list(outlier_dict_all, c)\n",
    "    try: \n",
    "        X_train, X_test, y_train, y_test = splitData(df, SPLIT_SIZE, outlier_list, \"drop\")\n",
    "        df_lasso = train_test_to_df(X_train, X_test, y_train, y_test, df.columns.to_list())\n",
    "        X_l, y_l = df_lasso.drop(columns=[\"price\", \"date\", \"id\"]), df_lasso[\"price\"]\n",
    "        scaler = StandardScaler().fit(X_l)\n",
    "        X_train_l, X_test_l, y_train_l, y_test_l = train_test_split(X_l, y_l, test_size = SPLIT_SIZE, random_state=1) #TODO \n",
    "        X_train_l = scaler.transform(X_train_l)\n",
    "        X_test_l = scaler.transform(X_test_l)\n",
    "\n",
    "        for a in REG_LASSO[\"ALPHA\"]:\n",
    "            reg = Lasso(alpha=a)\n",
    "            obj_l = Model(reg, (X_train_l, X_test_l, y_train_l, y_test_l), c, df_lasso, X_l.columns.to_list())\n",
    "            model_obj_list.append(obj_l)\n",
    "\n",
    "    except Exception as e:\n",
    "        print(bold(\"Error\"), red(e))"
   ]
  },
  {
   "cell_type": "markdown",
   "metadata": {},
   "source": [
    "### GradientBoostingRegressor, BayesianRidge, DecisionTreeRegressor"
   ]
  },
  {
   "cell_type": "code",
   "execution_count": 240,
   "metadata": {},
   "outputs": [
    {
     "name": "stdout",
     "output_type": "stream",
     "text": [
      "\n",
      "\u001b[1m0\u001b[0m: \u001b[36m('z_score_10.1',)\u001b[0m\n",
      "dropped \u001b[31m41\u001b[0m rows\n",
      "\n",
      "\u001b[1m1\u001b[0m: \u001b[36m('knn_3_1500',)\u001b[0m\n",
      "dropped \u001b[31m1500\u001b[0m rows\n",
      "\n",
      "\u001b[1m2\u001b[0m: \u001b[36m('db_scan_3_1500_0.4_8',)\u001b[0m\n",
      "dropped \u001b[31m3783\u001b[0m rows\n",
      "\n",
      "\u001b[1m3\u001b[0m: \u001b[36m('noise_5_5_10',)\u001b[0m\n",
      "dropped \u001b[31m35\u001b[0m rows\n",
      "\n",
      "\u001b[1m4\u001b[0m: \u001b[36m('z_score_10.1', 'knn_3_1500')\u001b[0m\n",
      "dropped \u001b[31m1536\u001b[0m rows\n",
      "\n",
      "\u001b[1m5\u001b[0m: \u001b[36m('z_score_10.1', 'db_scan_3_1500_0.4_8')\u001b[0m\n",
      "dropped \u001b[31m3814\u001b[0m rows\n",
      "\n",
      "\u001b[1m6\u001b[0m: \u001b[36m('z_score_10.1', 'noise_5_5_10')\u001b[0m\n",
      "dropped \u001b[31m76\u001b[0m rows\n",
      "\n",
      "\u001b[1m7\u001b[0m: \u001b[36m('knn_3_1500', 'db_scan_3_1500_0.4_8')\u001b[0m\n",
      "dropped \u001b[31m3783\u001b[0m rows\n",
      "\n",
      "\u001b[1m8\u001b[0m: \u001b[36m('knn_3_1500', 'noise_5_5_10')\u001b[0m\n",
      "dropped \u001b[31m1532\u001b[0m rows\n",
      "\n",
      "\u001b[1m9\u001b[0m: \u001b[36m('db_scan_3_1500_0.4_8', 'noise_5_5_10')\u001b[0m\n",
      "dropped \u001b[31m3808\u001b[0m rows\n",
      "\n",
      "\u001b[1m10\u001b[0m: \u001b[36m('z_score_10.1', 'knn_3_1500', 'db_scan_3_1500_0.4_8')\u001b[0m\n",
      "dropped \u001b[31m3814\u001b[0m rows\n",
      "\n",
      "\u001b[1m11\u001b[0m: \u001b[36m('z_score_10.1', 'knn_3_1500', 'noise_5_5_10')\u001b[0m\n",
      "dropped \u001b[31m1568\u001b[0m rows\n",
      "\n",
      "\u001b[1m12\u001b[0m: \u001b[36m('z_score_10.1', 'db_scan_3_1500_0.4_8', 'noise_5_5_10')\u001b[0m\n",
      "dropped \u001b[31m3839\u001b[0m rows\n",
      "\n",
      "\u001b[1m13\u001b[0m: \u001b[36m('knn_3_1500', 'db_scan_3_1500_0.4_8', 'noise_5_5_10')\u001b[0m\n",
      "dropped \u001b[31m3808\u001b[0m rows\n",
      "\n",
      "\u001b[1m14\u001b[0m: \u001b[36m('z_score_10.1', 'knn_3_1500', 'db_scan_3_1500_0.4_8', 'noise_5_5_10')\u001b[0m\n",
      "dropped \u001b[31m3839\u001b[0m rows\n"
     ]
    }
   ],
   "source": [
    "for i, c in enumerate(combination_list):\n",
    "    print(f'\\n{bold(i)}: {blue(c)}')\n",
    "    outlier_list = get_unique_list(outlier_dict_all, c)\n",
    "\n",
    "    try: \n",
    "        df_Cross = df.drop(columns=[\"date\"])\n",
    "        X_train, X_test, y_train, y_test = splitData(df_Cross, SPLIT_SIZE, outlier_list, \"drop\") \n",
    "        \n",
    "        if REG_GRADIANT == True:\n",
    "            reg1 = GradientBoostingRegressor(random_state=1)\n",
    "            obj_1 = Model(GradientBoostingRegressor(random_state=1), (X_train, X_test, y_train, y_test), c, df_Cross, df_Cross.columns.to_list())\n",
    "            model_obj_list.append(obj_1)\n",
    "            \n",
    "        if REG_RIDGE == True:\n",
    "            reg2 = BayesianRidge()            \n",
    "            obj_2 = Model(reg2, (X_train, X_test, y_train, y_test), c, df_Cross, df_Cross.columns.to_list())\n",
    "            model_obj_list.append(obj_2)\n",
    "\n",
    "        if REG_TREE == True:\n",
    "            reg3 = DecisionTreeRegressor(max_depth=3, random_state=1)\n",
    "            obj_3 = Model(reg3, (X_train, X_test, y_train, y_test), c, df_Cross, df_Cross.columns.to_list())\n",
    "            model_obj_list.append(obj_3)\n",
    "\n",
    "    except Exception as e:\n",
    "        print(bold(\"Error\"), red(e))\n"
   ]
  },
  {
   "cell_type": "markdown",
   "metadata": {},
   "source": [
    "### Summary Algorythm Selection"
   ]
  },
  {
   "cell_type": "code",
   "execution_count": 241,
   "metadata": {},
   "outputs": [],
   "source": [
    "#Summary\n",
    "df_summary = pd.DataFrame(columns=['model', 'combo', 'mae', 'score'])\n",
    "for i, o in enumerate(model_obj_list):\n",
    "    o.train()\n",
    "    mae, score = o.summary()\n",
    "    comb = o.get_comb()\n",
    "    model = o.get_model()\n",
    "    if isinstance(o.get_model(), GradientBoostingRegressor) == True:\n",
    "        row = {'model': \"GradientBoostingRegressor(random_state=1)\", 'combo': comb, 'mae': mae, 'score': score}\n",
    "    else:\n",
    "        row = {'model': model, 'combo': comb, 'mae': mae, 'score': score}\n",
    "\n",
    "    df_summary = df_summary.append(row, ignore_index=True)"
   ]
  },
  {
   "cell_type": "code",
   "execution_count": 242,
   "metadata": {},
   "outputs": [
    {
     "data": {
      "text/html": [
       "<div>\n",
       "<style scoped>\n",
       "    .dataframe tbody tr th:only-of-type {\n",
       "        vertical-align: middle;\n",
       "    }\n",
       "\n",
       "    .dataframe tbody tr th {\n",
       "        vertical-align: top;\n",
       "    }\n",
       "\n",
       "    .dataframe thead th {\n",
       "        text-align: right;\n",
       "    }\n",
       "</style>\n",
       "<table border=\"1\" class=\"dataframe\">\n",
       "  <thead>\n",
       "    <tr style=\"text-align: right;\">\n",
       "      <th></th>\n",
       "      <th>model</th>\n",
       "      <th>combo</th>\n",
       "      <th>mae</th>\n",
       "      <th>score</th>\n",
       "    </tr>\n",
       "  </thead>\n",
       "  <tbody>\n",
       "    <tr>\n",
       "      <th>48</th>\n",
       "      <td>GradientBoostingRegressor(random_state=1)</td>\n",
       "      <td>(z_score_10.1, noise_5_5_10)</td>\n",
       "      <td>79124.14</td>\n",
       "      <td>0.86054</td>\n",
       "    </tr>\n",
       "    <tr>\n",
       "      <th>39</th>\n",
       "      <td>GradientBoostingRegressor(random_state=1)</td>\n",
       "      <td>(noise_5_5_10,)</td>\n",
       "      <td>79603.75</td>\n",
       "      <td>0.859449</td>\n",
       "    </tr>\n",
       "    <tr>\n",
       "      <th>30</th>\n",
       "      <td>GradientBoostingRegressor(random_state=1)</td>\n",
       "      <td>(z_score_10.1,)</td>\n",
       "      <td>79892.02</td>\n",
       "      <td>0.857163</td>\n",
       "    </tr>\n",
       "    <tr>\n",
       "      <th>33</th>\n",
       "      <td>GradientBoostingRegressor(random_state=1)</td>\n",
       "      <td>(knn_3_1500,)</td>\n",
       "      <td>81721.7</td>\n",
       "      <td>0.810228</td>\n",
       "    </tr>\n",
       "    <tr>\n",
       "      <th>54</th>\n",
       "      <td>GradientBoostingRegressor(random_state=1)</td>\n",
       "      <td>(knn_3_1500, noise_5_5_10)</td>\n",
       "      <td>82155.49</td>\n",
       "      <td>0.808864</td>\n",
       "    </tr>\n",
       "    <tr>\n",
       "      <th>...</th>\n",
       "      <td>...</td>\n",
       "      <td>...</td>\n",
       "      <td>...</td>\n",
       "      <td>...</td>\n",
       "    </tr>\n",
       "    <tr>\n",
       "      <th>2</th>\n",
       "      <td>LinearRegression()</td>\n",
       "      <td>(db_scan_3_1500_0.4_8,)</td>\n",
       "      <td>162867.97</td>\n",
       "      <td>0.431331</td>\n",
       "    </tr>\n",
       "    <tr>\n",
       "      <th>7</th>\n",
       "      <td>LinearRegression()</td>\n",
       "      <td>(knn_3_1500, db_scan_3_1500_0.4_8)</td>\n",
       "      <td>162867.97</td>\n",
       "      <td>0.431331</td>\n",
       "    </tr>\n",
       "    <tr>\n",
       "      <th>0</th>\n",
       "      <td>LinearRegression()</td>\n",
       "      <td>(z_score_10.1,)</td>\n",
       "      <td>165149.5</td>\n",
       "      <td>0.525593</td>\n",
       "    </tr>\n",
       "    <tr>\n",
       "      <th>6</th>\n",
       "      <td>LinearRegression()</td>\n",
       "      <td>(z_score_10.1, noise_5_5_10)</td>\n",
       "      <td>165189.16</td>\n",
       "      <td>0.525594</td>\n",
       "    </tr>\n",
       "    <tr>\n",
       "      <th>3</th>\n",
       "      <td>LinearRegression()</td>\n",
       "      <td>(noise_5_5_10,)</td>\n",
       "      <td>165189.86</td>\n",
       "      <td>0.525635</td>\n",
       "    </tr>\n",
       "  </tbody>\n",
       "</table>\n",
       "<p>75 rows × 4 columns</p>\n",
       "</div>"
      ],
      "text/plain": [
       "                                        model  \\\n",
       "48  GradientBoostingRegressor(random_state=1)   \n",
       "39  GradientBoostingRegressor(random_state=1)   \n",
       "30  GradientBoostingRegressor(random_state=1)   \n",
       "33  GradientBoostingRegressor(random_state=1)   \n",
       "54  GradientBoostingRegressor(random_state=1)   \n",
       "..                                        ...   \n",
       "2                          LinearRegression()   \n",
       "7                          LinearRegression()   \n",
       "0                          LinearRegression()   \n",
       "6                          LinearRegression()   \n",
       "3                          LinearRegression()   \n",
       "\n",
       "                                 combo        mae     score  \n",
       "48        (z_score_10.1, noise_5_5_10)   79124.14   0.86054  \n",
       "39                     (noise_5_5_10,)   79603.75  0.859449  \n",
       "30                     (z_score_10.1,)   79892.02  0.857163  \n",
       "33                       (knn_3_1500,)    81721.7  0.810228  \n",
       "54          (knn_3_1500, noise_5_5_10)   82155.49  0.808864  \n",
       "..                                 ...        ...       ...  \n",
       "2              (db_scan_3_1500_0.4_8,)  162867.97  0.431331  \n",
       "7   (knn_3_1500, db_scan_3_1500_0.4_8)  162867.97  0.431331  \n",
       "0                      (z_score_10.1,)   165149.5  0.525593  \n",
       "6         (z_score_10.1, noise_5_5_10)  165189.16  0.525594  \n",
       "3                      (noise_5_5_10,)  165189.86  0.525635  \n",
       "\n",
       "[75 rows x 4 columns]"
      ]
     },
     "execution_count": 242,
     "metadata": {},
     "output_type": "execute_result"
    }
   ],
   "source": [
    "df_summary.sort_values(\"mae\")"
   ]
  },
  {
   "cell_type": "code",
   "execution_count": 243,
   "metadata": {},
   "outputs": [
    {
     "data": {
      "image/png": "[encoded data removed]",
      "text/plain": [
       "<Figure size 1440x504 with 1 Axes>"
      ]
     },
     "metadata": {
      "needs_background": "light"
     },
     "output_type": "display_data"
    }
   ],
   "source": [
    "plt.figure(figsize=(20,7))\n",
    "df_summary['model'] = df_summary['model'].astype(str)\n",
    "\n",
    "df_summary_grouped_model = df_summary.groupby(['model'])[\"mae\"].mean()\n",
    "ax = df_summary_grouped_model.plot.barh(x='model', y='mae')\n",
    "plt.xlim([80000, 170000])\n",
    "plt.show()"
   ]
  },
  {
   "cell_type": "code",
   "execution_count": 244,
   "metadata": {},
   "outputs": [
    {
     "data": {
      "image/png": "[encoded data removed]",
      "text/plain": [
       "<Figure size 1440x504 with 1 Axes>"
      ]
     },
     "metadata": {
      "needs_background": "light"
     },
     "output_type": "display_data"
    }
   ],
   "source": [
    "plt.figure(figsize=(20,7))\n",
    "df_summary_grouped_model = df_summary.groupby(['combo'])[\"mae\"].min()\n",
    "ax = df_summary_grouped_model.plot.barh(x='combo', y='mae')\n",
    "plt.xlim([75000, 90000])\n",
    "plt.show()"
   ]
  },
  {
   "cell_type": "code",
   "execution_count": 245,
   "metadata": {},
   "outputs": [
    {
     "name": "stdout",
     "output_type": "stream",
     "text": [
      "\u001b[1mModel:\u001b[0m \u001b[36mGradientBoostingRegressor(random_state=1)\u001b[0m \u001b[1mCombination:\u001b[0m \u001b[36m('z_score_10.1', 'noise_5_5_10')\u001b[0m \u001b[1mFeatures:\u001b[0m \u001b[36m24\u001b[0m\n"
     ]
    }
   ],
   "source": [
    "mae_best = df_summary[df_summary.mae==df_summary.mae.min()]\n",
    "best_model_obj = getBestModel(model_obj_list, df_summary, mae_best.index[0])\n",
    "print(best_model_obj)"
   ]
  },
  {
   "cell_type": "markdown",
   "metadata": {},
   "source": [
    "## Feature Selection"
   ]
  },
  {
   "cell_type": "markdown",
   "metadata": {},
   "source": [
    "### By Correlation"
   ]
  },
  {
   "cell_type": "code",
   "execution_count": 246,
   "metadata": {},
   "outputs": [
    {
     "name": "stdout",
     "output_type": "stream",
     "text": [
      "\u001b[1mModel:\u001b[0m \u001b[36mGradientBoostingRegressor(random_state=1)\u001b[0m \u001b[1mCombination:\u001b[0m \u001b[36m('z_score_10.1', 'noise_5_5_10')\u001b[0m \u001b[1mFeatures:\u001b[0m \u001b[36m24\u001b[0m\n",
      "\u001b[1mModel:\u001b[0m \u001b[36mGradientBoostingRegressor(random_state=1)\u001b[0m \u001b[1mCombination:\u001b[0m \u001b[36m('z_score_10.1', 'noise_5_5_10')\u001b[0m \u001b[1mFeatures:\u001b[0m \u001b[36m11\u001b[0m\n",
      "\u001b[1mModel:\u001b[0m \u001b[36mGradientBoostingRegressor(random_state=1)\u001b[0m \u001b[1mCombination:\u001b[0m \u001b[36m('z_score_10.1', 'noise_5_5_10')\u001b[0m \u001b[1mFeatures:\u001b[0m \u001b[36m9\u001b[0m\n"
     ]
    }
   ],
   "source": [
    "model_obj_list_best = [best_model_obj]\n",
    "X_train, X_test, y_train, y_test = best_model_obj.get_data()\n",
    "\n",
    "df_feature_reduction = train_test_to_df(X_train, X_test, y_train, y_test, best_model_obj.get_features())\n",
    "\n",
    "for threshold in FEATURE_SEL_CORR[\"THRESHOLD_CORR\"]:\n",
    "    try: \n",
    "        rel_features = getRelFeatures(df_feature_reduction, threshold)\n",
    "        df_feature_reduction = df_feature_reduction[rel_features]\n",
    "        X_train, X_test, y_train, y_test = splitData(df_feature_reduction, SPLIT_SIZE)\n",
    "        comb = best_model_obj.get_comb()\n",
    "        best_model_obj_new = Model(best_model_obj.get_model(), (X_train, X_test, y_train, y_test), comb , df_feature_reduction, df_feature_reduction.columns.to_list())\n",
    "        model_obj_list_best.append(best_model_obj_new)\n",
    "\n",
    "    except Exception as e:\n",
    "        print(bold(\"Error\"), red(e))\n",
    "\n",
    "for m in model_obj_list_best:\n",
    "    print(m)"
   ]
  },
  {
   "cell_type": "markdown",
   "metadata": {},
   "source": [
    "### Manual"
   ]
  },
  {
   "cell_type": "code",
   "execution_count": 247,
   "metadata": {},
   "outputs": [
    {
     "name": "stdout",
     "output_type": "stream",
     "text": [
      "\u001b[1mModel:\u001b[0m \u001b[36mGradientBoostingRegressor(random_state=1)\u001b[0m \u001b[1mCombination:\u001b[0m \u001b[36m('z_score_10.1', 'noise_5_5_10')\u001b[0m \u001b[1mFeatures:\u001b[0m \u001b[36m24\u001b[0m\n",
      "\u001b[1mModel:\u001b[0m \u001b[36mGradientBoostingRegressor(random_state=1)\u001b[0m \u001b[1mCombination:\u001b[0m \u001b[36m('z_score_10.1', 'noise_5_5_10')\u001b[0m \u001b[1mFeatures:\u001b[0m \u001b[36m11\u001b[0m\n",
      "\u001b[1mModel:\u001b[0m \u001b[36mGradientBoostingRegressor(random_state=1)\u001b[0m \u001b[1mCombination:\u001b[0m \u001b[36m('z_score_10.1', 'noise_5_5_10')\u001b[0m \u001b[1mFeatures:\u001b[0m \u001b[36m9\u001b[0m\n",
      "\u001b[1mModel:\u001b[0m \u001b[36mGradientBoostingRegressor(random_state=1)\u001b[0m \u001b[1mCombination:\u001b[0m \u001b[36m('z_score_10.1', 'noise_5_5_10')\u001b[0m \u001b[1mFeatures:\u001b[0m \u001b[36m20\u001b[0m\n"
     ]
    }
   ],
   "source": [
    "# model_obj_list_best = [best_model_obj]\n",
    "if FEATURE_SEL_MANUAL == True:\n",
    "    X_train, X_test, y_train, y_test = best_model_obj.get_data()\n",
    "\n",
    "    df_feature_reduction_manual = train_test_to_df(X_train, X_test, y_train, y_test, best_model_obj.get_features())\n",
    "\n",
    "    rel_features = [\n",
    "    'price',\n",
    "    'bedrooms',\n",
    "    'bathrooms',\n",
    "    'sqft_living',\n",
    "    'sqft_lot',\n",
    "    'floors',\n",
    "    'waterfront',\n",
    "    'view',\n",
    "    'condition',\n",
    "    'grade',\n",
    "    'sqft_above',\n",
    "    'sqft_basement',\n",
    "    'yr_built',\n",
    "    'lat',\n",
    "    'long',\n",
    "    'sqft_living15',\n",
    "    'sqft_lot15',\n",
    "    'ahf1',\n",
    "    'ahf2',\n",
    "    'ahf3']\n",
    "\n",
    "    #'yr_renovated',\n",
    "    #'zipcode',\n",
    "    #'date'\n",
    "    #'id'\n",
    "\n",
    "    df_feature_reduction_manual = df_feature_reduction_manual[rel_features]\n",
    "    X_train, X_test, y_train, y_test = splitData(df_feature_reduction_manual, SPLIT_SIZE)\n",
    "    comb = best_model_obj.get_comb()\n",
    "    best_model_obj_new = Model(best_model_obj.get_model(), (X_train, X_test, y_train, y_test), comb , df_feature_reduction_manual, df_feature_reduction_manual.columns.to_list())\n",
    "    model_obj_list_best.append(best_model_obj_new)\n",
    "\n",
    "    for m in model_obj_list_best:\n",
    "        print(m)"
   ]
  },
  {
   "cell_type": "markdown",
   "metadata": {},
   "source": [
    "### Feature Slection Summary"
   ]
  },
  {
   "cell_type": "code",
   "execution_count": 248,
   "metadata": {},
   "outputs": [],
   "source": [
    "df_summary_best = pd.DataFrame(columns=['model', 'combo', 'mae', 'score', 'features'])\n",
    "for o in model_obj_list_best:\n",
    "    o.train()\n",
    "    mae, score = o.summary()\n",
    "    comb = o.get_comb()\n",
    "    features = o.get_features()\n",
    "    if \"price\" in features:\n",
    "        features.remove(\"price\")\n",
    "    row = {'model': \"GradientBoostingRegressor(random_state=1)\",'combo': comb, 'mae': mae, 'score': score, 'features': len(features)}\n",
    "    df_summary_best = df_summary_best.append(row, ignore_index=True)"
   ]
  },
  {
   "cell_type": "code",
   "execution_count": 249,
   "metadata": {},
   "outputs": [
    {
     "data": {
      "text/html": [
       "<div>\n",
       "<style scoped>\n",
       "    .dataframe tbody tr th:only-of-type {\n",
       "        vertical-align: middle;\n",
       "    }\n",
       "\n",
       "    .dataframe tbody tr th {\n",
       "        vertical-align: top;\n",
       "    }\n",
       "\n",
       "    .dataframe thead th {\n",
       "        text-align: right;\n",
       "    }\n",
       "</style>\n",
       "<table border=\"1\" class=\"dataframe\">\n",
       "  <thead>\n",
       "    <tr style=\"text-align: right;\">\n",
       "      <th></th>\n",
       "      <th>model</th>\n",
       "      <th>combo</th>\n",
       "      <th>mae</th>\n",
       "      <th>score</th>\n",
       "      <th>features</th>\n",
       "    </tr>\n",
       "  </thead>\n",
       "  <tbody>\n",
       "    <tr>\n",
       "      <th>0</th>\n",
       "      <td>GradientBoostingRegressor(random_state=1)</td>\n",
       "      <td>(z_score_10.1, noise_5_5_10)</td>\n",
       "      <td>79124.14</td>\n",
       "      <td>0.86054</td>\n",
       "      <td>23</td>\n",
       "    </tr>\n",
       "    <tr>\n",
       "      <th>3</th>\n",
       "      <td>GradientBoostingRegressor(random_state=1)</td>\n",
       "      <td>(z_score_10.1, noise_5_5_10)</td>\n",
       "      <td>82045.92</td>\n",
       "      <td>0.858956</td>\n",
       "      <td>19</td>\n",
       "    </tr>\n",
       "    <tr>\n",
       "      <th>1</th>\n",
       "      <td>GradientBoostingRegressor(random_state=1)</td>\n",
       "      <td>(z_score_10.1, noise_5_5_10)</td>\n",
       "      <td>95721.52</td>\n",
       "      <td>0.814615</td>\n",
       "      <td>10</td>\n",
       "    </tr>\n",
       "    <tr>\n",
       "      <th>2</th>\n",
       "      <td>GradientBoostingRegressor(random_state=1)</td>\n",
       "      <td>(z_score_10.1, noise_5_5_10)</td>\n",
       "      <td>100136.7</td>\n",
       "      <td>0.794204</td>\n",
       "      <td>8</td>\n",
       "    </tr>\n",
       "  </tbody>\n",
       "</table>\n",
       "</div>"
      ],
      "text/plain": [
       "                                       model                         combo  \\\n",
       "0  GradientBoostingRegressor(random_state=1)  (z_score_10.1, noise_5_5_10)   \n",
       "3  GradientBoostingRegressor(random_state=1)  (z_score_10.1, noise_5_5_10)   \n",
       "1  GradientBoostingRegressor(random_state=1)  (z_score_10.1, noise_5_5_10)   \n",
       "2  GradientBoostingRegressor(random_state=1)  (z_score_10.1, noise_5_5_10)   \n",
       "\n",
       "        mae     score features  \n",
       "0  79124.14   0.86054       23  \n",
       "3  82045.92  0.858956       19  \n",
       "1  95721.52  0.814615       10  \n",
       "2  100136.7  0.794204        8  "
      ]
     },
     "execution_count": 249,
     "metadata": {},
     "output_type": "execute_result"
    }
   ],
   "source": [
    "df_summary_best.sort_values(\"mae\")"
   ]
  },
  {
   "cell_type": "code",
   "execution_count": 250,
   "metadata": {},
   "outputs": [
    {
     "data": {
      "image/png": "[encoded data removed]",
      "text/plain": [
       "<Figure size 1440x504 with 1 Axes>"
      ]
     },
     "metadata": {
      "needs_background": "light"
     },
     "output_type": "display_data"
    }
   ],
   "source": [
    "plt.figure(figsize=(20,7))\n",
    "df_summary_grouped_model = df_summary_best.groupby(['features'])[\"mae\"].min()\n",
    "ax = df_summary_grouped_model.plot.barh(x='combo', y='mae')\n",
    "plt.xlim([75000, 105000])\n",
    "plt.show()"
   ]
  },
  {
   "cell_type": "markdown",
   "metadata": {},
   "source": [
    "## Select Best Model\n",
    "Saving the best prediction model into a Pickle File"
   ]
  },
  {
   "cell_type": "code",
   "execution_count": 251,
   "metadata": {},
   "outputs": [
    {
     "name": "stdout",
     "output_type": "stream",
     "text": [
      "\u001b[1mModel:\u001b[0m \u001b[36mGradientBoostingRegressor(random_state=1)\u001b[0m \u001b[1mCombination:\u001b[0m \u001b[36m('z_score_10.1', 'noise_5_5_10')\u001b[0m \u001b[1mFeatures:\u001b[0m \u001b[36m23\u001b[0m\n"
     ]
    }
   ],
   "source": [
    "saveModel(model_obj_list_best[0])\n",
    "loaded_object = loadModel()"
   ]
  },
  {
   "cell_type": "markdown",
   "metadata": {},
   "source": [
    "## Visualize"
   ]
  },
  {
   "cell_type": "code",
   "execution_count": 252,
   "metadata": {},
   "outputs": [
    {
     "data": {
      "image/png": "[encoded data removed]",
      "text/plain": [
       "<Figure size 1440x504 with 1 Axes>"
      ]
     },
     "metadata": {
      "needs_background": "light"
     },
     "output_type": "display_data"
    }
   ],
   "source": [
    "#Best Model\n",
    "df_baseline = X_test_base\n",
    "df_best = X_test_base[loaded_object.get_features()]\n",
    "loaded_object.train()\n",
    "reg_best = loaded_object.get_model()\n",
    "\n",
    "pre_best = reg_best.predict(df_best)\n",
    "\n",
    "df_baseline[\"price\"] = y_test_base.values\n",
    "df_baseline\n",
    "\n",
    "df_baseline[\"pred_best\"] = pre_best\n",
    "df_baseline[\"diff_best\"] = df_baseline[\"price\"] - df_baseline[\"pred_best\"]  \n",
    "\n",
    "#baseline Model\n",
    "\n",
    "df_baseline[\"pred_base\"] = ypred_base\n",
    "df_baseline[\"diff_base\"] = df_baseline[\"price\"] - df_baseline[\"pred_base\"]  \n",
    "\n",
    "plt.figure(figsize=(20,7))\n",
    "#Prediction der Modelle für die ersten 20 Zeilen\n",
    "x = 150\n",
    "w = 120\n",
    "df_baseline = df_baseline.sort_index(ascending=True)\n",
    "real = df_baseline.iloc[w:x, df_baseline.columns.get_loc(\"price\")]\n",
    "pred_base = df_baseline.iloc[w:x, df_baseline.columns.get_loc(\"pred_base\")]\n",
    "diff_base = df_baseline.iloc[w:x, df_baseline.columns.get_loc(\"diff_base\")]\n",
    "pred_best = df_baseline.iloc[w:x, df_baseline.columns.get_loc(\"pred_best\")]\n",
    "diff_best = df_baseline.iloc[w:x, df_baseline.columns.get_loc(\"diff_best\")]\n",
    "\n",
    "plt.plot(real, label=\"Price\")\n",
    "plt.plot(pred_base, \"gs\", ms=5, label=\"pred_baseline\")\n",
    "#plt.plot(diff_base, \"gs\", ms=5, label=\"diff_baseline\")\n",
    "plt.plot(pred_best, \"bo\", ms=5, label=\"pred_best\")\n",
    "#plt.plot(diff_best, \"bo\", ms=5, label=\"diff_best\")\n",
    "\n",
    "plt.tick_params(axis=\"x\", which=\"both\", bottom=False, top=False, labelbottom=False)\n",
    "plt.ylabel(\"Prediction in Millionen\")\n",
    "plt.xlabel(\"30 Labels\")\n",
    "plt.legend(loc=\"best\")\n",
    "\n",
    "plt.show()"
   ]
  },
  {
   "cell_type": "code",
   "execution_count": 253,
   "metadata": {},
   "outputs": [
    {
     "name": "stdout",
     "output_type": "stream",
     "text": [
      "79124.14\n",
      "128811.0 2\n"
     ]
    }
   ],
   "source": [
    "print(loaded_object.summary()[0])\n",
    "print(np.round(mae_base), 2)\n"
   ]
  }
 ],
 "metadata": {
  "kernelspec": {
   "display_name": "Python 3.9.7 ('base')",
   "language": "python",
   "name": "python3"
  },
  "language_info": {
   "codemirror_mode": {
    "name": "ipython",
    "version": 3
   },
   "file_extension": ".py",
   "mimetype": "text/x-python",
   "name": "python",
   "nbconvert_exporter": "python",
   "pygments_lexer": "ipython3",
   "version": "3.9.7"
  },
  "orig_nbformat": 4,
  "vscode": {
   "interpreter": {
    "hash": "49d1cf207c92197553c1326cc52484d1ee2809997f5109c15474876a3e083b6e"
   }
  }
 },
 "nbformat": 4,
 "nbformat_minor": 2
}
